{
 "cells": [
  {
   "cell_type": "markdown",
   "metadata": {},
   "source": [
    "### Motivation\n",
    "The purpose of this project is to put in practise new skills learned from my data science course at General Assembly.\n",
    "This dataset was taken from Kaggle and consists of observations from a bakery based on Edinburg old town."
   ]
  },
  {
   "cell_type": "markdown",
   "metadata": {},
   "source": [
    "### Importing all libraries"
   ]
  },
  {
   "cell_type": "code",
   "execution_count": 1,
   "metadata": {},
   "outputs": [
    {
     "data": {
      "text/html": [
       "<script type=\"text/javascript\">window.PlotlyConfig = {MathJaxConfig: 'local'};</script><script type=\"text/javascript\">if (window.MathJax) {MathJax.Hub.Config({SVG: {font: \"STIX-Web\"}});}</script><script>requirejs.config({paths: { 'plotly': ['https://cdn.plot.ly/plotly-latest.min']},});if(!window._Plotly) {require(['plotly'],function(plotly) {window._Plotly=plotly;});}</script>"
      ],
      "text/vnd.plotly.v1+html": [
       "<script type=\"text/javascript\">window.PlotlyConfig = {MathJaxConfig: 'local'};</script><script type=\"text/javascript\">if (window.MathJax) {MathJax.Hub.Config({SVG: {font: \"STIX-Web\"}});}</script><script>requirejs.config({paths: { 'plotly': ['https://cdn.plot.ly/plotly-latest.min']},});if(!window._Plotly) {require(['plotly'],function(plotly) {window._Plotly=plotly;});}</script>"
      ]
     },
     "metadata": {},
     "output_type": "display_data"
    }
   ],
   "source": [
    "import pandas as pd\n",
    "import matplotlib.pyplot as plt\n",
    "%matplotlib inline\n",
    "\n",
    "from pylab import figure, show, legend, ylabel\n",
    "import matplotlib.lines as mlines\n",
    "import matplotlib.pyplot as plt\n",
    "import matplotlib.dates as mdates\n",
    "\n",
    "import seaborn as sns\n",
    "\n",
    "import numpy as np\n",
    "from scipy import stats\n",
    "\n",
    "import plotly.graph_objs as go\n",
    "from plotly.offline import init_notebook_mode,  iplot\n",
    "init_notebook_mode(connected=True)"
   ]
  },
  {
   "cell_type": "markdown",
   "metadata": {},
   "source": [
    "### The following are some of the questions I want to answer\n",
    "- Can I predict future sales?\n",
    "\n",
    "- Could I explain the cause for unnormal periods where sales were really high or low?\n",
    "\n",
    "- Can we predict repetition of those events based maybe on weather or local events?<br>\n",
    "In order to be able to answer the questions above I will also use **weather dataset** as well as **local events data**."
   ]
  },
  {
   "cell_type": "markdown",
   "metadata": {},
   "source": [
    "### Opening the Bakery dataset"
   ]
  },
  {
   "cell_type": "code",
   "execution_count": 2,
   "metadata": {},
   "outputs": [
    {
     "data": {
      "text/html": [
       "<div>\n",
       "<style scoped>\n",
       "    .dataframe tbody tr th:only-of-type {\n",
       "        vertical-align: middle;\n",
       "    }\n",
       "\n",
       "    .dataframe tbody tr th {\n",
       "        vertical-align: top;\n",
       "    }\n",
       "\n",
       "    .dataframe thead th {\n",
       "        text-align: right;\n",
       "    }\n",
       "</style>\n",
       "<table border=\"1\" class=\"dataframe\">\n",
       "  <thead>\n",
       "    <tr style=\"text-align: right;\">\n",
       "      <th></th>\n",
       "      <th>Date</th>\n",
       "      <th>Time</th>\n",
       "      <th>Transaction</th>\n",
       "      <th>Item</th>\n",
       "    </tr>\n",
       "  </thead>\n",
       "  <tbody>\n",
       "    <tr>\n",
       "      <th>0</th>\n",
       "      <td>2016-10-30</td>\n",
       "      <td>09:58:11</td>\n",
       "      <td>1</td>\n",
       "      <td>Bread</td>\n",
       "    </tr>\n",
       "    <tr>\n",
       "      <th>1</th>\n",
       "      <td>2016-10-30</td>\n",
       "      <td>10:05:34</td>\n",
       "      <td>2</td>\n",
       "      <td>Scandinavian</td>\n",
       "    </tr>\n",
       "    <tr>\n",
       "      <th>2</th>\n",
       "      <td>2016-10-30</td>\n",
       "      <td>10:05:34</td>\n",
       "      <td>2</td>\n",
       "      <td>Scandinavian</td>\n",
       "    </tr>\n",
       "    <tr>\n",
       "      <th>3</th>\n",
       "      <td>2016-10-30</td>\n",
       "      <td>10:07:57</td>\n",
       "      <td>3</td>\n",
       "      <td>Hot chocolate</td>\n",
       "    </tr>\n",
       "    <tr>\n",
       "      <th>4</th>\n",
       "      <td>2016-10-30</td>\n",
       "      <td>10:07:57</td>\n",
       "      <td>3</td>\n",
       "      <td>Jam</td>\n",
       "    </tr>\n",
       "  </tbody>\n",
       "</table>\n",
       "</div>"
      ],
      "text/plain": [
       "         Date      Time  Transaction           Item\n",
       "0  2016-10-30  09:58:11            1          Bread\n",
       "1  2016-10-30  10:05:34            2   Scandinavian\n",
       "2  2016-10-30  10:05:34            2   Scandinavian\n",
       "3  2016-10-30  10:07:57            3  Hot chocolate\n",
       "4  2016-10-30  10:07:57            3            Jam"
      ]
     },
     "execution_count": 2,
     "metadata": {},
     "output_type": "execute_result"
    }
   ],
   "source": [
    "bakery = pd.read_csv('data/BreadBasket_DMS.csv')\n",
    "bakery.head()"
   ]
  },
  {
   "cell_type": "code",
   "execution_count": 3,
   "metadata": {},
   "outputs": [
    {
     "data": {
      "text/plain": [
       "(21293, 4)"
      ]
     },
     "execution_count": 3,
     "metadata": {},
     "output_type": "execute_result"
    }
   ],
   "source": [
    "bakery.shape"
   ]
  },
  {
   "cell_type": "markdown",
   "metadata": {},
   "source": [
    "### See total sells per item"
   ]
  },
  {
   "cell_type": "code",
   "execution_count": 4,
   "metadata": {},
   "outputs": [
    {
     "name": "stdout",
     "output_type": "stream",
     "text": [
      "Chimichurri Oil    2\n",
      "Hack the stack     2\n",
      "Adjustment         1\n",
      "Bacon              1\n",
      "Raw bars           1\n",
      "Polenta            1\n",
      "Chicken sand       1\n",
      "The BART           1\n",
      "Olum & polenta     1\n",
      "Gift voucher       1\n",
      "Name: Item, dtype: int64\n"
     ]
    }
   ],
   "source": [
    "#prints count of each item\n",
    "print(bakery['Item'].value_counts().tail(10))"
   ]
  },
  {
   "cell_type": "code",
   "execution_count": 5,
   "metadata": {},
   "outputs": [
    {
     "name": "stdout",
     "output_type": "stream",
     "text": [
      "Coffee           5471\n",
      "Bread            3325\n",
      "Tea              1435\n",
      "Cake             1025\n",
      "Pastry            856\n",
      "NONE              786\n",
      "Sandwich          771\n",
      "Medialuna         616\n",
      "Hot chocolate     590\n",
      "Cookies           540\n",
      "Name: Item, dtype: int64\n"
     ]
    }
   ],
   "source": [
    "#prints count of each item\n",
    "print(bakery['Item'].value_counts().head(10))"
   ]
  },
  {
   "cell_type": "markdown",
   "metadata": {},
   "source": [
    "- There is an item called 'NONE' there are in total 786 rows of it and one item called adjustment, but only one row of it, What are they? <br>This is what I see."
   ]
  },
  {
   "cell_type": "code",
   "execution_count": 6,
   "metadata": {},
   "outputs": [
    {
     "data": {
      "text/plain": [
       "Coffee    5471\n",
       "Bread     3325\n",
       "Tea       1435\n",
       "Cake      1025\n",
       "Pastry     856\n",
       "NONE       786\n",
       "Name: Item, dtype: int64"
      ]
     },
     "execution_count": 6,
     "metadata": {},
     "output_type": "execute_result"
    }
   ],
   "source": [
    "bakery['Item'].value_counts().head(6)"
   ]
  },
  {
   "cell_type": "code",
   "execution_count": 7,
   "metadata": {},
   "outputs": [
    {
     "data": {
      "text/html": [
       "<div>\n",
       "<style scoped>\n",
       "    .dataframe tbody tr th:only-of-type {\n",
       "        vertical-align: middle;\n",
       "    }\n",
       "\n",
       "    .dataframe tbody tr th {\n",
       "        vertical-align: top;\n",
       "    }\n",
       "\n",
       "    .dataframe thead th {\n",
       "        text-align: right;\n",
       "    }\n",
       "</style>\n",
       "<table border=\"1\" class=\"dataframe\">\n",
       "  <thead>\n",
       "    <tr style=\"text-align: right;\">\n",
       "      <th></th>\n",
       "      <th>Date</th>\n",
       "      <th>Time</th>\n",
       "      <th>Transaction</th>\n",
       "      <th>Item</th>\n",
       "    </tr>\n",
       "  </thead>\n",
       "  <tbody>\n",
       "    <tr>\n",
       "      <th>725</th>\n",
       "      <td>2016-11-03</td>\n",
       "      <td>08:49:23</td>\n",
       "      <td>348</td>\n",
       "      <td>Bread</td>\n",
       "    </tr>\n",
       "    <tr>\n",
       "      <th>726</th>\n",
       "      <td>2016-11-03</td>\n",
       "      <td>08:49:23</td>\n",
       "      <td>348</td>\n",
       "      <td>NONE</td>\n",
       "    </tr>\n",
       "    <tr>\n",
       "      <th>727</th>\n",
       "      <td>2016-11-03</td>\n",
       "      <td>08:49:23</td>\n",
       "      <td>348</td>\n",
       "      <td>Tea</td>\n",
       "    </tr>\n",
       "    <tr>\n",
       "      <th>728</th>\n",
       "      <td>2016-11-03</td>\n",
       "      <td>08:49:23</td>\n",
       "      <td>348</td>\n",
       "      <td>Sandwich</td>\n",
       "    </tr>\n",
       "  </tbody>\n",
       "</table>\n",
       "</div>"
      ],
      "text/plain": [
       "           Date      Time  Transaction      Item\n",
       "725  2016-11-03  08:49:23          348     Bread\n",
       "726  2016-11-03  08:49:23          348      NONE\n",
       "727  2016-11-03  08:49:23          348       Tea\n",
       "728  2016-11-03  08:49:23          348  Sandwich"
      ]
     },
     "execution_count": 7,
     "metadata": {},
     "output_type": "execute_result"
    }
   ],
   "source": [
    "bakery[bakery['Transaction']==348]"
   ]
  },
  {
   "cell_type": "code",
   "execution_count": 8,
   "metadata": {},
   "outputs": [
    {
     "data": {
      "text/html": [
       "<div>\n",
       "<style scoped>\n",
       "    .dataframe tbody tr th:only-of-type {\n",
       "        vertical-align: middle;\n",
       "    }\n",
       "\n",
       "    .dataframe tbody tr th {\n",
       "        vertical-align: top;\n",
       "    }\n",
       "\n",
       "    .dataframe thead th {\n",
       "        text-align: right;\n",
       "    }\n",
       "</style>\n",
       "<table border=\"1\" class=\"dataframe\">\n",
       "  <thead>\n",
       "    <tr style=\"text-align: right;\">\n",
       "      <th></th>\n",
       "      <th>Date</th>\n",
       "      <th>Time</th>\n",
       "      <th>Transaction</th>\n",
       "      <th>Item</th>\n",
       "    </tr>\n",
       "  </thead>\n",
       "  <tbody>\n",
       "    <tr>\n",
       "      <th>26</th>\n",
       "      <td>2016-10-30</td>\n",
       "      <td>10:27:21</td>\n",
       "      <td>11</td>\n",
       "      <td>NONE</td>\n",
       "    </tr>\n",
       "    <tr>\n",
       "      <th>38</th>\n",
       "      <td>2016-10-30</td>\n",
       "      <td>10:34:36</td>\n",
       "      <td>15</td>\n",
       "      <td>NONE</td>\n",
       "    </tr>\n",
       "    <tr>\n",
       "      <th>39</th>\n",
       "      <td>2016-10-30</td>\n",
       "      <td>10:34:36</td>\n",
       "      <td>15</td>\n",
       "      <td>NONE</td>\n",
       "    </tr>\n",
       "  </tbody>\n",
       "</table>\n",
       "</div>"
      ],
      "text/plain": [
       "          Date      Time  Transaction  Item\n",
       "26  2016-10-30  10:27:21           11  NONE\n",
       "38  2016-10-30  10:34:36           15  NONE\n",
       "39  2016-10-30  10:34:36           15  NONE"
      ]
     },
     "execution_count": 8,
     "metadata": {},
     "output_type": "execute_result"
    }
   ],
   "source": [
    "bakery[bakery['Item']== 'NONE'].head(3)"
   ]
  },
  {
   "cell_type": "markdown",
   "metadata": {},
   "source": [
    "### 'NONE' must be cancellation or errors, I am going to remove. I am going to remove the adjustments as well for the same reason."
   ]
  },
  {
   "cell_type": "code",
   "execution_count": 9,
   "metadata": {},
   "outputs": [],
   "source": [
    "bakery = bakery[bakery['Item'] != 'NONE']"
   ]
  },
  {
   "cell_type": "code",
   "execution_count": 10,
   "metadata": {},
   "outputs": [
    {
     "data": {
      "text/html": [
       "<div>\n",
       "<style scoped>\n",
       "    .dataframe tbody tr th:only-of-type {\n",
       "        vertical-align: middle;\n",
       "    }\n",
       "\n",
       "    .dataframe tbody tr th {\n",
       "        vertical-align: top;\n",
       "    }\n",
       "\n",
       "    .dataframe thead th {\n",
       "        text-align: right;\n",
       "    }\n",
       "</style>\n",
       "<table border=\"1\" class=\"dataframe\">\n",
       "  <thead>\n",
       "    <tr style=\"text-align: right;\">\n",
       "      <th></th>\n",
       "      <th>Date</th>\n",
       "      <th>Time</th>\n",
       "      <th>Transaction</th>\n",
       "      <th>Item</th>\n",
       "    </tr>\n",
       "  </thead>\n",
       "  <tbody>\n",
       "  </tbody>\n",
       "</table>\n",
       "</div>"
      ],
      "text/plain": [
       "Empty DataFrame\n",
       "Columns: [Date, Time, Transaction, Item]\n",
       "Index: []"
      ]
     },
     "execution_count": 10,
     "metadata": {},
     "output_type": "execute_result"
    }
   ],
   "source": [
    "bakery[bakery['Item'] == 'NONE']"
   ]
  },
  {
   "cell_type": "code",
   "execution_count": 11,
   "metadata": {},
   "outputs": [
    {
     "data": {
      "text/html": [
       "<div>\n",
       "<style scoped>\n",
       "    .dataframe tbody tr th:only-of-type {\n",
       "        vertical-align: middle;\n",
       "    }\n",
       "\n",
       "    .dataframe tbody tr th {\n",
       "        vertical-align: top;\n",
       "    }\n",
       "\n",
       "    .dataframe thead th {\n",
       "        text-align: right;\n",
       "    }\n",
       "</style>\n",
       "<table border=\"1\" class=\"dataframe\">\n",
       "  <thead>\n",
       "    <tr style=\"text-align: right;\">\n",
       "      <th></th>\n",
       "      <th>Date</th>\n",
       "      <th>Time</th>\n",
       "      <th>Transaction</th>\n",
       "      <th>Item</th>\n",
       "    </tr>\n",
       "  </thead>\n",
       "  <tbody>\n",
       "    <tr>\n",
       "      <th>1980</th>\n",
       "      <td>2016-11-09</td>\n",
       "      <td>19:49:22</td>\n",
       "      <td>938</td>\n",
       "      <td>Adjustment</td>\n",
       "    </tr>\n",
       "  </tbody>\n",
       "</table>\n",
       "</div>"
      ],
      "text/plain": [
       "            Date      Time  Transaction        Item\n",
       "1980  2016-11-09  19:49:22          938  Adjustment"
      ]
     },
     "execution_count": 11,
     "metadata": {},
     "output_type": "execute_result"
    }
   ],
   "source": [
    "bakery[bakery['Item'] == 'Adjustment']"
   ]
  },
  {
   "cell_type": "code",
   "execution_count": 12,
   "metadata": {},
   "outputs": [
    {
     "data": {
      "text/html": [
       "<div>\n",
       "<style scoped>\n",
       "    .dataframe tbody tr th:only-of-type {\n",
       "        vertical-align: middle;\n",
       "    }\n",
       "\n",
       "    .dataframe tbody tr th {\n",
       "        vertical-align: top;\n",
       "    }\n",
       "\n",
       "    .dataframe thead th {\n",
       "        text-align: right;\n",
       "    }\n",
       "</style>\n",
       "<table border=\"1\" class=\"dataframe\">\n",
       "  <thead>\n",
       "    <tr style=\"text-align: right;\">\n",
       "      <th></th>\n",
       "      <th>Date</th>\n",
       "      <th>Time</th>\n",
       "      <th>Transaction</th>\n",
       "      <th>Item</th>\n",
       "    </tr>\n",
       "  </thead>\n",
       "  <tbody>\n",
       "    <tr>\n",
       "      <th>1980</th>\n",
       "      <td>2016-11-09</td>\n",
       "      <td>19:49:22</td>\n",
       "      <td>938</td>\n",
       "      <td>Adjustment</td>\n",
       "    </tr>\n",
       "  </tbody>\n",
       "</table>\n",
       "</div>"
      ],
      "text/plain": [
       "            Date      Time  Transaction        Item\n",
       "1980  2016-11-09  19:49:22          938  Adjustment"
      ]
     },
     "execution_count": 12,
     "metadata": {},
     "output_type": "execute_result"
    }
   ],
   "source": [
    "bakery[bakery['Transaction'] == 938]"
   ]
  },
  {
   "cell_type": "code",
   "execution_count": 13,
   "metadata": {},
   "outputs": [],
   "source": [
    "bakery = bakery[bakery['Item'] != 'Adjustment']"
   ]
  },
  {
   "cell_type": "markdown",
   "metadata": {},
   "source": [
    "### Checking to see if there are missing values"
   ]
  },
  {
   "cell_type": "code",
   "execution_count": 14,
   "metadata": {},
   "outputs": [
    {
     "data": {
      "text/plain": [
       "Date           0\n",
       "Time           0\n",
       "Transaction    0\n",
       "Item           0\n",
       "dtype: int64"
      ]
     },
     "execution_count": 14,
     "metadata": {},
     "output_type": "execute_result"
    }
   ],
   "source": [
    "#we do not have mising values\n",
    "bakery.isnull().sum()"
   ]
  },
  {
   "cell_type": "markdown",
   "metadata": {},
   "source": [
    "### The first and last date in bakery dataset"
   ]
  },
  {
   "cell_type": "code",
   "execution_count": 15,
   "metadata": {},
   "outputs": [
    {
     "data": {
      "text/plain": [
       "'2016-10-30'"
      ]
     },
     "execution_count": 15,
     "metadata": {},
     "output_type": "execute_result"
    }
   ],
   "source": [
    "bakery['Date'].min()"
   ]
  },
  {
   "cell_type": "code",
   "execution_count": 16,
   "metadata": {},
   "outputs": [
    {
     "data": {
      "text/plain": [
       "'2017-04-09'"
      ]
     },
     "execution_count": 16,
     "metadata": {},
     "output_type": "execute_result"
    }
   ],
   "source": [
    "bakery['Date'].max()"
   ]
  },
  {
   "cell_type": "code",
   "execution_count": 17,
   "metadata": {},
   "outputs": [
    {
     "name": "stdout",
     "output_type": "stream",
     "text": [
      "         Date      Time  Transaction           Item\n",
      "0  2016-10-30  09:58:11            1          Bread\n",
      "1  2016-10-30  10:05:34            2   Scandinavian\n",
      "2  2016-10-30  10:05:34            2   Scandinavian\n",
      "3  2016-10-30  10:07:57            3  Hot chocolate\n",
      "4  2016-10-30  10:07:57            3            Jam\n"
     ]
    },
    {
     "data": {
      "text/plain": [
       "Date           object\n",
       "Time           object\n",
       "Transaction     int64\n",
       "Item           object\n",
       "dtype: object"
      ]
     },
     "execution_count": 17,
     "metadata": {},
     "output_type": "execute_result"
    }
   ],
   "source": [
    "print(bakery.head())\n",
    "bakery.dtypes\n",
    "#Date is an object, need to chage to proper date"
   ]
  },
  {
   "cell_type": "markdown",
   "metadata": {},
   "source": [
    "### Need to change date and time to datetime"
   ]
  },
  {
   "cell_type": "code",
   "execution_count": 18,
   "metadata": {},
   "outputs": [
    {
     "name": "stdout",
     "output_type": "stream",
     "text": [
      "Date                   object\n",
      "Time                   object\n",
      "Transaction             int64\n",
      "Item                   object\n",
      "Date_Time      datetime64[ns]\n",
      "dtype: object\n"
     ]
    }
   ],
   "source": [
    "#covert to datetime\n",
    "bakery['Date_Time'] = pd.to_datetime(bakery['Date'].apply(str)+' '+bakery['Time'],format=\"%Y/%m/%d %H:%M:%S\")\n",
    "\n",
    "#todatetime \n",
    "print(bakery.dtypes)"
   ]
  },
  {
   "cell_type": "code",
   "execution_count": 19,
   "metadata": {},
   "outputs": [
    {
     "data": {
      "text/html": [
       "<div>\n",
       "<style scoped>\n",
       "    .dataframe tbody tr th:only-of-type {\n",
       "        vertical-align: middle;\n",
       "    }\n",
       "\n",
       "    .dataframe tbody tr th {\n",
       "        vertical-align: top;\n",
       "    }\n",
       "\n",
       "    .dataframe thead th {\n",
       "        text-align: right;\n",
       "    }\n",
       "</style>\n",
       "<table border=\"1\" class=\"dataframe\">\n",
       "  <thead>\n",
       "    <tr style=\"text-align: right;\">\n",
       "      <th></th>\n",
       "      <th>Date</th>\n",
       "      <th>Time</th>\n",
       "      <th>Transaction</th>\n",
       "      <th>Item</th>\n",
       "      <th>Date_Time</th>\n",
       "    </tr>\n",
       "  </thead>\n",
       "  <tbody>\n",
       "    <tr>\n",
       "      <th>0</th>\n",
       "      <td>2016-10-30</td>\n",
       "      <td>09:58:11</td>\n",
       "      <td>1</td>\n",
       "      <td>Bread</td>\n",
       "      <td>2016-10-30 09:58:11</td>\n",
       "    </tr>\n",
       "    <tr>\n",
       "      <th>1</th>\n",
       "      <td>2016-10-30</td>\n",
       "      <td>10:05:34</td>\n",
       "      <td>2</td>\n",
       "      <td>Scandinavian</td>\n",
       "      <td>2016-10-30 10:05:34</td>\n",
       "    </tr>\n",
       "    <tr>\n",
       "      <th>2</th>\n",
       "      <td>2016-10-30</td>\n",
       "      <td>10:05:34</td>\n",
       "      <td>2</td>\n",
       "      <td>Scandinavian</td>\n",
       "      <td>2016-10-30 10:05:34</td>\n",
       "    </tr>\n",
       "    <tr>\n",
       "      <th>3</th>\n",
       "      <td>2016-10-30</td>\n",
       "      <td>10:07:57</td>\n",
       "      <td>3</td>\n",
       "      <td>Hot chocolate</td>\n",
       "      <td>2016-10-30 10:07:57</td>\n",
       "    </tr>\n",
       "    <tr>\n",
       "      <th>4</th>\n",
       "      <td>2016-10-30</td>\n",
       "      <td>10:07:57</td>\n",
       "      <td>3</td>\n",
       "      <td>Jam</td>\n",
       "      <td>2016-10-30 10:07:57</td>\n",
       "    </tr>\n",
       "  </tbody>\n",
       "</table>\n",
       "</div>"
      ],
      "text/plain": [
       "         Date      Time  Transaction           Item           Date_Time\n",
       "0  2016-10-30  09:58:11            1          Bread 2016-10-30 09:58:11\n",
       "1  2016-10-30  10:05:34            2   Scandinavian 2016-10-30 10:05:34\n",
       "2  2016-10-30  10:05:34            2   Scandinavian 2016-10-30 10:05:34\n",
       "3  2016-10-30  10:07:57            3  Hot chocolate 2016-10-30 10:07:57\n",
       "4  2016-10-30  10:07:57            3            Jam 2016-10-30 10:07:57"
      ]
     },
     "execution_count": 19,
     "metadata": {},
     "output_type": "execute_result"
    }
   ],
   "source": [
    "bakery.head()"
   ]
  },
  {
   "cell_type": "markdown",
   "metadata": {},
   "source": [
    "### Adding day of the week, to see which day is the most or least popular and similar for months"
   ]
  },
  {
   "cell_type": "code",
   "execution_count": 20,
   "metadata": {},
   "outputs": [],
   "source": [
    "bakery['Day_of_Week'] = bakery['Date_Time'].dt.weekday_name"
   ]
  },
  {
   "cell_type": "markdown",
   "metadata": {},
   "source": [
    "### Save clean dataset to excel As I like to explore in more detail the items list."
   ]
  },
  {
   "cell_type": "code",
   "execution_count": 21,
   "metadata": {},
   "outputs": [],
   "source": [
    "bakery.to_excel('data/cleanBakeryDF.xlsx', sheet_name='Sheet1')"
   ]
  },
  {
   "cell_type": "markdown",
   "metadata": {},
   "source": [
    "- Adding month"
   ]
  },
  {
   "cell_type": "code",
   "execution_count": 22,
   "metadata": {},
   "outputs": [],
   "source": [
    "bakery['Month'] = bakery['Date_Time'].dt.month"
   ]
  },
  {
   "cell_type": "code",
   "execution_count": 23,
   "metadata": {},
   "outputs": [
    {
     "data": {
      "text/plain": [
       "0    10\n",
       "Name: Month, dtype: int64"
      ]
     },
     "execution_count": 23,
     "metadata": {},
     "output_type": "execute_result"
    }
   ],
   "source": [
    "#First month should be October\n",
    "bakery['Month'].head(1)"
   ]
  },
  {
   "cell_type": "code",
   "execution_count": 24,
   "metadata": {},
   "outputs": [
    {
     "data": {
      "text/plain": [
       "21292    4\n",
       "Name: Month, dtype: int64"
      ]
     },
     "execution_count": 24,
     "metadata": {},
     "output_type": "execute_result"
    }
   ],
   "source": [
    "#Last month should be April\n",
    "bakery['Month'].tail(1)"
   ]
  },
  {
   "cell_type": "markdown",
   "metadata": {},
   "source": [
    "- This will add another column representing month in order"
   ]
  },
  {
   "cell_type": "code",
   "execution_count": 25,
   "metadata": {},
   "outputs": [],
   "source": [
    "#Dictionary to map months in order\n",
    "mo = {10 : 1, 11 : 2, 12 : 3 , 1 : 4 , 2 : 5 , 3 : 6 , 4 : 7}\n",
    " \n",
    "m = bakery['Month']\n",
    "bakery['Month_Order'] = m.map(mo)"
   ]
  },
  {
   "cell_type": "markdown",
   "metadata": {},
   "source": [
    "- Adding seasons"
   ]
  },
  {
   "cell_type": "code",
   "execution_count": 26,
   "metadata": {},
   "outputs": [],
   "source": [
    "#adding season\n",
    "##Dictionary to map month to season\n",
    "x = {1 : 'Winter', 2 :'Winter', 3 :'Spring',4:'Spring',5:'Spring',6:'Summer',7:'Summer',8:'Summer',9:'Autumn',10:'Autumn',11:'Autumn',12:'Winter'}\n",
    "\n",
    "y = bakery['Month']\n",
    "bakery['Season'] = y.map(x)"
   ]
  },
  {
   "cell_type": "code",
   "execution_count": 27,
   "metadata": {},
   "outputs": [
    {
     "data": {
      "text/html": [
       "<div>\n",
       "<style scoped>\n",
       "    .dataframe tbody tr th:only-of-type {\n",
       "        vertical-align: middle;\n",
       "    }\n",
       "\n",
       "    .dataframe tbody tr th {\n",
       "        vertical-align: top;\n",
       "    }\n",
       "\n",
       "    .dataframe thead th {\n",
       "        text-align: right;\n",
       "    }\n",
       "</style>\n",
       "<table border=\"1\" class=\"dataframe\">\n",
       "  <thead>\n",
       "    <tr style=\"text-align: right;\">\n",
       "      <th></th>\n",
       "      <th>Date</th>\n",
       "      <th>Time</th>\n",
       "      <th>Transaction</th>\n",
       "      <th>Item</th>\n",
       "      <th>Date_Time</th>\n",
       "      <th>Day_of_Week</th>\n",
       "      <th>Month</th>\n",
       "      <th>Month_Order</th>\n",
       "      <th>Season</th>\n",
       "    </tr>\n",
       "  </thead>\n",
       "  <tbody>\n",
       "    <tr>\n",
       "      <th>0</th>\n",
       "      <td>2016-10-30</td>\n",
       "      <td>09:58:11</td>\n",
       "      <td>1</td>\n",
       "      <td>Bread</td>\n",
       "      <td>2016-10-30 09:58:11</td>\n",
       "      <td>Sunday</td>\n",
       "      <td>10</td>\n",
       "      <td>1</td>\n",
       "      <td>Autumn</td>\n",
       "    </tr>\n",
       "    <tr>\n",
       "      <th>1</th>\n",
       "      <td>2016-10-30</td>\n",
       "      <td>10:05:34</td>\n",
       "      <td>2</td>\n",
       "      <td>Scandinavian</td>\n",
       "      <td>2016-10-30 10:05:34</td>\n",
       "      <td>Sunday</td>\n",
       "      <td>10</td>\n",
       "      <td>1</td>\n",
       "      <td>Autumn</td>\n",
       "    </tr>\n",
       "  </tbody>\n",
       "</table>\n",
       "</div>"
      ],
      "text/plain": [
       "         Date      Time  Transaction          Item           Date_Time  \\\n",
       "0  2016-10-30  09:58:11            1         Bread 2016-10-30 09:58:11   \n",
       "1  2016-10-30  10:05:34            2  Scandinavian 2016-10-30 10:05:34   \n",
       "\n",
       "  Day_of_Week  Month  Month_Order  Season  \n",
       "0      Sunday     10            1  Autumn  \n",
       "1      Sunday     10            1  Autumn  "
      ]
     },
     "execution_count": 27,
     "metadata": {},
     "output_type": "execute_result"
    }
   ],
   "source": [
    "bakery.head(2)"
   ]
  },
  {
   "cell_type": "markdown",
   "metadata": {},
   "source": [
    "- Exploring sales for the first day\n",
    "Coffee is the most sold item, followed by bread "
   ]
  },
  {
   "cell_type": "code",
   "execution_count": 28,
   "metadata": {},
   "outputs": [
    {
     "data": {
      "text/plain": [
       "<matplotlib.axes._subplots.AxesSubplot at 0x1bdeadec198>"
      ]
     },
     "execution_count": 28,
     "metadata": {},
     "output_type": "execute_result"
    },
    {
     "data": {
      "image/png": "[encoded data removed]",
      "text/plain": [
       "<Figure size 432x288 with 1 Axes>"
      ]
     },
     "metadata": {
      "needs_background": "light"
     },
     "output_type": "display_data"
    }
   ],
   "source": [
    "bakery.loc[(pd.to_datetime(bakery['Date_Time'].dt.date) == '2016-10-30')].groupby(['Item'])['Transaction'].count().plot.bar()"
   ]
  },
  {
   "cell_type": "markdown",
   "metadata": {},
   "source": [
    "There is one transaction at 1:21 in the morning. That currently is not included in the sessions. It was the sale of one bread.\n",
    "\n",
    "**I may add it to afternoon session for completeness****"
   ]
  },
  {
   "cell_type": "code",
   "execution_count": 29,
   "metadata": {},
   "outputs": [
    {
     "data": {
      "text/html": [
       "<div>\n",
       "<style scoped>\n",
       "    .dataframe tbody tr th:only-of-type {\n",
       "        vertical-align: middle;\n",
       "    }\n",
       "\n",
       "    .dataframe tbody tr th {\n",
       "        vertical-align: top;\n",
       "    }\n",
       "\n",
       "    .dataframe thead th {\n",
       "        text-align: right;\n",
       "    }\n",
       "</style>\n",
       "<table border=\"1\" class=\"dataframe\">\n",
       "  <thead>\n",
       "    <tr style=\"text-align: right;\">\n",
       "      <th></th>\n",
       "      <th>Date</th>\n",
       "      <th>Time</th>\n",
       "      <th>Transaction</th>\n",
       "      <th>Item</th>\n",
       "      <th>Date_Time</th>\n",
       "      <th>Day_of_Week</th>\n",
       "      <th>Month</th>\n",
       "      <th>Month_Order</th>\n",
       "      <th>Season</th>\n",
       "    </tr>\n",
       "  </thead>\n",
       "  <tbody>\n",
       "    <tr>\n",
       "      <th>8561</th>\n",
       "      <td>2017-01-01</td>\n",
       "      <td>01:21:05</td>\n",
       "      <td>4090</td>\n",
       "      <td>Bread</td>\n",
       "      <td>2017-01-01 01:21:05</td>\n",
       "      <td>Sunday</td>\n",
       "      <td>1</td>\n",
       "      <td>4</td>\n",
       "      <td>Winter</td>\n",
       "    </tr>\n",
       "  </tbody>\n",
       "</table>\n",
       "</div>"
      ],
      "text/plain": [
       "            Date      Time  Transaction   Item           Date_Time  \\\n",
       "8561  2017-01-01  01:21:05         4090  Bread 2017-01-01 01:21:05   \n",
       "\n",
       "     Day_of_Week  Month  Month_Order  Season  \n",
       "8561      Sunday      1            4  Winter  "
      ]
     },
     "execution_count": 29,
     "metadata": {},
     "output_type": "execute_result"
    }
   ],
   "source": [
    "bakery[bakery['Time'] == '01:21:05']"
   ]
  },
  {
   "cell_type": "markdown",
   "metadata": {},
   "source": [
    "- Adding another column for hour, to see the most/least busy hours. This info can be use to determine number of staff that needs working.<br> Around midday is when it is most busy. Lunch time"
   ]
  },
  {
   "cell_type": "code",
   "execution_count": 30,
   "metadata": {},
   "outputs": [],
   "source": [
    "bakery['Hour'] = bakery['Date_Time'].dt.hour"
   ]
  },
  {
   "cell_type": "code",
   "execution_count": 31,
   "metadata": {},
   "outputs": [
    {
     "data": {
      "text/plain": [
       "11    3102\n",
       "12    2854\n",
       "10    2666\n",
       "14    2640\n",
       "13    2617\n",
       "15    2115\n",
       "9     1966\n",
       "16    1343\n",
       "8      645\n",
       "17     368\n",
       "18      82\n",
       "19      47\n",
       "7       24\n",
       "20      22\n",
       "22       8\n",
       "23       3\n",
       "21       3\n",
       "1        1\n",
       "Name: Hour, dtype: int64"
      ]
     },
     "execution_count": 31,
     "metadata": {},
     "output_type": "execute_result"
    }
   ],
   "source": [
    "bakery['Hour'].value_counts()"
   ]
  },
  {
   "cell_type": "markdown",
   "metadata": {},
   "source": [
    "- Adding sessions as well."
   ]
  },
  {
   "cell_type": "code",
   "execution_count": 32,
   "metadata": {},
   "outputs": [],
   "source": [
    "#Dictionary to map session\n",
    "t = {7 : 'Morning', 8 :'Morning', 9 :'Morning',10:'Morning',11:'Morning',12:'Morning',13:'Afternoon',14:'Afternoon',15:'Afternoon',16:'Afternoon',17:'Afternoon',18:'Afternoon',19:'Evening',20:'Evening',21:'Evening',22:'Evening',23:'Evening'}\n",
    "\n",
    "h = bakery['Hour']\n",
    "bakery['Session'] = h.map(t)"
   ]
  },
  {
   "cell_type": "markdown",
   "metadata": {},
   "source": [
    " - I am creating a dictionary getting data from excel. Mapping items to category, which is food or drink."
   ]
  },
  {
   "cell_type": "code",
   "execution_count": 33,
   "metadata": {},
   "outputs": [],
   "source": [
    "#adding categories to items\n",
    "from __future__ import print_function\n",
    "from os.path import join, dirname, abspath\n",
    "import xlrd\n",
    "\n",
    "d = {}\n",
    "wb = xlrd.open_workbook('data\\items_dictionary.xlsx')\n",
    "sh = wb.sheet_by_name('sheet1') \n",
    "\n",
    "for i in range(sh.nrows):\n",
    "    cell_value_id = sh.cell_value(i,0)\n",
    "    cell_value_class = sh.cell_value(i,1)\n",
    "    d[cell_value_id] = cell_value_class\n",
    "    "
   ]
  },
  {
   "cell_type": "code",
   "execution_count": 34,
   "metadata": {},
   "outputs": [],
   "source": [
    "it = bakery['Item']\n",
    "bakery['Category'] = it.map(d)"
   ]
  },
  {
   "cell_type": "code",
   "execution_count": 35,
   "metadata": {},
   "outputs": [
    {
     "data": {
      "text/html": [
       "<div>\n",
       "<style scoped>\n",
       "    .dataframe tbody tr th:only-of-type {\n",
       "        vertical-align: middle;\n",
       "    }\n",
       "\n",
       "    .dataframe tbody tr th {\n",
       "        vertical-align: top;\n",
       "    }\n",
       "\n",
       "    .dataframe thead th {\n",
       "        text-align: right;\n",
       "    }\n",
       "</style>\n",
       "<table border=\"1\" class=\"dataframe\">\n",
       "  <thead>\n",
       "    <tr style=\"text-align: right;\">\n",
       "      <th></th>\n",
       "      <th>Date</th>\n",
       "      <th>Time</th>\n",
       "      <th>Transaction</th>\n",
       "      <th>Item</th>\n",
       "      <th>Date_Time</th>\n",
       "      <th>Day_of_Week</th>\n",
       "      <th>Month</th>\n",
       "      <th>Month_Order</th>\n",
       "      <th>Season</th>\n",
       "      <th>Hour</th>\n",
       "      <th>Session</th>\n",
       "      <th>Category</th>\n",
       "    </tr>\n",
       "  </thead>\n",
       "  <tbody>\n",
       "    <tr>\n",
       "      <th>0</th>\n",
       "      <td>2016-10-30</td>\n",
       "      <td>09:58:11</td>\n",
       "      <td>1</td>\n",
       "      <td>Bread</td>\n",
       "      <td>2016-10-30 09:58:11</td>\n",
       "      <td>Sunday</td>\n",
       "      <td>10</td>\n",
       "      <td>1</td>\n",
       "      <td>Autumn</td>\n",
       "      <td>9</td>\n",
       "      <td>Morning</td>\n",
       "      <td>Food</td>\n",
       "    </tr>\n",
       "  </tbody>\n",
       "</table>\n",
       "</div>"
      ],
      "text/plain": [
       "         Date      Time  Transaction   Item           Date_Time Day_of_Week  \\\n",
       "0  2016-10-30  09:58:11            1  Bread 2016-10-30 09:58:11      Sunday   \n",
       "\n",
       "   Month  Month_Order  Season  Hour  Session Category  \n",
       "0     10            1  Autumn     9  Morning     Food  "
      ]
     },
     "execution_count": 35,
     "metadata": {},
     "output_type": "execute_result"
    }
   ],
   "source": [
    "bakery.head(1)"
   ]
  },
  {
   "cell_type": "markdown",
   "metadata": {},
   "source": [
    "### Overall the bakery sells more food than drinks, as expected"
   ]
  },
  {
   "cell_type": "code",
   "execution_count": 36,
   "metadata": {},
   "outputs": [
    {
     "data": {
      "text/plain": [
       "<matplotlib.axes._subplots.AxesSubplot at 0x1bdea5e5a90>"
      ]
     },
     "execution_count": 36,
     "metadata": {},
     "output_type": "execute_result"
    },
    {
     "data": {
      "image/png": "[encoded data removed]",
      "text/plain": [
       "<Figure size 432x288 with 1 Axes>"
      ]
     },
     "metadata": {
      "needs_background": "light"
     },
     "output_type": "display_data"
    }
   ],
   "source": [
    "bakery.loc[(pd.to_datetime(bakery['Date_Time'].dt.date) == '2016-10-30')].groupby(['Category'])['Transaction'].count().plot.bar()"
   ]
  },
  {
   "cell_type": "markdown",
   "metadata": {},
   "source": [
    "### Extracting a few more features from datetime to see if can get any more info."
   ]
  },
  {
   "cell_type": "code",
   "execution_count": 37,
   "metadata": {},
   "outputs": [],
   "source": [
    "bakery['Hourly'] = bakery['Date_Time'].dt.to_period('H')"
   ]
  },
  {
   "cell_type": "code",
   "execution_count": 38,
   "metadata": {},
   "outputs": [],
   "source": [
    "bakery['Hourly'] = pd.to_datetime(bakery['Hourly'].apply(str),format=\"%Y/%m/%d %H:%M:%S\")"
   ]
  },
  {
   "cell_type": "code",
   "execution_count": 39,
   "metadata": {},
   "outputs": [],
   "source": [
    "bakery['Monthly'] = pd.to_datetime(bakery['Date_Time']).dt.to_period('M')"
   ]
  },
  {
   "cell_type": "code",
   "execution_count": 40,
   "metadata": {},
   "outputs": [],
   "source": [
    "bakery['Weekly'] = pd.to_datetime(bakery['Date_Time']).dt.to_period('W')"
   ]
  },
  {
   "cell_type": "markdown",
   "metadata": {},
   "source": [
    "### Loading temperature dataset."
   ]
  },
  {
   "cell_type": "code",
   "execution_count": 41,
   "metadata": {},
   "outputs": [],
   "source": [
    "temp_data = pd.read_csv('Data/temp_data.csv')"
   ]
  },
  {
   "cell_type": "markdown",
   "metadata": {},
   "source": [
    "### Changing datatype of hourly in temperature dataset to datetime"
   ]
  },
  {
   "cell_type": "code",
   "execution_count": 42,
   "metadata": {},
   "outputs": [],
   "source": [
    "temp_data['Hourly'] = pd.to_datetime(temp_data['Hourly'].apply(str), format = '%Y/%m/%d %H:%M:%S')"
   ]
  },
  {
   "cell_type": "code",
   "execution_count": 43,
   "metadata": {},
   "outputs": [
    {
     "data": {
      "text/html": [
       "<div>\n",
       "<style scoped>\n",
       "    .dataframe tbody tr th:only-of-type {\n",
       "        vertical-align: middle;\n",
       "    }\n",
       "\n",
       "    .dataframe tbody tr th {\n",
       "        vertical-align: top;\n",
       "    }\n",
       "\n",
       "    .dataframe thead th {\n",
       "        text-align: right;\n",
       "    }\n",
       "</style>\n",
       "<table border=\"1\" class=\"dataframe\">\n",
       "  <thead>\n",
       "    <tr style=\"text-align: right;\">\n",
       "      <th></th>\n",
       "      <th>Unnamed: 0</th>\n",
       "      <th>time</th>\n",
       "      <th>temperature</th>\n",
       "      <th>Hourly</th>\n",
       "    </tr>\n",
       "  </thead>\n",
       "  <tbody>\n",
       "    <tr>\n",
       "      <th>0</th>\n",
       "      <td>379620</td>\n",
       "      <td>752377.0</td>\n",
       "      <td>11.0</td>\n",
       "      <td>2016-10-30 01:00:00</td>\n",
       "    </tr>\n",
       "    <tr>\n",
       "      <th>1</th>\n",
       "      <td>379621</td>\n",
       "      <td>752378.0</td>\n",
       "      <td>10.0</td>\n",
       "      <td>2016-10-30 02:00:00</td>\n",
       "    </tr>\n",
       "    <tr>\n",
       "      <th>2</th>\n",
       "      <td>379622</td>\n",
       "      <td>752379.0</td>\n",
       "      <td>11.0</td>\n",
       "      <td>2016-10-30 03:00:00</td>\n",
       "    </tr>\n",
       "    <tr>\n",
       "      <th>3</th>\n",
       "      <td>379623</td>\n",
       "      <td>752380.0</td>\n",
       "      <td>10.0</td>\n",
       "      <td>2016-10-30 04:00:00</td>\n",
       "    </tr>\n",
       "    <tr>\n",
       "      <th>4</th>\n",
       "      <td>379624</td>\n",
       "      <td>752381.0</td>\n",
       "      <td>10.0</td>\n",
       "      <td>2016-10-30 05:00:00</td>\n",
       "    </tr>\n",
       "  </tbody>\n",
       "</table>\n",
       "</div>"
      ],
      "text/plain": [
       "   Unnamed: 0      time  temperature              Hourly\n",
       "0      379620  752377.0         11.0 2016-10-30 01:00:00\n",
       "1      379621  752378.0         10.0 2016-10-30 02:00:00\n",
       "2      379622  752379.0         11.0 2016-10-30 03:00:00\n",
       "3      379623  752380.0         10.0 2016-10-30 04:00:00\n",
       "4      379624  752381.0         10.0 2016-10-30 05:00:00"
      ]
     },
     "execution_count": 43,
     "metadata": {},
     "output_type": "execute_result"
    }
   ],
   "source": [
    "temp_data.head()"
   ]
  },
  {
   "cell_type": "code",
   "execution_count": 44,
   "metadata": {},
   "outputs": [
    {
     "data": {
      "text/plain": [
       "Unnamed: 0     0\n",
       "time           0\n",
       "temperature    0\n",
       "Hourly         0\n",
       "dtype: int64"
      ]
     },
     "execution_count": 44,
     "metadata": {},
     "output_type": "execute_result"
    }
   ],
   "source": [
    "temp_data.isnull().sum()"
   ]
  },
  {
   "cell_type": "code",
   "execution_count": 45,
   "metadata": {},
   "outputs": [],
   "source": [
    "dates_for_graph =bakery['Date'].value_counts().sort_index()"
   ]
  },
  {
   "cell_type": "markdown",
   "metadata": {},
   "source": [
    "### Merging the two datasets."
   ]
  },
  {
   "cell_type": "code",
   "execution_count": 46,
   "metadata": {},
   "outputs": [],
   "source": [
    "bakery_temp = pd.merge(bakery, temp_data, on='Hourly', how='left')"
   ]
  },
  {
   "cell_type": "code",
   "execution_count": 47,
   "metadata": {},
   "outputs": [
    {
     "data": {
      "text/html": [
       "<div>\n",
       "<style scoped>\n",
       "    .dataframe tbody tr th:only-of-type {\n",
       "        vertical-align: middle;\n",
       "    }\n",
       "\n",
       "    .dataframe tbody tr th {\n",
       "        vertical-align: top;\n",
       "    }\n",
       "\n",
       "    .dataframe thead th {\n",
       "        text-align: right;\n",
       "    }\n",
       "</style>\n",
       "<table border=\"1\" class=\"dataframe\">\n",
       "  <thead>\n",
       "    <tr style=\"text-align: right;\">\n",
       "      <th></th>\n",
       "      <th>Transaction</th>\n",
       "      <th>Month</th>\n",
       "      <th>Month_Order</th>\n",
       "      <th>Hour</th>\n",
       "      <th>Unnamed: 0</th>\n",
       "      <th>time</th>\n",
       "      <th>temperature</th>\n",
       "    </tr>\n",
       "  </thead>\n",
       "  <tbody>\n",
       "    <tr>\n",
       "      <th>count</th>\n",
       "      <td>20506.000000</td>\n",
       "      <td>20506.000000</td>\n",
       "      <td>20506.000000</td>\n",
       "      <td>20506.000000</td>\n",
       "      <td>20314.000000</td>\n",
       "      <td>20314.000000</td>\n",
       "      <td>20314.000000</td>\n",
       "    </tr>\n",
       "    <tr>\n",
       "      <th>mean</th>\n",
       "      <td>4976.399298</td>\n",
       "      <td>5.860285</td>\n",
       "      <td>4.095045</td>\n",
       "      <td>12.270555</td>\n",
       "      <td>381516.639707</td>\n",
       "      <td>754311.461504</td>\n",
       "      <td>7.225263</td>\n",
       "    </tr>\n",
       "    <tr>\n",
       "      <th>std</th>\n",
       "      <td>2796.128971</td>\n",
       "      <td>4.542480</td>\n",
       "      <td>1.627455</td>\n",
       "      <td>2.336786</td>\n",
       "      <td>1151.676341</td>\n",
       "      <td>1166.001982</td>\n",
       "      <td>3.792125</td>\n",
       "    </tr>\n",
       "    <tr>\n",
       "      <th>min</th>\n",
       "      <td>1.000000</td>\n",
       "      <td>1.000000</td>\n",
       "      <td>1.000000</td>\n",
       "      <td>1.000000</td>\n",
       "      <td>379628.000000</td>\n",
       "      <td>752385.000000</td>\n",
       "      <td>-6.000000</td>\n",
       "    </tr>\n",
       "    <tr>\n",
       "      <th>25%</th>\n",
       "      <td>2552.000000</td>\n",
       "      <td>2.000000</td>\n",
       "      <td>3.000000</td>\n",
       "      <td>10.000000</td>\n",
       "      <td>380446.000000</td>\n",
       "      <td>753230.000000</td>\n",
       "      <td>5.000000</td>\n",
       "    </tr>\n",
       "    <tr>\n",
       "      <th>50%</th>\n",
       "      <td>5137.000000</td>\n",
       "      <td>3.000000</td>\n",
       "      <td>4.000000</td>\n",
       "      <td>12.000000</td>\n",
       "      <td>381600.000000</td>\n",
       "      <td>754407.000000</td>\n",
       "      <td>7.000000</td>\n",
       "    </tr>\n",
       "    <tr>\n",
       "      <th>75%</th>\n",
       "      <td>7357.000000</td>\n",
       "      <td>11.000000</td>\n",
       "      <td>5.000000</td>\n",
       "      <td>14.000000</td>\n",
       "      <td>382507.000000</td>\n",
       "      <td>755314.000000</td>\n",
       "      <td>10.000000</td>\n",
       "    </tr>\n",
       "    <tr>\n",
       "      <th>max</th>\n",
       "      <td>9684.000000</td>\n",
       "      <td>12.000000</td>\n",
       "      <td>7.000000</td>\n",
       "      <td>23.000000</td>\n",
       "      <td>383448.000000</td>\n",
       "      <td>756255.000000</td>\n",
       "      <td>16.000000</td>\n",
       "    </tr>\n",
       "  </tbody>\n",
       "</table>\n",
       "</div>"
      ],
      "text/plain": [
       "        Transaction         Month   Month_Order          Hour     Unnamed: 0  \\\n",
       "count  20506.000000  20506.000000  20506.000000  20506.000000   20314.000000   \n",
       "mean    4976.399298      5.860285      4.095045     12.270555  381516.639707   \n",
       "std     2796.128971      4.542480      1.627455      2.336786    1151.676341   \n",
       "min        1.000000      1.000000      1.000000      1.000000  379628.000000   \n",
       "25%     2552.000000      2.000000      3.000000     10.000000  380446.000000   \n",
       "50%     5137.000000      3.000000      4.000000     12.000000  381600.000000   \n",
       "75%     7357.000000     11.000000      5.000000     14.000000  382507.000000   \n",
       "max     9684.000000     12.000000      7.000000     23.000000  383448.000000   \n",
       "\n",
       "                time   temperature  \n",
       "count   20314.000000  20314.000000  \n",
       "mean   754311.461504      7.225263  \n",
       "std      1166.001982      3.792125  \n",
       "min    752385.000000     -6.000000  \n",
       "25%    753230.000000      5.000000  \n",
       "50%    754407.000000      7.000000  \n",
       "75%    755314.000000     10.000000  \n",
       "max    756255.000000     16.000000  "
      ]
     },
     "execution_count": 47,
     "metadata": {},
     "output_type": "execute_result"
    }
   ],
   "source": [
    "bakery_temp.describe()"
   ]
  },
  {
   "cell_type": "markdown",
   "metadata": {},
   "source": [
    "As we have a few missing hours in temperature dataset, adding the last seen value."
   ]
  },
  {
   "cell_type": "code",
   "execution_count": 48,
   "metadata": {},
   "outputs": [],
   "source": [
    "bakery_temp.fillna(method='ffill', inplace=True)"
   ]
  },
  {
   "cell_type": "code",
   "execution_count": 49,
   "metadata": {},
   "outputs": [
    {
     "data": {
      "text/plain": [
       "Date\n",
       "2016-10-30    10.0\n",
       "2016-10-31    10.0\n",
       "2016-11-01     2.0\n",
       "2016-11-02     3.0\n",
       "2016-11-03     6.0\n",
       "2016-11-04     3.0\n",
       "2016-11-05     4.0\n",
       "2016-11-06     6.0\n",
       "2016-11-07     4.0\n",
       "2016-11-08     1.0\n",
       "Name: temperature, dtype: float64"
      ]
     },
     "execution_count": 49,
     "metadata": {},
     "output_type": "execute_result"
    }
   ],
   "source": [
    "bakery_temp.groupby('Date')['temperature'].min().head(10)"
   ]
  },
  {
   "cell_type": "markdown",
   "metadata": {},
   "source": [
    "- Interesting results below. it seems that often there is one busy period follow by periods which are not as busy. This behaviour keep repeating, maybe there is a day of the week that is most busy. Also I like to find out what date was the lowest item sold, it seems as almost zero. <br>Can I explain why?"
   ]
  },
  {
   "cell_type": "code",
   "execution_count": 50,
   "metadata": {},
   "outputs": [
    {
     "data": {
      "application/vnd.plotly.v1+json": {
       "config": {
        "linkText": "Export to plot.ly",
        "plotlyServerURL": "https://plot.ly",
        "showLink": true
       },
       "data": [
        {
         "mode": "lines+markers",
         "name": "lines+markers",
         "type": "scatter",
         "uid": "e0c9716e-7f30-4c6c-b4cf-29b11e36c2c6",
         "x": [
          "2016-10-30",
          "2016-10-31",
          "2016-11-01",
          "2016-11-02",
          "2016-11-03",
          "2016-11-04",
          "2016-11-05",
          "2016-11-06",
          "2016-11-07",
          "2016-11-08",
          "2016-11-09",
          "2016-11-10",
          "2016-11-11",
          "2016-11-12",
          "2016-11-13",
          "2016-11-14",
          "2016-11-15",
          "2016-11-16",
          "2016-11-17",
          "2016-11-18",
          "2016-11-19",
          "2016-11-20",
          "2016-11-21",
          "2016-11-22",
          "2016-11-23",
          "2016-11-24",
          "2016-11-25",
          "2016-11-26",
          "2016-11-27",
          "2016-11-28",
          "2016-11-29",
          "2016-11-30",
          "2016-12-01",
          "2016-12-02",
          "2016-12-03",
          "2016-12-04",
          "2016-12-05",
          "2016-12-06",
          "2016-12-07",
          "2016-12-08",
          "2016-12-09",
          "2016-12-10",
          "2016-12-11",
          "2016-12-12",
          "2016-12-13",
          "2016-12-14",
          "2016-12-15",
          "2016-12-16",
          "2016-12-17",
          "2016-12-18",
          "2016-12-19",
          "2016-12-20",
          "2016-12-21",
          "2016-12-22",
          "2016-12-23",
          "2016-12-24",
          "2016-12-27",
          "2016-12-28",
          "2016-12-29",
          "2016-12-30",
          "2016-12-31",
          "2017-01-01",
          "2017-01-03",
          "2017-01-04",
          "2017-01-05",
          "2017-01-06",
          "2017-01-07",
          "2017-01-08",
          "2017-01-09",
          "2017-01-10",
          "2017-01-11",
          "2017-01-12",
          "2017-01-13",
          "2017-01-14",
          "2017-01-15",
          "2017-01-16",
          "2017-01-17",
          "2017-01-18",
          "2017-01-19",
          "2017-01-20",
          "2017-01-21",
          "2017-01-22",
          "2017-01-23",
          "2017-01-24",
          "2017-01-25",
          "2017-01-26",
          "2017-01-27",
          "2017-01-28",
          "2017-01-29",
          "2017-01-30",
          "2017-01-31",
          "2017-02-01",
          "2017-02-02",
          "2017-02-03",
          "2017-02-04",
          "2017-02-05",
          "2017-02-06",
          "2017-02-07",
          "2017-02-08",
          "2017-02-09",
          "2017-02-10",
          "2017-02-11",
          "2017-02-12",
          "2017-02-13",
          "2017-02-14",
          "2017-02-15",
          "2017-02-16",
          "2017-02-17",
          "2017-02-18",
          "2017-02-19",
          "2017-02-20",
          "2017-02-21",
          "2017-02-22",
          "2017-02-23",
          "2017-02-24",
          "2017-02-25",
          "2017-02-26",
          "2017-02-27",
          "2017-02-28",
          "2017-03-01",
          "2017-03-02",
          "2017-03-03",
          "2017-03-04",
          "2017-03-05",
          "2017-03-06",
          "2017-03-07",
          "2017-03-08",
          "2017-03-09",
          "2017-03-10",
          "2017-03-11",
          "2017-03-12",
          "2017-03-13",
          "2017-03-14",
          "2017-03-15",
          "2017-03-16",
          "2017-03-17",
          "2017-03-18",
          "2017-03-19",
          "2017-03-20",
          "2017-03-21",
          "2017-03-22",
          "2017-03-23",
          "2017-03-24",
          "2017-03-25",
          "2017-03-26",
          "2017-03-27",
          "2017-03-28",
          "2017-03-29",
          "2017-03-30",
          "2017-03-31",
          "2017-04-01",
          "2017-04-02",
          "2017-04-03",
          "2017-04-04",
          "2017-04-05",
          "2017-04-06",
          "2017-04-07",
          "2017-04-08",
          "2017-04-09"
         ],
         "y": [
          170,
          199,
          150,
          164,
          189,
          187,
          275,
          197,
          148,
          146,
          102,
          155,
          173,
          221,
          167,
          148,
          125,
          128,
          135,
          158,
          209,
          169,
          88,
          85,
          79,
          112,
          121,
          174,
          150,
          85,
          93,
          102,
          83,
          104,
          191,
          121,
          117,
          110,
          81,
          66,
          115,
          164,
          92,
          91,
          90,
          98,
          110,
          151,
          147,
          101,
          148,
          95,
          119,
          117,
          148,
          169,
          47,
          104,
          149,
          106,
          105,
          1,
          87,
          76,
          95,
          84,
          188,
          103,
          82,
          71,
          95,
          72,
          109,
          187,
          119,
          66,
          91,
          82,
          119,
          136,
          195,
          166,
          108,
          112,
          69,
          113,
          160,
          237,
          147,
          73,
          113,
          124,
          121,
          138,
          292,
          170,
          136,
          107,
          103,
          123,
          143,
          185,
          113,
          148,
          113,
          79,
          109,
          176,
          227,
          181,
          114,
          88,
          113,
          103,
          142,
          175,
          186,
          76,
          121,
          91,
          94,
          135,
          257,
          124,
          94,
          118,
          77,
          104,
          139,
          203,
          146,
          103,
          103,
          87,
          113,
          118,
          177,
          128,
          95,
          102,
          105,
          123,
          131,
          246,
          161,
          87,
          110,
          99,
          123,
          151,
          176,
          114,
          118,
          115,
          143,
          118,
          99,
          205,
          69
         ]
        }
       ],
       "layout": {
        "title": "Daily Sales"
       }
      },
      "text/html": [
       "<div id=\"2521b676-9171-46fb-80d2-0e2ad80d617d\" style=\"height: 525px; width: 100%;\" class=\"plotly-graph-div\"></div><script type=\"text/javascript\">require([\"plotly\"], function(Plotly) { window.PLOTLYENV=window.PLOTLYENV || {};window.PLOTLYENV.BASE_URL=\"https://plot.ly\";Plotly.newPlot(\"2521b676-9171-46fb-80d2-0e2ad80d617d\", [{\"mode\": \"lines+markers\", \"name\": \"lines+markers\", \"x\": [\"2016-10-30\", \"2016-10-31\", \"2016-11-01\", \"2016-11-02\", \"2016-11-03\", \"2016-11-04\", \"2016-11-05\", \"2016-11-06\", \"2016-11-07\", \"2016-11-08\", \"2016-11-09\", \"2016-11-10\", \"2016-11-11\", \"2016-11-12\", \"2016-11-13\", \"2016-11-14\", \"2016-11-15\", \"2016-11-16\", \"2016-11-17\", \"2016-11-18\", \"2016-11-19\", \"2016-11-20\", \"2016-11-21\", \"2016-11-22\", \"2016-11-23\", \"2016-11-24\", \"2016-11-25\", \"2016-11-26\", \"2016-11-27\", \"2016-11-28\", \"2016-11-29\", \"2016-11-30\", \"2016-12-01\", \"2016-12-02\", \"2016-12-03\", \"2016-12-04\", \"2016-12-05\", \"2016-12-06\", \"2016-12-07\", \"2016-12-08\", \"2016-12-09\", \"2016-12-10\", \"2016-12-11\", \"2016-12-12\", \"2016-12-13\", \"2016-12-14\", \"2016-12-15\", \"2016-12-16\", \"2016-12-17\", \"2016-12-18\", \"2016-12-19\", \"2016-12-20\", \"2016-12-21\", \"2016-12-22\", \"2016-12-23\", \"2016-12-24\", \"2016-12-27\", \"2016-12-28\", \"2016-12-29\", \"2016-12-30\", \"2016-12-31\", \"2017-01-01\", \"2017-01-03\", \"2017-01-04\", \"2017-01-05\", \"2017-01-06\", \"2017-01-07\", \"2017-01-08\", \"2017-01-09\", \"2017-01-10\", \"2017-01-11\", \"2017-01-12\", \"2017-01-13\", \"2017-01-14\", \"2017-01-15\", \"2017-01-16\", \"2017-01-17\", \"2017-01-18\", \"2017-01-19\", \"2017-01-20\", \"2017-01-21\", \"2017-01-22\", \"2017-01-23\", \"2017-01-24\", \"2017-01-25\", \"2017-01-26\", \"2017-01-27\", \"2017-01-28\", \"2017-01-29\", \"2017-01-30\", \"2017-01-31\", \"2017-02-01\", \"2017-02-02\", \"2017-02-03\", \"2017-02-04\", \"2017-02-05\", \"2017-02-06\", \"2017-02-07\", \"2017-02-08\", \"2017-02-09\", \"2017-02-10\", \"2017-02-11\", \"2017-02-12\", \"2017-02-13\", \"2017-02-14\", \"2017-02-15\", \"2017-02-16\", \"2017-02-17\", \"2017-02-18\", \"2017-02-19\", \"2017-02-20\", \"2017-02-21\", \"2017-02-22\", \"2017-02-23\", \"2017-02-24\", \"2017-02-25\", \"2017-02-26\", \"2017-02-27\", \"2017-02-28\", \"2017-03-01\", \"2017-03-02\", \"2017-03-03\", \"2017-03-04\", \"2017-03-05\", \"2017-03-06\", \"2017-03-07\", \"2017-03-08\", \"2017-03-09\", \"2017-03-10\", \"2017-03-11\", \"2017-03-12\", \"2017-03-13\", \"2017-03-14\", \"2017-03-15\", \"2017-03-16\", \"2017-03-17\", \"2017-03-18\", \"2017-03-19\", \"2017-03-20\", \"2017-03-21\", \"2017-03-22\", \"2017-03-23\", \"2017-03-24\", \"2017-03-25\", \"2017-03-26\", \"2017-03-27\", \"2017-03-28\", \"2017-03-29\", \"2017-03-30\", \"2017-03-31\", \"2017-04-01\", \"2017-04-02\", \"2017-04-03\", \"2017-04-04\", \"2017-04-05\", \"2017-04-06\", \"2017-04-07\", \"2017-04-08\", \"2017-04-09\"], \"y\": [170, 199, 150, 164, 189, 187, 275, 197, 148, 146, 102, 155, 173, 221, 167, 148, 125, 128, 135, 158, 209, 169, 88, 85, 79, 112, 121, 174, 150, 85, 93, 102, 83, 104, 191, 121, 117, 110, 81, 66, 115, 164, 92, 91, 90, 98, 110, 151, 147, 101, 148, 95, 119, 117, 148, 169, 47, 104, 149, 106, 105, 1, 87, 76, 95, 84, 188, 103, 82, 71, 95, 72, 109, 187, 119, 66, 91, 82, 119, 136, 195, 166, 108, 112, 69, 113, 160, 237, 147, 73, 113, 124, 121, 138, 292, 170, 136, 107, 103, 123, 143, 185, 113, 148, 113, 79, 109, 176, 227, 181, 114, 88, 113, 103, 142, 175, 186, 76, 121, 91, 94, 135, 257, 124, 94, 118, 77, 104, 139, 203, 146, 103, 103, 87, 113, 118, 177, 128, 95, 102, 105, 123, 131, 246, 161, 87, 110, 99, 123, 151, 176, 114, 118, 115, 143, 118, 99, 205, 69], \"type\": \"scatter\", \"uid\": \"e0c9716e-7f30-4c6c-b4cf-29b11e36c2c6\"}], {\"title\": \"Daily Sales\"}, {\"showLink\": true, \"linkText\": \"Export to plot.ly\", \"plotlyServerURL\": \"https://plot.ly\"})});</script><script type=\"text/javascript\">window.addEventListener(\"resize\", function(){window._Plotly.Plots.resize(document.getElementById(\"2521b676-9171-46fb-80d2-0e2ad80d617d\"));});</script>"
      ],
      "text/vnd.plotly.v1+html": [
       "<div id=\"2521b676-9171-46fb-80d2-0e2ad80d617d\" style=\"height: 525px; width: 100%;\" class=\"plotly-graph-div\"></div><script type=\"text/javascript\">require([\"plotly\"], function(Plotly) { window.PLOTLYENV=window.PLOTLYENV || {};window.PLOTLYENV.BASE_URL=\"https://plot.ly\";Plotly.newPlot(\"2521b676-9171-46fb-80d2-0e2ad80d617d\", [{\"mode\": \"lines+markers\", \"name\": \"lines+markers\", \"x\": [\"2016-10-30\", \"2016-10-31\", \"2016-11-01\", \"2016-11-02\", \"2016-11-03\", \"2016-11-04\", \"2016-11-05\", \"2016-11-06\", \"2016-11-07\", \"2016-11-08\", \"2016-11-09\", \"2016-11-10\", \"2016-11-11\", \"2016-11-12\", \"2016-11-13\", \"2016-11-14\", \"2016-11-15\", \"2016-11-16\", \"2016-11-17\", \"2016-11-18\", \"2016-11-19\", \"2016-11-20\", \"2016-11-21\", \"2016-11-22\", \"2016-11-23\", \"2016-11-24\", \"2016-11-25\", \"2016-11-26\", \"2016-11-27\", \"2016-11-28\", \"2016-11-29\", \"2016-11-30\", \"2016-12-01\", \"2016-12-02\", \"2016-12-03\", \"2016-12-04\", \"2016-12-05\", \"2016-12-06\", \"2016-12-07\", \"2016-12-08\", \"2016-12-09\", \"2016-12-10\", \"2016-12-11\", \"2016-12-12\", \"2016-12-13\", \"2016-12-14\", \"2016-12-15\", \"2016-12-16\", \"2016-12-17\", \"2016-12-18\", \"2016-12-19\", \"2016-12-20\", \"2016-12-21\", \"2016-12-22\", \"2016-12-23\", \"2016-12-24\", \"2016-12-27\", \"2016-12-28\", \"2016-12-29\", \"2016-12-30\", \"2016-12-31\", \"2017-01-01\", \"2017-01-03\", \"2017-01-04\", \"2017-01-05\", \"2017-01-06\", \"2017-01-07\", \"2017-01-08\", \"2017-01-09\", \"2017-01-10\", \"2017-01-11\", \"2017-01-12\", \"2017-01-13\", \"2017-01-14\", \"2017-01-15\", \"2017-01-16\", \"2017-01-17\", \"2017-01-18\", \"2017-01-19\", \"2017-01-20\", \"2017-01-21\", \"2017-01-22\", \"2017-01-23\", \"2017-01-24\", \"2017-01-25\", \"2017-01-26\", \"2017-01-27\", \"2017-01-28\", \"2017-01-29\", \"2017-01-30\", \"2017-01-31\", \"2017-02-01\", \"2017-02-02\", \"2017-02-03\", \"2017-02-04\", \"2017-02-05\", \"2017-02-06\", \"2017-02-07\", \"2017-02-08\", \"2017-02-09\", \"2017-02-10\", \"2017-02-11\", \"2017-02-12\", \"2017-02-13\", \"2017-02-14\", \"2017-02-15\", \"2017-02-16\", \"2017-02-17\", \"2017-02-18\", \"2017-02-19\", \"2017-02-20\", \"2017-02-21\", \"2017-02-22\", \"2017-02-23\", \"2017-02-24\", \"2017-02-25\", \"2017-02-26\", \"2017-02-27\", \"2017-02-28\", \"2017-03-01\", \"2017-03-02\", \"2017-03-03\", \"2017-03-04\", \"2017-03-05\", \"2017-03-06\", \"2017-03-07\", \"2017-03-08\", \"2017-03-09\", \"2017-03-10\", \"2017-03-11\", \"2017-03-12\", \"2017-03-13\", \"2017-03-14\", \"2017-03-15\", \"2017-03-16\", \"2017-03-17\", \"2017-03-18\", \"2017-03-19\", \"2017-03-20\", \"2017-03-21\", \"2017-03-22\", \"2017-03-23\", \"2017-03-24\", \"2017-03-25\", \"2017-03-26\", \"2017-03-27\", \"2017-03-28\", \"2017-03-29\", \"2017-03-30\", \"2017-03-31\", \"2017-04-01\", \"2017-04-02\", \"2017-04-03\", \"2017-04-04\", \"2017-04-05\", \"2017-04-06\", \"2017-04-07\", \"2017-04-08\", \"2017-04-09\"], \"y\": [170, 199, 150, 164, 189, 187, 275, 197, 148, 146, 102, 155, 173, 221, 167, 148, 125, 128, 135, 158, 209, 169, 88, 85, 79, 112, 121, 174, 150, 85, 93, 102, 83, 104, 191, 121, 117, 110, 81, 66, 115, 164, 92, 91, 90, 98, 110, 151, 147, 101, 148, 95, 119, 117, 148, 169, 47, 104, 149, 106, 105, 1, 87, 76, 95, 84, 188, 103, 82, 71, 95, 72, 109, 187, 119, 66, 91, 82, 119, 136, 195, 166, 108, 112, 69, 113, 160, 237, 147, 73, 113, 124, 121, 138, 292, 170, 136, 107, 103, 123, 143, 185, 113, 148, 113, 79, 109, 176, 227, 181, 114, 88, 113, 103, 142, 175, 186, 76, 121, 91, 94, 135, 257, 124, 94, 118, 77, 104, 139, 203, 146, 103, 103, 87, 113, 118, 177, 128, 95, 102, 105, 123, 131, 246, 161, 87, 110, 99, 123, 151, 176, 114, 118, 115, 143, 118, 99, 205, 69], \"type\": \"scatter\", \"uid\": \"e0c9716e-7f30-4c6c-b4cf-29b11e36c2c6\"}], {\"title\": \"Daily Sales\"}, {\"showLink\": true, \"linkText\": \"Export to plot.ly\", \"plotlyServerURL\": \"https://plot.ly\"})});</script><script type=\"text/javascript\">window.addEventListener(\"resize\", function(){window._Plotly.Plots.resize(document.getElementById(\"2521b676-9171-46fb-80d2-0e2ad80d617d\"));});</script>"
      ]
     },
     "metadata": {},
     "output_type": "display_data"
    }
   ],
   "source": [
    "trace1 = go.Scatter(\n",
    "    x = bakery_temp.groupby('Date')['Item'].count().index,\n",
    "    y = bakery_temp.groupby('Date')['Item'].count().values,\n",
    "    mode = 'lines+markers',\n",
    "    name = 'lines+markers')\n",
    "\n",
    "data = [trace1]\n",
    "layout = go.Layout(title = 'Daily Sales')\n",
    "fig = go.Figure(data = data, layout = layout)\n",
    "iplot(fig)"
   ]
  },
  {
   "cell_type": "markdown",
   "metadata": {},
   "source": [
    "### Sales and temperature graph, I am going to use the minimum temperatures"
   ]
  },
  {
   "cell_type": "code",
   "execution_count": 51,
   "metadata": {},
   "outputs": [
    {
     "data": {
      "image/png": "[encoded data removed]",
      "text/plain": [
       "<Figure size 1080x432 with 2 Axes>"
      ]
     },
     "metadata": {
      "needs_background": "light"
     },
     "output_type": "display_data"
    }
   ],
   "source": [
    "fig1 = figure(figsize=(15,6))\n",
    " \n",
    "# and the first axes using subplot populated with data \n",
    "ax1 = fig1.add_subplot(1,1,1)\n",
    "ax1.set_title(\"Sales and Temperature\")\n",
    "line1 = ax1.plot(bakery_temp.groupby('Date')['Item'].count(), 'o-')\n",
    "\n",
    "ylabel(\"Total Sales per day\")\n",
    " \n",
    "# now, the second axes that shares the x-axis with the ax1\n",
    "ax2 = fig1.add_subplot(111, sharex=ax1, frameon=False)\n",
    "line2 = ax2.plot(bakery_temp.groupby('Date')['temperature'].min(), 'xr-')\n",
    "ax2.yaxis.tick_right()\n",
    "ax2.yaxis.set_label_position(\"right\")\n",
    "ylabel(\"Mininum temperature per day\")\n",
    "\n",
    "\n",
    "blue_line = mlines.Line2D([], [], color='blue', marker='o',\n",
    "                          markersize=6, label='Sales')\n",
    "\n",
    "red_line = mlines.Line2D([], [], color='red', marker='*',\n",
    "                          markersize=6, label='Temperature')\n",
    "plt.legend(handles=[blue_line,red_line])\n",
    "#no working but leave it as it removes the axix labels\n",
    "ax1.get_xaxis().set_major_locator(mdates.MonthLocator(interval=1))\n",
    "\n",
    "show()"
   ]
  },
  {
   "attachments": {},
   "cell_type": "markdown",
   "metadata": {},
   "source": [
    "- Temperature does not explain outliner. We see that some days with very low temperature had high sales and the other way around.\n",
    "- There is seasonality, as Saturday is the most busy day of the week\n",
    "- Can events explain outliners?\n"
   ]
  },
  {
   "cell_type": "markdown",
   "metadata": {},
   "source": [
    "Can we see any relations if we only have sales of hot drinks and temperature"
   ]
  },
  {
   "cell_type": "code",
   "execution_count": 52,
   "metadata": {},
   "outputs": [
    {
     "data": {
      "image/png": "[encoded data removed]",
      "text/plain": [
       "<Figure size 1080x432 with 2 Axes>"
      ]
     },
     "metadata": {
      "needs_background": "light"
     },
     "output_type": "display_data"
    }
   ],
   "source": [
    "\n",
    "fig1 = figure(figsize=(15,6))\n",
    " \n",
    "#the first axes using subplot populated with data \n",
    "ax1 = fig1.add_subplot(111)\n",
    "ax1.set_title(\"Hot drinks sales and Temperature\")\n",
    "line1 = ax1.plot(bakery_temp[bakery_temp['Item'].isin(['Coffee', 'Tea', 'Hot Chocolate'])] .groupby('Date')['Item'].count(),'o-')\n",
    "ylabel(\"Total Sales per day\")\n",
    " \n",
    "# now, the second axes that shares the x-axis with the ax1\n",
    "ax2 = fig1.add_subplot(111, sharex=ax1, frameon=False)\n",
    "line2 = ax2.plot(bakery_temp.groupby('Date')['temperature'].min(), 'xr-')\n",
    "ax2.yaxis.tick_right()\n",
    "ax2.yaxis.set_label_position(\"right\")\n",
    "ylabel(\"Mininum temperature per day\")\n",
    "\n",
    "#inverted Axis\n",
    "ax2.invert_yaxis()\n",
    "\n",
    "blue_line = mlines.Line2D([], [], color='blue', marker='o',\n",
    "                          markersize=6, label='Sales')\n",
    "\n",
    "red_line = mlines.Line2D([], [], color='red', marker='*',\n",
    "                          markersize=6, label='Temperature')\n",
    "plt.legend(handles=[blue_line,red_line])\n",
    "\n",
    "ax1.get_xaxis().set_major_locator(mdates.MonthLocator(interval=1))\n",
    "\n",
    "show()"
   ]
  },
  {
   "attachments": {},
   "cell_type": "markdown",
   "metadata": {},
   "source": [
    "- It seems that when it is really cold, sometimes there are more hot drinks sales.\n",
    "- My guess is that people from Edinburg are used to very cold weather and it makes no differences to their day to day life. I could not do the same comparison with hot temperatures and cold drinks as we have limited data. But it will be very interesting to see."
   ]
  },
  {
   "cell_type": "markdown",
   "metadata": {},
   "source": [
    "### Formally try to see if there is a correlation for all items sold per hour and min temperature. No really."
   ]
  },
  {
   "cell_type": "code",
   "execution_count": 53,
   "metadata": {},
   "outputs": [],
   "source": [
    "item_hour = bakery_temp.groupby('Hourly')['Item'].count().values\n",
    "\n",
    "temp_hour = bakery_temp.groupby('Hourly')['temperature'].min().values"
   ]
  },
  {
   "cell_type": "code",
   "execution_count": 54,
   "metadata": {},
   "outputs": [],
   "source": [
    "hot_drink_df = bakery_temp[bakery_temp['Item'].isin(['Coffee', 'Tea', 'Hot Chocolate'])]"
   ]
  },
  {
   "cell_type": "code",
   "execution_count": 55,
   "metadata": {},
   "outputs": [],
   "source": [
    "hot_drink_item_hour = hot_drink_df.groupby('Hourly')['Item'].count().values\n",
    "hot_drink_temp_hour = hot_drink_df.groupby('Hourly')['temperature'].min().values"
   ]
  },
  {
   "cell_type": "code",
   "execution_count": 56,
   "metadata": {},
   "outputs": [
    {
     "name": "stdout",
     "output_type": "stream",
     "text": [
      "0.07570649990699094\n",
      "0.0033371290842954984\n"
     ]
    }
   ],
   "source": [
    "correlation, p_value = stats.pearsonr(temp_hour,item_hour)\n",
    "print(correlation)\n",
    "print(p_value)"
   ]
  },
  {
   "cell_type": "code",
   "execution_count": 57,
   "metadata": {},
   "outputs": [
    {
     "data": {
      "text/plain": [
       "<matplotlib.collections.PathCollection at 0x1bdeae75cf8>"
      ]
     },
     "execution_count": 57,
     "metadata": {},
     "output_type": "execute_result"
    },
    {
     "data": {
      "image/png": "[encoded data removed]",
      "text/plain": [
       "<Figure size 432x288 with 1 Axes>"
      ]
     },
     "metadata": {
      "needs_background": "light"
     },
     "output_type": "display_data"
    }
   ],
   "source": [
    "plt.scatter(temp_hour, item_hour)"
   ]
  },
  {
   "cell_type": "code",
   "execution_count": 58,
   "metadata": {},
   "outputs": [
    {
     "name": "stdout",
     "output_type": "stream",
     "text": [
      "0.015991692288384155\n",
      "0.552947518679838\n"
     ]
    }
   ],
   "source": [
    "correlation, p_value = stats.pearsonr(hot_drink_temp_hour,hot_drink_item_hour)\n",
    "print(correlation)\n",
    "print(p_value)"
   ]
  },
  {
   "cell_type": "code",
   "execution_count": 59,
   "metadata": {},
   "outputs": [
    {
     "data": {
      "text/plain": [
       "<matplotlib.collections.PathCollection at 0x1bdeaed7e48>"
      ]
     },
     "execution_count": 59,
     "metadata": {},
     "output_type": "execute_result"
    },
    {
     "data": {
      "image/png": "[encoded data removed]",
      "text/plain": [
       "<Figure size 432x288 with 1 Axes>"
      ]
     },
     "metadata": {
      "needs_background": "light"
     },
     "output_type": "display_data"
    }
   ],
   "source": [
    "plt.scatter(hot_drink_temp_hour, hot_drink_item_hour)"
   ]
  },
  {
   "cell_type": "markdown",
   "metadata": {},
   "source": [
    "### Let's try to find out \n",
    "- How many items were sold daily\n",
    "- days with most sales\n",
    "- days with least sales"
   ]
  },
  {
   "cell_type": "markdown",
   "metadata": {},
   "source": [
    "The date with only one sold item was the 1 Jan 2017"
   ]
  },
  {
   "cell_type": "code",
   "execution_count": 60,
   "metadata": {},
   "outputs": [
    {
     "data": {
      "text/plain": [
       "Date        Day_of_Week\n",
       "2017-01-01  Sunday           1\n",
       "2016-12-27  Tuesday         47\n",
       "2016-12-08  Thursday        66\n",
       "2017-01-16  Monday          66\n",
       "2017-04-09  Sunday          69\n",
       "2017-01-25  Wednesday       69\n",
       "2017-01-10  Tuesday         71\n",
       "2017-01-12  Thursday        72\n",
       "2017-01-30  Monday          73\n",
       "2017-01-04  Wednesday       76\n",
       "2017-02-27  Monday          76\n",
       "2017-03-08  Wednesday       77\n",
       "2017-02-15  Wednesday       79\n",
       "2016-11-23  Wednesday       79\n",
       "2016-12-07  Wednesday       81\n",
       "2017-01-18  Wednesday       82\n",
       "2017-01-09  Monday          82\n",
       "2016-12-01  Thursday        83\n",
       "2017-01-06  Friday          84\n",
       "2016-11-22  Tuesday         85\n",
       "2016-11-28  Monday          85\n",
       "2017-01-03  Tuesday         87\n",
       "2017-03-27  Monday          87\n",
       "2017-03-15  Wednesday       87\n",
       "2017-02-21  Tuesday         88\n",
       "2016-11-21  Monday          88\n",
       "2016-12-13  Tuesday         90\n",
       "2016-12-12  Monday          91\n",
       "2017-01-17  Tuesday         91\n",
       "2017-03-01  Wednesday       91\n",
       "                          ... \n",
       "2016-12-24  Saturday       169\n",
       "2016-10-30  Sunday         170\n",
       "2017-02-05  Sunday         170\n",
       "2016-11-11  Friday         173\n",
       "2016-11-26  Saturday       174\n",
       "2017-02-25  Saturday       175\n",
       "2017-04-01  Saturday       176\n",
       "2017-02-17  Friday         176\n",
       "2017-03-18  Saturday       177\n",
       "2017-02-19  Sunday         181\n",
       "2017-02-11  Saturday       185\n",
       "2017-02-26  Sunday         186\n",
       "2017-01-14  Saturday       187\n",
       "2016-11-04  Friday         187\n",
       "2017-01-07  Saturday       188\n",
       "2016-11-03  Thursday       189\n",
       "2016-12-03  Saturday       191\n",
       "2017-01-21  Saturday       195\n",
       "2016-11-06  Sunday         197\n",
       "2016-10-31  Monday         199\n",
       "2017-03-11  Saturday       203\n",
       "2017-04-08  Saturday       205\n",
       "2016-11-19  Saturday       209\n",
       "2016-11-12  Saturday       221\n",
       "2017-02-18  Saturday       227\n",
       "2017-01-28  Saturday       237\n",
       "2017-03-25  Saturday       246\n",
       "2017-03-04  Saturday       257\n",
       "2016-11-05  Saturday       275\n",
       "2017-02-04  Saturday       292\n",
       "Name: Item, Length: 159, dtype: int64"
      ]
     },
     "execution_count": 60,
     "metadata": {},
     "output_type": "execute_result"
    }
   ],
   "source": [
    "bakery_temp.groupby(['Date','Day_of_Week'])['Item'].count().sort_values()"
   ]
  },
  {
   "cell_type": "markdown",
   "metadata": {},
   "source": [
    "aha, mystery solved!!!!. After parting for the new years, one of the employees with a key to the bakery remember that they did not have bread for next day dinner party celebration so on the way home got in a buy one break. As it was new year's the bakery was close."
   ]
  },
  {
   "cell_type": "code",
   "execution_count": 61,
   "metadata": {},
   "outputs": [
    {
     "data": {
      "text/html": [
       "<div>\n",
       "<style scoped>\n",
       "    .dataframe tbody tr th:only-of-type {\n",
       "        vertical-align: middle;\n",
       "    }\n",
       "\n",
       "    .dataframe tbody tr th {\n",
       "        vertical-align: top;\n",
       "    }\n",
       "\n",
       "    .dataframe thead th {\n",
       "        text-align: right;\n",
       "    }\n",
       "</style>\n",
       "<table border=\"1\" class=\"dataframe\">\n",
       "  <thead>\n",
       "    <tr style=\"text-align: right;\">\n",
       "      <th></th>\n",
       "      <th>Date</th>\n",
       "      <th>Time</th>\n",
       "      <th>Transaction</th>\n",
       "      <th>Item</th>\n",
       "      <th>Date_Time</th>\n",
       "      <th>Day_of_Week</th>\n",
       "      <th>Month</th>\n",
       "      <th>Month_Order</th>\n",
       "      <th>Season</th>\n",
       "      <th>Hour</th>\n",
       "      <th>Session</th>\n",
       "      <th>Category</th>\n",
       "      <th>Hourly</th>\n",
       "      <th>Monthly</th>\n",
       "      <th>Weekly</th>\n",
       "      <th>Unnamed: 0</th>\n",
       "      <th>time</th>\n",
       "      <th>temperature</th>\n",
       "    </tr>\n",
       "  </thead>\n",
       "  <tbody>\n",
       "    <tr>\n",
       "      <th>8143</th>\n",
       "      <td>2017-01-01</td>\n",
       "      <td>01:21:05</td>\n",
       "      <td>4090</td>\n",
       "      <td>Bread</td>\n",
       "      <td>2017-01-01 01:21:05</td>\n",
       "      <td>Sunday</td>\n",
       "      <td>1</td>\n",
       "      <td>4</td>\n",
       "      <td>Winter</td>\n",
       "      <td>1</td>\n",
       "      <td>Afternoon</td>\n",
       "      <td>Food</td>\n",
       "      <td>2017-01-01 01:00:00</td>\n",
       "      <td>2017-01</td>\n",
       "      <td>2016-12-26/2017-01-01</td>\n",
       "      <td>381097.0</td>\n",
       "      <td>753881.0</td>\n",
       "      <td>10.0</td>\n",
       "    </tr>\n",
       "  </tbody>\n",
       "</table>\n",
       "</div>"
      ],
      "text/plain": [
       "            Date      Time  Transaction   Item           Date_Time  \\\n",
       "8143  2017-01-01  01:21:05         4090  Bread 2017-01-01 01:21:05   \n",
       "\n",
       "     Day_of_Week  Month  Month_Order  Season  Hour    Session Category  \\\n",
       "8143      Sunday      1            4  Winter     1  Afternoon     Food   \n",
       "\n",
       "                  Hourly Monthly                Weekly  Unnamed: 0      time  \\\n",
       "8143 2017-01-01 01:00:00 2017-01 2016-12-26/2017-01-01    381097.0  753881.0   \n",
       "\n",
       "      temperature  \n",
       "8143         10.0  "
      ]
     },
     "execution_count": 61,
     "metadata": {},
     "output_type": "execute_result"
    }
   ],
   "source": [
    "bakery_temp[bakery_temp['Date'] == '2017-01-01']"
   ]
  },
  {
   "cell_type": "markdown",
   "metadata": {},
   "source": [
    "### Yes, Saturday is the most busy day."
   ]
  },
  {
   "cell_type": "code",
   "execution_count": 62,
   "metadata": {},
   "outputs": [
    {
     "data": {
      "text/plain": [
       "<matplotlib.axes._subplots.AxesSubplot at 0x1bdeaef3978>"
      ]
     },
     "execution_count": 62,
     "metadata": {},
     "output_type": "execute_result"
    },
    {
     "data": {
      "image/png": "[encoded data removed]",
      "text/plain": [
       "<Figure size 432x288 with 1 Axes>"
      ]
     },
     "metadata": {},
     "output_type": "display_data"
    }
   ],
   "source": [
    "bakery_temp.groupby('Day_of_Week')['Item'].count().plot.pie()"
   ]
  },
  {
   "cell_type": "code",
   "execution_count": 63,
   "metadata": {},
   "outputs": [
    {
     "data": {
      "text/plain": [
       "Day_of_Week\n",
       "Wednesday    2320\n",
       "Monday       2324\n",
       "Tuesday      2392\n",
       "Thursday     2646\n",
       "Sunday       3095\n",
       "Friday       3124\n",
       "Saturday     4605\n",
       "Name: Item, dtype: int64"
      ]
     },
     "execution_count": 63,
     "metadata": {},
     "output_type": "execute_result"
    }
   ],
   "source": [
    "bakery_temp.groupby('Day_of_Week')['Item'].count().sort_values()"
   ]
  },
  {
   "cell_type": "markdown",
   "metadata": {},
   "source": [
    "### We can see here the most busiest times of the day as well as the busiest day of the week."
   ]
  },
  {
   "cell_type": "code",
   "execution_count": 64,
   "metadata": {},
   "outputs": [
    {
     "data": {
      "text/plain": [
       "<matplotlib.axes._subplots.AxesSubplot at 0x1bdeb1f6a90>"
      ]
     },
     "execution_count": 64,
     "metadata": {},
     "output_type": "execute_result"
    },
    {
     "data": {
      "image/png": "[encoded data removed]",
      "text/plain": [
       "<Figure size 1080x432 with 6 Axes>"
      ]
     },
     "metadata": {
      "needs_background": "light"
     },
     "output_type": "display_data"
    }
   ],
   "source": [
    "fig, axes = plt.subplots(3, 2, figsize=(15,6), sharex=True, sharey=True, squeeze=False )\n",
    "\n",
    "fig.suptitle('Total Sales by Hour and Day', fontsize=12)\n",
    "fig.text(0.06, 0.5, 'Total Item Sold', ha='center', va='center', rotation='vertical')\n",
    "#fig.text(0.5, 0.04, 'Hours', ha='center', va='center')\n",
    "Saturday = bakery_temp[bakery_temp['Day_of_Week'] == 'Saturday'].groupby('Hour')['Item'].count()\n",
    "Saturday.plot(ax=axes[0][0], grid=True, kind='area', title='Saturday', xticks=range(6,24,1), yticks=range(0, 1000,200))\n",
    "\n",
    "#Removing the item sold at 1:20 in the morning\n",
    "Sunday = bakery_temp[(bakery_temp['Date'] != '2017-01-01') & (bakery_temp['Day_of_Week'] == 'Sunday')].groupby('Hour')['Item'].count()\n",
    "Sunday.plot(ax=axes[0][1], grid=True, kind='area', title='Sunday', xticks=range(6,24,1), yticks=range(0, 1000,200))\n",
    "\n",
    "Monday = bakery_temp[bakery_temp['Day_of_Week'] == 'Monday'].groupby('Hour')['Item'].count()\n",
    "Monday.plot(ax=axes[1][0], grid=True, kind='area', title='Monday', xticks=range(6,24,1), yticks=range(0, 1000,200))\n",
    "\n",
    "Tuesday = bakery_temp[bakery_temp['Day_of_Week'] == 'Tuesday'].groupby('Hour')['Item'].count()\n",
    "Tuesday.plot(ax=axes[1][1], grid=True, kind='area', title='Tuesday', xticks=range(6,24,1), yticks=range(0, 1000,200))\n",
    "\n",
    "Thursday = bakery_temp[bakery_temp['Day_of_Week'] == 'Thursday'].groupby('Hour')['Item'].count()\n",
    "Thursday.plot(ax=axes[2][0], grid=True, kind='area', title='Thursday', xticks=range(6,24,1), yticks=range(0, 1000,200))\n",
    "\n",
    "Friday = bakery_temp[bakery_temp['Day_of_Week'] == 'Friday'].groupby('Hour')['Item'].count()\n",
    "Friday.plot(ax=axes[2][1], grid=True, kind='area', title='Friday', xticks=range(6,24,1), yticks=range(0, 1000,200))"
   ]
  },
  {
   "cell_type": "markdown",
   "metadata": {},
   "source": [
    "- Not all Saturdays are open until 22:00, Maybe worth checking if the days with longer opening hours where due to local festivities\n",
    "- For all days, the volume of sales after six o'clock is very small. is it worth keeping the Bakery open after 6?"
   ]
  },
  {
   "cell_type": "markdown",
   "metadata": {},
   "source": [
    "- The graph below confirms the findings, the outliner at the bottom refer to the event on Jan 1st. \n",
    "- The outliner at the top refer to some Saturday sales where there were local events.\n",
    "Local events data was taken from http://www.edinburghguide.com/events/\n",
    "Actual dates '2016-11-05','2016-11-12','2017-01-28','2017-02-04','2017-02-18','2017-03-04'"
   ]
  },
  {
   "cell_type": "code",
   "execution_count": 65,
   "metadata": {},
   "outputs": [
    {
     "data": {
      "text/plain": [
       "<matplotlib.axes._subplots.AxesSubplot at 0x1bdec965b70>"
      ]
     },
     "execution_count": 65,
     "metadata": {},
     "output_type": "execute_result"
    },
    {
     "data": {
      "image/png": "[encoded data removed]",
      "text/plain": [
       "<Figure size 432x288 with 1 Axes>"
      ]
     },
     "metadata": {
      "needs_background": "light"
     },
     "output_type": "display_data"
    }
   ],
   "source": [
    "bakery_temp.groupby('Date')['Item'].count().plot.box()"
   ]
  },
  {
   "cell_type": "code",
   "execution_count": 66,
   "metadata": {},
   "outputs": [
    {
     "data": {
      "text/plain": [
       "Date        Day_of_Week  Time    \n",
       "2016-12-17  Saturday     20:20:47    1\n",
       "                         20:25:21    1\n",
       "                         20:31:38    1\n",
       "                         20:40:07    2\n",
       "                         21:42:13    2\n",
       "2017-02-04  Saturday     20:08:19    1\n",
       "                         20:12:57    3\n",
       "                         20:13:27    2\n",
       "                         20:14:23    2\n",
       "                         20:15:44    1\n",
       "                         20:15:54    1\n",
       "                         20:39:29    1\n",
       "                         20:46:29    2\n",
       "2017-04-08  Saturday     21:43:15    1\n",
       "                         22:41:09    1\n",
       "                         22:43:06    1\n",
       "                         22:45:51    1\n",
       "                         22:47:27    1\n",
       "                         22:48:52    1\n",
       "                         22:56:43    1\n",
       "                         23:20:54    1\n",
       "Name: Item, dtype: int64"
      ]
     },
     "execution_count": 66,
     "metadata": {},
     "output_type": "execute_result"
    }
   ],
   "source": [
    "bakery_temp[(bakery_temp['Time'] > '20:00:00') & (bakery_temp['Day_of_Week'] == 'Saturday')].groupby(['Date','Day_of_Week','Time'])['Item'].count()"
   ]
  },
  {
   "cell_type": "code",
   "execution_count": 67,
   "metadata": {},
   "outputs": [
    {
     "data": {
      "text/plain": [
       "Date        Day_of_Week\n",
       "2016-11-04  Friday         5\n",
       "2016-11-18  Friday         4\n",
       "2016-12-02  Friday         1\n",
       "2017-01-27  Friday         1\n",
       "Name: Item, dtype: int64"
      ]
     },
     "execution_count": 67,
     "metadata": {},
     "output_type": "execute_result"
    }
   ],
   "source": [
    "bakery_temp[(bakery_temp['Time'] > '18:00:00') & (bakery_temp['Day_of_Week'] == 'Friday')].groupby(['Date','Day_of_Week'])['Item'].count()"
   ]
  },
  {
   "cell_type": "code",
   "execution_count": 68,
   "metadata": {},
   "outputs": [
    {
     "data": {
      "text/plain": [
       "Date        Day_of_Week\n",
       "2016-11-04  Friday         10\n",
       "2016-11-11  Friday          7\n",
       "2016-11-18  Friday         10\n",
       "2016-11-25  Friday         11\n",
       "2016-12-02  Friday          1\n",
       "2016-12-16  Friday          4\n",
       "2017-01-13  Friday          5\n",
       "2017-01-20  Friday          1\n",
       "2017-01-27  Friday          4\n",
       "2017-02-03  Friday          2\n",
       "2017-02-17  Friday          8\n",
       "2017-02-24  Friday          3\n",
       "2017-03-31  Friday          2\n",
       "2017-04-07  Friday          2\n",
       "Name: Item, dtype: int64"
      ]
     },
     "execution_count": 68,
     "metadata": {},
     "output_type": "execute_result"
    }
   ],
   "source": [
    "bakery_temp[(bakery_temp['Time'] > '17:00:00') & (bakery_temp['Day_of_Week'] == 'Friday')].groupby(['Date','Day_of_Week'])['Item'].count()"
   ]
  },
  {
   "cell_type": "code",
   "execution_count": 69,
   "metadata": {},
   "outputs": [
    {
     "data": {
      "text/plain": [
       "(20506, 18)"
      ]
     },
     "execution_count": 69,
     "metadata": {},
     "output_type": "execute_result"
    }
   ],
   "source": [
    "bakery_temp.shape"
   ]
  },
  {
   "cell_type": "markdown",
   "metadata": {},
   "source": [
    "Checking what sold the most, food or drink"
   ]
  },
  {
   "cell_type": "code",
   "execution_count": 70,
   "metadata": {},
   "outputs": [
    {
     "data": {
      "text/html": [
       "<div>\n",
       "<style scoped>\n",
       "    .dataframe tbody tr th:only-of-type {\n",
       "        vertical-align: middle;\n",
       "    }\n",
       "\n",
       "    .dataframe tbody tr th {\n",
       "        vertical-align: top;\n",
       "    }\n",
       "\n",
       "    .dataframe thead th {\n",
       "        text-align: right;\n",
       "    }\n",
       "</style>\n",
       "<table border=\"1\" class=\"dataframe\">\n",
       "  <thead>\n",
       "    <tr style=\"text-align: right;\">\n",
       "      <th>Category</th>\n",
       "      <th>Food</th>\n",
       "      <th>drinks</th>\n",
       "    </tr>\n",
       "    <tr>\n",
       "      <th>Month_Order</th>\n",
       "      <th></th>\n",
       "      <th></th>\n",
       "    </tr>\n",
       "  </thead>\n",
       "  <tbody>\n",
       "    <tr>\n",
       "      <th>1</th>\n",
       "      <td>220</td>\n",
       "      <td>149</td>\n",
       "    </tr>\n",
       "    <tr>\n",
       "      <th>2</th>\n",
       "      <td>2676</td>\n",
       "      <td>1759</td>\n",
       "    </tr>\n",
       "    <tr>\n",
       "      <th>3</th>\n",
       "      <td>1916</td>\n",
       "      <td>1423</td>\n",
       "    </tr>\n",
       "    <tr>\n",
       "      <th>4</th>\n",
       "      <td>1994</td>\n",
       "      <td>1362</td>\n",
       "    </tr>\n",
       "    <tr>\n",
       "      <th>5</th>\n",
       "      <td>2382</td>\n",
       "      <td>1524</td>\n",
       "    </tr>\n",
       "    <tr>\n",
       "      <th>6</th>\n",
       "      <td>2331</td>\n",
       "      <td>1613</td>\n",
       "    </tr>\n",
       "    <tr>\n",
       "      <th>7</th>\n",
       "      <td>706</td>\n",
       "      <td>451</td>\n",
       "    </tr>\n",
       "  </tbody>\n",
       "</table>\n",
       "</div>"
      ],
      "text/plain": [
       "Category     Food  drinks\n",
       "Month_Order              \n",
       "1             220     149\n",
       "2            2676    1759\n",
       "3            1916    1423\n",
       "4            1994    1362\n",
       "5            2382    1524\n",
       "6            2331    1613\n",
       "7             706     451"
      ]
     },
     "execution_count": 70,
     "metadata": {},
     "output_type": "execute_result"
    }
   ],
   "source": [
    "#unstack, will put the categories in columns\n",
    "bakery_temp.groupby(['Month_Order','Category'])['Category'].count().unstack()"
   ]
  },
  {
   "cell_type": "code",
   "execution_count": 71,
   "metadata": {},
   "outputs": [
    {
     "data": {
      "image/png": "[encoded data removed]",
      "text/plain": [
       "<Figure size 1080x432 with 1 Axes>"
      ]
     },
     "metadata": {
      "needs_background": "light"
     },
     "output_type": "display_data"
    }
   ],
   "source": [
    "\n",
    "fig, ax = plt.subplots()\n",
    "bakery_temp.groupby(['Month_Order','Category'])['Category'].count().unstack().plot(kind='bar', figsize=(15,6), ax=ax)\n",
    "ax.set_title('Monthly Sales', fontsize=21, y=1.01)\n",
    "ax.legend(loc=\"upper right\")\n",
    "ax.set_ylabel('Sales', fontsize=16)\n",
    "ax.set_xlabel('Category', fontsize=16)\n",
    "ax.set_xticklabels(ax.get_xticklabels(), rotation=0)\n",
    "plt.show()"
   ]
  },
  {
   "cell_type": "markdown",
   "metadata": {},
   "source": [
    "This will display the total sales per month. Can we see why the last and the first have the least sales? Also, we can see that December and January are the months with less sales. Maybe December and Jan have lots of bank holidays? "
   ]
  },
  {
   "cell_type": "code",
   "execution_count": 72,
   "metadata": {},
   "outputs": [
    {
     "data": {
      "text/plain": [
       "Month\n",
       "1     30\n",
       "2     28\n",
       "3     31\n",
       "4      9\n",
       "10     2\n",
       "11    30\n",
       "12    29\n",
       "Name: Date, dtype: int64"
      ]
     },
     "execution_count": 72,
     "metadata": {},
     "output_type": "execute_result"
    }
   ],
   "source": [
    "bakery_temp.groupby('Month')['Date'].nunique()"
   ]
  },
  {
   "cell_type": "markdown",
   "metadata": {},
   "source": [
    "### Can see what are the top item per day?"
   ]
  },
  {
   "cell_type": "code",
   "execution_count": 73,
   "metadata": {},
   "outputs": [],
   "source": [
    "#this will give me a list with unique names of item\n",
    "item_Name = bakery_temp['Item'].value_counts().index\n",
    "#this will give me the values of the unique item name\n",
    "item_Value = bakery_temp['Item'].value_counts().values"
   ]
  },
  {
   "cell_type": "code",
   "execution_count": 74,
   "metadata": {},
   "outputs": [],
   "source": [
    "#this will give me a list with unique names of item\n",
    "bakery_saturday = bakery_temp[bakery_temp['Day_of_Week'] == 'Saturday']\n",
    "item_Name_Saturday = bakery_saturday['Item'].value_counts().index\n",
    "#this will give me the values of the unique item name\n",
    "item_Value_Saturday = bakery_saturday['Item'].value_counts().values"
   ]
  },
  {
   "cell_type": "code",
   "execution_count": 75,
   "metadata": {},
   "outputs": [],
   "source": [
    "#this will give me a list with unique names of item\n",
    "bakery_monday = bakery_temp[bakery_temp['Day_of_Week'] == 'Monday']\n",
    "item_Name_monday = bakery_monday['Item'].value_counts().index\n",
    "#this will give me the values of the unique item name\n",
    "item_Value_monday = bakery_monday['Item'].value_counts().values"
   ]
  },
  {
   "cell_type": "code",
   "execution_count": 76,
   "metadata": {},
   "outputs": [
    {
     "data": {
      "text/plain": [
       "1328"
      ]
     },
     "execution_count": 76,
     "metadata": {},
     "output_type": "execute_result"
    }
   ],
   "source": [
    "item_Value_Saturday[10:].sum()"
   ]
  },
  {
   "cell_type": "code",
   "execution_count": 77,
   "metadata": {},
   "outputs": [
    {
     "data": {
      "text/plain": [
       "array([681, 360, 193, 105, 101,  89,  79,  72,  63,  52], dtype=int64)"
      ]
     },
     "execution_count": 77,
     "metadata": {},
     "output_type": "execute_result"
    }
   ],
   "source": [
    "item_Value_monday[:10]"
   ]
  },
  {
   "cell_type": "code",
   "execution_count": 78,
   "metadata": {},
   "outputs": [
    {
     "data": {
      "text/plain": [
       "Index(['Coffee', 'Bread', 'Tea', 'Pastry', 'Sandwich', 'Cake', 'Cookies',\n",
       "       'Medialuna', 'Muffin', 'Farm House'],\n",
       "      dtype='object')"
      ]
     },
     "execution_count": 78,
     "metadata": {},
     "output_type": "execute_result"
    }
   ],
   "source": [
    "item_Name_monday[:10]"
   ]
  },
  {
   "cell_type": "code",
   "execution_count": 79,
   "metadata": {},
   "outputs": [
    {
     "data": {
      "text/plain": [
       "array([1103,  760,  288,  246,  166,  161,  146,  146,  143,  118],\n",
       "      dtype=int64)"
      ]
     },
     "execution_count": 79,
     "metadata": {},
     "output_type": "execute_result"
    }
   ],
   "source": [
    "item_Value_Saturday[:10]"
   ]
  },
  {
   "cell_type": "code",
   "execution_count": 80,
   "metadata": {},
   "outputs": [
    {
     "data": {
      "text/plain": [
       "Index(['Coffee', 'Bread', 'Tea', 'Cake', 'Pastry', 'Sandwich', 'Scone',\n",
       "       'Hot chocolate', 'Medialuna', 'Scandinavian'],\n",
       "      dtype='object')"
      ]
     },
     "execution_count": 80,
     "metadata": {},
     "output_type": "execute_result"
    }
   ],
   "source": [
    "item_Name_Saturday[:10]"
   ]
  },
  {
   "cell_type": "code",
   "execution_count": 81,
   "metadata": {},
   "outputs": [],
   "source": [
    "#Top 10 items plus aggregating the rest as others"
   ]
  },
  {
   "cell_type": "code",
   "execution_count": 82,
   "metadata": {},
   "outputs": [],
   "source": [
    "item_Saturday_Value = [1103,  760,  288,  246,  166,  161,  146,  146,  143,  118, 1328]"
   ]
  },
  {
   "cell_type": "code",
   "execution_count": 83,
   "metadata": {},
   "outputs": [],
   "source": [
    "item_Saturday_Name = ['Coffee', 'Bread', 'Tea', 'Cake', 'Pastry', 'Sandwich', 'Hot chocolate',\n",
    "       'Scone', 'Medialuna', 'Scandinavian', 'Other']"
   ]
  },
  {
   "cell_type": "code",
   "execution_count": 84,
   "metadata": {},
   "outputs": [
    {
     "data": {
      "image/png": "[encoded data removed]",
      "text/plain": [
       "<Figure size 864x288 with 1 Axes>"
      ]
     },
     "metadata": {
      "needs_background": "light"
     },
     "output_type": "display_data"
    }
   ],
   "source": [
    "plt.figure(figsize=(12,4))\n",
    "plt.ylabel('Values', fontsize='medium')\n",
    "plt.xlabel('Items', fontsize='medium')\n",
    "plt.title('10 Most sold itme')\n",
    "plt.bar(item_Name[:10],item_Value[:10], width = 0.7, color=\"blue\",linewidth=0.4)\n",
    "\n",
    "plt.xticks(rotation=45)\n",
    "plt.show()"
   ]
  },
  {
   "cell_type": "code",
   "execution_count": 85,
   "metadata": {},
   "outputs": [
    {
     "data": {
      "text/html": [
       "<script type=\"text/javascript\">window.PlotlyConfig = {MathJaxConfig: 'local'};</script><script type=\"text/javascript\">if (window.MathJax) {MathJax.Hub.Config({SVG: {font: \"STIX-Web\"}});}</script><script>requirejs.config({paths: { 'plotly': ['https://cdn.plot.ly/plotly-latest.min']},});if(!window._Plotly) {require(['plotly'],function(plotly) {window._Plotly=plotly;});}</script>"
      ],
      "text/vnd.plotly.v1+html": [
       "<script type=\"text/javascript\">window.PlotlyConfig = {MathJaxConfig: 'local'};</script><script type=\"text/javascript\">if (window.MathJax) {MathJax.Hub.Config({SVG: {font: \"STIX-Web\"}});}</script><script>requirejs.config({paths: { 'plotly': ['https://cdn.plot.ly/plotly-latest.min']},});if(!window._Plotly) {require(['plotly'],function(plotly) {window._Plotly=plotly;});}</script>"
      ]
     },
     "metadata": {},
     "output_type": "display_data"
    },
    {
     "data": {
      "application/vnd.plotly.v1+json": {
       "config": {
        "linkText": "Export to plot.ly",
        "plotlyServerURL": "https://plot.ly",
        "showLink": true
       },
       "data": [
        {
         "labels": [
          "Coffee",
          "Bread",
          "Tea",
          "Cake",
          "Pastry",
          "Sandwich",
          "Scone",
          "Hot chocolate",
          "Medialuna",
          "Scandinavian"
         ],
         "type": "pie",
         "uid": "3343f1a3-fa82-46c3-921d-d5bec6aecce5",
         "values": [
          1103,
          760,
          288,
          246,
          166,
          161,
          146,
          146,
          143,
          118
         ]
        }
       ],
       "layout": {
        "title": "Top 10 item sold on Saturday"
       }
      },
      "text/html": [
       "<div id=\"57104f19-69a1-4bb4-ac8c-295de24e9b8f\" style=\"height: 525px; width: 100%;\" class=\"plotly-graph-div\"></div><script type=\"text/javascript\">require([\"plotly\"], function(Plotly) { window.PLOTLYENV=window.PLOTLYENV || {};window.PLOTLYENV.BASE_URL=\"https://plot.ly\";Plotly.newPlot(\"57104f19-69a1-4bb4-ac8c-295de24e9b8f\", [{\"labels\": [\"Coffee\", \"Bread\", \"Tea\", \"Cake\", \"Pastry\", \"Sandwich\", \"Scone\", \"Hot chocolate\", \"Medialuna\", \"Scandinavian\"], \"values\": [1103, 760, 288, 246, 166, 161, 146, 146, 143, 118], \"type\": \"pie\", \"uid\": \"3343f1a3-fa82-46c3-921d-d5bec6aecce5\"}], {\"title\": \"Top 10 item sold on Saturday\"}, {\"showLink\": true, \"linkText\": \"Export to plot.ly\", \"plotlyServerURL\": \"https://plot.ly\"})});</script><script type=\"text/javascript\">window.addEventListener(\"resize\", function(){window._Plotly.Plots.resize(document.getElementById(\"57104f19-69a1-4bb4-ac8c-295de24e9b8f\"));});</script>"
      ],
      "text/vnd.plotly.v1+html": [
       "<div id=\"57104f19-69a1-4bb4-ac8c-295de24e9b8f\" style=\"height: 525px; width: 100%;\" class=\"plotly-graph-div\"></div><script type=\"text/javascript\">require([\"plotly\"], function(Plotly) { window.PLOTLYENV=window.PLOTLYENV || {};window.PLOTLYENV.BASE_URL=\"https://plot.ly\";Plotly.newPlot(\"57104f19-69a1-4bb4-ac8c-295de24e9b8f\", [{\"labels\": [\"Coffee\", \"Bread\", \"Tea\", \"Cake\", \"Pastry\", \"Sandwich\", \"Scone\", \"Hot chocolate\", \"Medialuna\", \"Scandinavian\"], \"values\": [1103, 760, 288, 246, 166, 161, 146, 146, 143, 118], \"type\": \"pie\", \"uid\": \"3343f1a3-fa82-46c3-921d-d5bec6aecce5\"}], {\"title\": \"Top 10 item sold on Saturday\"}, {\"showLink\": true, \"linkText\": \"Export to plot.ly\", \"plotlyServerURL\": \"https://plot.ly\"})});</script><script type=\"text/javascript\">window.addEventListener(\"resize\", function(){window._Plotly.Plots.resize(document.getElementById(\"57104f19-69a1-4bb4-ac8c-295de24e9b8f\"));});</script>"
      ]
     },
     "metadata": {},
     "output_type": "display_data"
    }
   ],
   "source": [
    "init_notebook_mode(connected=True)\n",
    "\n",
    "labels = item_Name_Saturday[:10]\n",
    "values = item_Value_Saturday[:10]\n",
    "\n",
    "trace = go.Pie(labels=labels, values=values)\n",
    "\n",
    "data= [trace]\n",
    "layout = go.Layout(title = 'Top 10 item sold on Saturday')\n",
    "fig = go.Figure(data = data, layout = layout)\n",
    "iplot(fig)"
   ]
  },
  {
   "cell_type": "markdown",
   "metadata": {},
   "source": [
    "We can use the Saturday percentage of sales with Saturday sale prediction as a guidance for the bakery stock."
   ]
  },
  {
   "cell_type": "code",
   "execution_count": 86,
   "metadata": {},
   "outputs": [
    {
     "data": {
      "application/vnd.plotly.v1+json": {
       "config": {
        "linkText": "Export to plot.ly",
        "plotlyServerURL": "https://plot.ly",
        "showLink": true
       },
       "data": [
        {
         "labels": [
          "Coffee",
          "Bread",
          "Tea",
          "Cake",
          "Pastry",
          "Sandwich",
          "Hot chocolate",
          "Scone",
          "Medialuna",
          "Scandinavian",
          "Other"
         ],
         "type": "pie",
         "uid": "cc1e331d-2e97-4de9-9a87-db323ba4c623",
         "values": [
          1103,
          760,
          288,
          246,
          166,
          161,
          146,
          146,
          143,
          118,
          1328
         ]
        }
       ],
       "layout": {
        "title": "All Items sold on Saturday"
       }
      },
      "text/html": [
       "<div id=\"d9f8f6b0-3771-4db2-a3b2-94f5a8a5415c\" style=\"height: 525px; width: 100%;\" class=\"plotly-graph-div\"></div><script type=\"text/javascript\">require([\"plotly\"], function(Plotly) { window.PLOTLYENV=window.PLOTLYENV || {};window.PLOTLYENV.BASE_URL=\"https://plot.ly\";Plotly.newPlot(\"d9f8f6b0-3771-4db2-a3b2-94f5a8a5415c\", [{\"labels\": [\"Coffee\", \"Bread\", \"Tea\", \"Cake\", \"Pastry\", \"Sandwich\", \"Hot chocolate\", \"Scone\", \"Medialuna\", \"Scandinavian\", \"Other\"], \"values\": [1103, 760, 288, 246, 166, 161, 146, 146, 143, 118, 1328], \"type\": \"pie\", \"uid\": \"cc1e331d-2e97-4de9-9a87-db323ba4c623\"}], {\"title\": \"All Items sold on Saturday\"}, {\"showLink\": true, \"linkText\": \"Export to plot.ly\", \"plotlyServerURL\": \"https://plot.ly\"})});</script><script type=\"text/javascript\">window.addEventListener(\"resize\", function(){window._Plotly.Plots.resize(document.getElementById(\"d9f8f6b0-3771-4db2-a3b2-94f5a8a5415c\"));});</script>"
      ],
      "text/vnd.plotly.v1+html": [
       "<div id=\"d9f8f6b0-3771-4db2-a3b2-94f5a8a5415c\" style=\"height: 525px; width: 100%;\" class=\"plotly-graph-div\"></div><script type=\"text/javascript\">require([\"plotly\"], function(Plotly) { window.PLOTLYENV=window.PLOTLYENV || {};window.PLOTLYENV.BASE_URL=\"https://plot.ly\";Plotly.newPlot(\"d9f8f6b0-3771-4db2-a3b2-94f5a8a5415c\", [{\"labels\": [\"Coffee\", \"Bread\", \"Tea\", \"Cake\", \"Pastry\", \"Sandwich\", \"Hot chocolate\", \"Scone\", \"Medialuna\", \"Scandinavian\", \"Other\"], \"values\": [1103, 760, 288, 246, 166, 161, 146, 146, 143, 118, 1328], \"type\": \"pie\", \"uid\": \"cc1e331d-2e97-4de9-9a87-db323ba4c623\"}], {\"title\": \"All Items sold on Saturday\"}, {\"showLink\": true, \"linkText\": \"Export to plot.ly\", \"plotlyServerURL\": \"https://plot.ly\"})});</script><script type=\"text/javascript\">window.addEventListener(\"resize\", function(){window._Plotly.Plots.resize(document.getElementById(\"d9f8f6b0-3771-4db2-a3b2-94f5a8a5415c\"));});</script>"
      ]
     },
     "metadata": {},
     "output_type": "display_data"
    }
   ],
   "source": [
    "\n",
    "labels = item_Saturday_Name\n",
    "values = item_Saturday_Value\n",
    "\n",
    "trace = go.Pie(labels=labels, values=values)\n",
    "\n",
    "data= [trace]\n",
    "layout = go.Layout(title = 'All Items sold on Saturday')\n",
    "fig = go.Figure(data = data, layout = layout)\n",
    "iplot(fig)"
   ]
  },
  {
   "cell_type": "code",
   "execution_count": 87,
   "metadata": {},
   "outputs": [
    {
     "data": {
      "text/plain": [
       "Morning      11257\n",
       "Afternoon     9166\n",
       "Evening         83\n",
       "Name: Session, dtype: int64"
      ]
     },
     "execution_count": 87,
     "metadata": {},
     "output_type": "execute_result"
    }
   ],
   "source": [
    "bakery_temp['Session'].value_counts()"
   ]
  },
  {
   "cell_type": "code",
   "execution_count": 88,
   "metadata": {},
   "outputs": [
    {
     "data": {
      "text/html": [
       "<div>\n",
       "<style scoped>\n",
       "    .dataframe tbody tr th:only-of-type {\n",
       "        vertical-align: middle;\n",
       "    }\n",
       "\n",
       "    .dataframe tbody tr th {\n",
       "        vertical-align: top;\n",
       "    }\n",
       "\n",
       "    .dataframe thead th {\n",
       "        text-align: right;\n",
       "    }\n",
       "</style>\n",
       "<table border=\"1\" class=\"dataframe\">\n",
       "  <thead>\n",
       "    <tr style=\"text-align: right;\">\n",
       "      <th>Day_of_Week</th>\n",
       "      <th>Friday</th>\n",
       "      <th>Monday</th>\n",
       "      <th>Saturday</th>\n",
       "      <th>Sunday</th>\n",
       "      <th>Thursday</th>\n",
       "      <th>Tuesday</th>\n",
       "      <th>Wednesday</th>\n",
       "    </tr>\n",
       "    <tr>\n",
       "      <th>Session</th>\n",
       "      <th></th>\n",
       "      <th></th>\n",
       "      <th></th>\n",
       "      <th></th>\n",
       "      <th></th>\n",
       "      <th></th>\n",
       "      <th></th>\n",
       "    </tr>\n",
       "  </thead>\n",
       "  <tbody>\n",
       "    <tr>\n",
       "      <th>Afternoon</th>\n",
       "      <td>1372.0</td>\n",
       "      <td>1055.0</td>\n",
       "      <td>1961.0</td>\n",
       "      <td>1347.0</td>\n",
       "      <td>1208.0</td>\n",
       "      <td>1126.0</td>\n",
       "      <td>1097.0</td>\n",
       "    </tr>\n",
       "    <tr>\n",
       "      <th>Evening</th>\n",
       "      <td>5.0</td>\n",
       "      <td>NaN</td>\n",
       "      <td>61.0</td>\n",
       "      <td>NaN</td>\n",
       "      <td>12.0</td>\n",
       "      <td>3.0</td>\n",
       "      <td>2.0</td>\n",
       "    </tr>\n",
       "    <tr>\n",
       "      <th>Morning</th>\n",
       "      <td>1747.0</td>\n",
       "      <td>1269.0</td>\n",
       "      <td>2583.0</td>\n",
       "      <td>1748.0</td>\n",
       "      <td>1426.0</td>\n",
       "      <td>1263.0</td>\n",
       "      <td>1221.0</td>\n",
       "    </tr>\n",
       "  </tbody>\n",
       "</table>\n",
       "</div>"
      ],
      "text/plain": [
       "Day_of_Week  Friday  Monday  Saturday  Sunday  Thursday  Tuesday  Wednesday\n",
       "Session                                                                    \n",
       "Afternoon    1372.0  1055.0    1961.0  1347.0    1208.0   1126.0     1097.0\n",
       "Evening         5.0     NaN      61.0     NaN      12.0      3.0        2.0\n",
       "Morning      1747.0  1269.0    2583.0  1748.0    1426.0   1263.0     1221.0"
      ]
     },
     "execution_count": 88,
     "metadata": {},
     "output_type": "execute_result"
    }
   ],
   "source": [
    "#Trying to find out if we can explain why Saturday are the most sales How many sales they were pre session and day of week\n",
    "bakery_temp.groupby(['Session','Day_of_Week'])['Item'].count().unstack()"
   ]
  },
  {
   "cell_type": "code",
   "execution_count": 89,
   "metadata": {},
   "outputs": [
    {
     "data": {
      "text/html": [
       "<div>\n",
       "<style scoped>\n",
       "    .dataframe tbody tr th:only-of-type {\n",
       "        vertical-align: middle;\n",
       "    }\n",
       "\n",
       "    .dataframe tbody tr th {\n",
       "        vertical-align: top;\n",
       "    }\n",
       "\n",
       "    .dataframe thead th {\n",
       "        text-align: right;\n",
       "    }\n",
       "</style>\n",
       "<table border=\"1\" class=\"dataframe\">\n",
       "  <thead>\n",
       "    <tr style=\"text-align: right;\">\n",
       "      <th>Day_of_Week</th>\n",
       "      <th>Friday</th>\n",
       "      <th>Monday</th>\n",
       "      <th>Saturday</th>\n",
       "      <th>Sunday</th>\n",
       "      <th>Thursday</th>\n",
       "      <th>Tuesday</th>\n",
       "      <th>Wednesday</th>\n",
       "    </tr>\n",
       "    <tr>\n",
       "      <th>Category</th>\n",
       "      <th></th>\n",
       "      <th></th>\n",
       "      <th></th>\n",
       "      <th></th>\n",
       "      <th></th>\n",
       "      <th></th>\n",
       "      <th></th>\n",
       "    </tr>\n",
       "  </thead>\n",
       "  <tbody>\n",
       "    <tr>\n",
       "      <th>Food</th>\n",
       "      <td>1190</td>\n",
       "      <td>884</td>\n",
       "      <td>1725</td>\n",
       "      <td>1091</td>\n",
       "      <td>1013</td>\n",
       "      <td>921</td>\n",
       "      <td>887</td>\n",
       "    </tr>\n",
       "    <tr>\n",
       "      <th>drinks</th>\n",
       "      <td>921</td>\n",
       "      <td>747</td>\n",
       "      <td>1182</td>\n",
       "      <td>806</td>\n",
       "      <td>778</td>\n",
       "      <td>782</td>\n",
       "      <td>711</td>\n",
       "    </tr>\n",
       "  </tbody>\n",
       "</table>\n",
       "</div>"
      ],
      "text/plain": [
       "Day_of_Week  Friday  Monday  Saturday  Sunday  Thursday  Tuesday  Wednesday\n",
       "Category                                                                   \n",
       "Food           1190     884      1725    1091      1013      921        887\n",
       "drinks          921     747      1182     806       778      782        711"
      ]
     },
     "execution_count": 89,
     "metadata": {},
     "output_type": "execute_result"
    }
   ],
   "source": [
    "bakery_temp.groupby(['Category','Day_of_Week'])['Transaction'].nunique().unstack()"
   ]
  },
  {
   "cell_type": "markdown",
   "metadata": {},
   "source": [
    "how many costumers there were. Meaning a customer that pays one bill, and it can include more than 1 item. Can see that there were more customers on Saturdays. Lest see what did they buy?"
   ]
  },
  {
   "cell_type": "code",
   "execution_count": 90,
   "metadata": {},
   "outputs": [
    {
     "data": {
      "text/html": [
       "<div>\n",
       "<style scoped>\n",
       "    .dataframe tbody tr th:only-of-type {\n",
       "        vertical-align: middle;\n",
       "    }\n",
       "\n",
       "    .dataframe tbody tr th {\n",
       "        vertical-align: top;\n",
       "    }\n",
       "\n",
       "    .dataframe thead th {\n",
       "        text-align: right;\n",
       "    }\n",
       "</style>\n",
       "<table border=\"1\" class=\"dataframe\">\n",
       "  <thead>\n",
       "    <tr style=\"text-align: right;\">\n",
       "      <th>Day_of_Week</th>\n",
       "      <th>Friday</th>\n",
       "      <th>Monday</th>\n",
       "      <th>Saturday</th>\n",
       "      <th>Sunday</th>\n",
       "      <th>Thursday</th>\n",
       "      <th>Tuesday</th>\n",
       "      <th>Wednesday</th>\n",
       "    </tr>\n",
       "    <tr>\n",
       "      <th>Session</th>\n",
       "      <th></th>\n",
       "      <th></th>\n",
       "      <th></th>\n",
       "      <th></th>\n",
       "      <th></th>\n",
       "      <th></th>\n",
       "      <th></th>\n",
       "    </tr>\n",
       "  </thead>\n",
       "  <tbody>\n",
       "    <tr>\n",
       "      <th>Afternoon</th>\n",
       "      <td>613.0</td>\n",
       "      <td>479.0</td>\n",
       "      <td>824.0</td>\n",
       "      <td>516.0</td>\n",
       "      <td>539.0</td>\n",
       "      <td>520.0</td>\n",
       "      <td>486.0</td>\n",
       "    </tr>\n",
       "    <tr>\n",
       "      <th>Evening</th>\n",
       "      <td>3.0</td>\n",
       "      <td>NaN</td>\n",
       "      <td>46.0</td>\n",
       "      <td>NaN</td>\n",
       "      <td>7.0</td>\n",
       "      <td>3.0</td>\n",
       "      <td>1.0</td>\n",
       "    </tr>\n",
       "    <tr>\n",
       "      <th>Morning</th>\n",
       "      <td>859.0</td>\n",
       "      <td>649.0</td>\n",
       "      <td>1189.0</td>\n",
       "      <td>745.0</td>\n",
       "      <td>702.0</td>\n",
       "      <td>662.0</td>\n",
       "      <td>621.0</td>\n",
       "    </tr>\n",
       "  </tbody>\n",
       "</table>\n",
       "</div>"
      ],
      "text/plain": [
       "Day_of_Week  Friday  Monday  Saturday  Sunday  Thursday  Tuesday  Wednesday\n",
       "Session                                                                    \n",
       "Afternoon     613.0   479.0     824.0   516.0     539.0    520.0      486.0\n",
       "Evening         3.0     NaN      46.0     NaN       7.0      3.0        1.0\n",
       "Morning       859.0   649.0    1189.0   745.0     702.0    662.0      621.0"
      ]
     },
     "execution_count": 90,
     "metadata": {},
     "output_type": "execute_result"
    }
   ],
   "source": [
    "bakery_temp.groupby(['Session','Day_of_Week'])['Transaction'].nunique().unstack()"
   ]
  },
  {
   "cell_type": "code",
   "execution_count": 91,
   "metadata": {},
   "outputs": [
    {
     "data": {
      "text/html": [
       "<div>\n",
       "<style scoped>\n",
       "    .dataframe tbody tr th:only-of-type {\n",
       "        vertical-align: middle;\n",
       "    }\n",
       "\n",
       "    .dataframe tbody tr th {\n",
       "        vertical-align: top;\n",
       "    }\n",
       "\n",
       "    .dataframe thead th {\n",
       "        text-align: right;\n",
       "    }\n",
       "</style>\n",
       "<table border=\"1\" class=\"dataframe\">\n",
       "  <thead>\n",
       "    <tr style=\"text-align: right;\">\n",
       "      <th></th>\n",
       "      <th>Date</th>\n",
       "      <th>Time</th>\n",
       "      <th>Transaction</th>\n",
       "      <th>Item</th>\n",
       "      <th>Date_Time</th>\n",
       "      <th>Day_of_Week</th>\n",
       "      <th>Month</th>\n",
       "      <th>Month_Order</th>\n",
       "      <th>Season</th>\n",
       "      <th>Hour</th>\n",
       "      <th>Session</th>\n",
       "      <th>Category</th>\n",
       "      <th>Hourly</th>\n",
       "      <th>Monthly</th>\n",
       "      <th>Weekly</th>\n",
       "      <th>Unnamed: 0</th>\n",
       "      <th>time</th>\n",
       "      <th>temperature</th>\n",
       "    </tr>\n",
       "  </thead>\n",
       "  <tbody>\n",
       "    <tr>\n",
       "      <th>34</th>\n",
       "      <td>2016-10-30</td>\n",
       "      <td>10:32:46</td>\n",
       "      <td>14</td>\n",
       "      <td>Bread</td>\n",
       "      <td>2016-10-30 10:32:46</td>\n",
       "      <td>Sunday</td>\n",
       "      <td>10</td>\n",
       "      <td>1</td>\n",
       "      <td>Autumn</td>\n",
       "      <td>10</td>\n",
       "      <td>Morning</td>\n",
       "      <td>Food</td>\n",
       "      <td>2016-10-30 10:00:00</td>\n",
       "      <td>2016-10</td>\n",
       "      <td>2016-10-24/2016-10-30</td>\n",
       "      <td>379629.0</td>\n",
       "      <td>752386.0</td>\n",
       "      <td>12.0</td>\n",
       "    </tr>\n",
       "    <tr>\n",
       "      <th>35</th>\n",
       "      <td>2016-10-30</td>\n",
       "      <td>10:32:46</td>\n",
       "      <td>14</td>\n",
       "      <td>Medialuna</td>\n",
       "      <td>2016-10-30 10:32:46</td>\n",
       "      <td>Sunday</td>\n",
       "      <td>10</td>\n",
       "      <td>1</td>\n",
       "      <td>Autumn</td>\n",
       "      <td>10</td>\n",
       "      <td>Morning</td>\n",
       "      <td>Food</td>\n",
       "      <td>2016-10-30 10:00:00</td>\n",
       "      <td>2016-10</td>\n",
       "      <td>2016-10-24/2016-10-30</td>\n",
       "      <td>379629.0</td>\n",
       "      <td>752386.0</td>\n",
       "      <td>12.0</td>\n",
       "    </tr>\n",
       "    <tr>\n",
       "      <th>36</th>\n",
       "      <td>2016-10-30</td>\n",
       "      <td>10:32:46</td>\n",
       "      <td>14</td>\n",
       "      <td>Pastry</td>\n",
       "      <td>2016-10-30 10:32:46</td>\n",
       "      <td>Sunday</td>\n",
       "      <td>10</td>\n",
       "      <td>1</td>\n",
       "      <td>Autumn</td>\n",
       "      <td>10</td>\n",
       "      <td>Morning</td>\n",
       "      <td>Food</td>\n",
       "      <td>2016-10-30 10:00:00</td>\n",
       "      <td>2016-10</td>\n",
       "      <td>2016-10-24/2016-10-30</td>\n",
       "      <td>379629.0</td>\n",
       "      <td>752386.0</td>\n",
       "      <td>12.0</td>\n",
       "    </tr>\n",
       "  </tbody>\n",
       "</table>\n",
       "</div>"
      ],
      "text/plain": [
       "          Date      Time  Transaction       Item           Date_Time  \\\n",
       "34  2016-10-30  10:32:46           14      Bread 2016-10-30 10:32:46   \n",
       "35  2016-10-30  10:32:46           14  Medialuna 2016-10-30 10:32:46   \n",
       "36  2016-10-30  10:32:46           14     Pastry 2016-10-30 10:32:46   \n",
       "\n",
       "   Day_of_Week  Month  Month_Order  Season  Hour  Session Category  \\\n",
       "34      Sunday     10            1  Autumn    10  Morning     Food   \n",
       "35      Sunday     10            1  Autumn    10  Morning     Food   \n",
       "36      Sunday     10            1  Autumn    10  Morning     Food   \n",
       "\n",
       "                Hourly Monthly                Weekly  Unnamed: 0      time  \\\n",
       "34 2016-10-30 10:00:00 2016-10 2016-10-24/2016-10-30    379629.0  752386.0   \n",
       "35 2016-10-30 10:00:00 2016-10 2016-10-24/2016-10-30    379629.0  752386.0   \n",
       "36 2016-10-30 10:00:00 2016-10 2016-10-24/2016-10-30    379629.0  752386.0   \n",
       "\n",
       "    temperature  \n",
       "34         12.0  \n",
       "35         12.0  \n",
       "36         12.0  "
      ]
     },
     "execution_count": 91,
     "metadata": {},
     "output_type": "execute_result"
    }
   ],
   "source": [
    "bakery_temp[bakery_temp['Transaction'] == 14]"
   ]
  },
  {
   "cell_type": "code",
   "execution_count": 92,
   "metadata": {},
   "outputs": [],
   "source": [
    "total_item_a_day =bakery_temp.groupby('Day_of_Week')['Item'].count()"
   ]
  },
  {
   "cell_type": "code",
   "execution_count": 93,
   "metadata": {},
   "outputs": [],
   "source": [
    "total_transaction_a_day = bakery_temp.groupby('Day_of_Week')['Transaction'].nunique()"
   ]
  },
  {
   "cell_type": "code",
   "execution_count": 94,
   "metadata": {},
   "outputs": [],
   "source": [
    "average_item_sold_per_customer_per_day = total_item_a_day.divide(total_transaction_a_day)"
   ]
  },
  {
   "cell_type": "markdown",
   "metadata": {},
   "source": [
    "I want to find out how many items a customers buy on average. Is there a day or hour with least/most items bought?"
   ]
  },
  {
   "cell_type": "code",
   "execution_count": 95,
   "metadata": {},
   "outputs": [
    {
     "data": {
      "image/png": "[encoded data removed]",
      "text/plain": [
       "<Figure size 1296x432 with 1 Axes>"
      ]
     },
     "metadata": {
      "needs_background": "light"
     },
     "output_type": "display_data"
    }
   ],
   "source": [
    "fig, ax = plt.subplots()\n",
    "\n",
    "average_item_sold_per_customer_per_day.plot(kind='bar', figsize=(18,6), ax=ax)\n",
    "ax.set_title('Average items sold per unique transaction per day', fontsize=21, y=1.01)\n",
    "ax.set_ylabel('Total Items', fontsize=16)\n",
    "ax.set_xlabel('Day of the week', fontsize=16)\n",
    "ax.set_xticklabels(ax.get_xticklabels(), rotation=0)\n",
    "\n",
    "plt.show()"
   ]
  },
  {
   "cell_type": "markdown",
   "metadata": {},
   "source": [
    "Yes, Sunday is the day where more customers buy more than one item, on average 2.5 items. Maybe those are customers buying for their families for friends. Or maybe they just like to tread themselves, followed by Saturday."
   ]
  },
  {
   "cell_type": "markdown",
   "metadata": {},
   "source": [
    "I want to see the same but by hour"
   ]
  },
  {
   "cell_type": "code",
   "execution_count": 96,
   "metadata": {},
   "outputs": [],
   "source": [
    "total_item_per_hour =bakery_temp.groupby('Hour')['Item'].count()"
   ]
  },
  {
   "cell_type": "code",
   "execution_count": 97,
   "metadata": {},
   "outputs": [],
   "source": [
    "total_transaction_per_hour = bakery_temp.groupby('Hour')['Transaction'].nunique()"
   ]
  },
  {
   "cell_type": "code",
   "execution_count": 98,
   "metadata": {},
   "outputs": [],
   "source": [
    "average_items_sold_per_customer_per_hour = total_item_per_hour.divide(total_transaction_per_hour)"
   ]
  },
  {
   "cell_type": "code",
   "execution_count": 99,
   "metadata": {},
   "outputs": [
    {
     "data": {
      "image/png": "[encoded data removed]",
      "text/plain": [
       "<Figure size 1296x432 with 1 Axes>"
      ]
     },
     "metadata": {
      "needs_background": "light"
     },
     "output_type": "display_data"
    }
   ],
   "source": [
    "fig, ax = plt.subplots()\n",
    "\n",
    "average_items_sold_per_customer_per_hour.plot(kind='bar', figsize=(18,6), ax=ax)\n",
    "ax.set_title('Average items sold per unique transaction per hour', fontsize=21, y=1.01)\n",
    "ax.set_ylabel('Total Items', fontsize=16)\n",
    "ax.set_xlabel('Hours of the day', fontsize=16)\n",
    "ax.set_xticklabels(ax.get_xticklabels(), rotation=0)\n",
    "plt.show()"
   ]
  },
  {
   "cell_type": "markdown",
   "metadata": {},
   "source": [
    "- We can see that at around lunch time average items is greater, which make sense if you are buying lunch, you will want to have food and drink.\n",
    "- Equally we can see that early morning and late evening, customers tend to buy just one item, maybe in the morning just coffee and in the evening just break."
   ]
  },
  {
   "cell_type": "markdown",
   "metadata": {},
   "source": [
    "Saving dataframe keeping data type"
   ]
  },
  {
   "cell_type": "code",
   "execution_count": 100,
   "metadata": {},
   "outputs": [],
   "source": [
    "bakery_temp.to_pickle('Data/bakery_temp_dataframe.pkl')"
   ]
  },
  {
   "cell_type": "markdown",
   "metadata": {},
   "source": [
    "### Creating a data frame with only the features that are needed and then saving to pickle file"
   ]
  },
  {
   "cell_type": "code",
   "execution_count": 101,
   "metadata": {},
   "outputs": [],
   "source": [
    "#Extract dates as we want then to be the index\n",
    "dates = pd.DatetimeIndex(bakery_temp['Date_Time'])"
   ]
  },
  {
   "cell_type": "markdown",
   "metadata": {},
   "source": [
    "### Will leave temperature just in case"
   ]
  },
  {
   "cell_type": "code",
   "execution_count": 102,
   "metadata": {},
   "outputs": [],
   "source": [
    "bakery_temp_sum = bakery_temp[['Date_Time','Date','Item','Day_of_Week','temperature']].copy()"
   ]
  },
  {
   "cell_type": "code",
   "execution_count": 103,
   "metadata": {},
   "outputs": [
    {
     "data": {
      "text/html": [
       "<div>\n",
       "<style scoped>\n",
       "    .dataframe tbody tr th:only-of-type {\n",
       "        vertical-align: middle;\n",
       "    }\n",
       "\n",
       "    .dataframe tbody tr th {\n",
       "        vertical-align: top;\n",
       "    }\n",
       "\n",
       "    .dataframe thead th {\n",
       "        text-align: right;\n",
       "    }\n",
       "</style>\n",
       "<table border=\"1\" class=\"dataframe\">\n",
       "  <thead>\n",
       "    <tr style=\"text-align: right;\">\n",
       "      <th></th>\n",
       "      <th>Date_Time</th>\n",
       "      <th>Date</th>\n",
       "      <th>Item</th>\n",
       "      <th>Day_of_Week</th>\n",
       "      <th>temperature</th>\n",
       "    </tr>\n",
       "  </thead>\n",
       "  <tbody>\n",
       "    <tr>\n",
       "      <th>0</th>\n",
       "      <td>2016-10-30 09:58:11</td>\n",
       "      <td>2016-10-30</td>\n",
       "      <td>Bread</td>\n",
       "      <td>Sunday</td>\n",
       "      <td>10.0</td>\n",
       "    </tr>\n",
       "    <tr>\n",
       "      <th>1</th>\n",
       "      <td>2016-10-30 10:05:34</td>\n",
       "      <td>2016-10-30</td>\n",
       "      <td>Scandinavian</td>\n",
       "      <td>Sunday</td>\n",
       "      <td>12.0</td>\n",
       "    </tr>\n",
       "    <tr>\n",
       "      <th>2</th>\n",
       "      <td>2016-10-30 10:05:34</td>\n",
       "      <td>2016-10-30</td>\n",
       "      <td>Scandinavian</td>\n",
       "      <td>Sunday</td>\n",
       "      <td>12.0</td>\n",
       "    </tr>\n",
       "    <tr>\n",
       "      <th>3</th>\n",
       "      <td>2016-10-30 10:07:57</td>\n",
       "      <td>2016-10-30</td>\n",
       "      <td>Hot chocolate</td>\n",
       "      <td>Sunday</td>\n",
       "      <td>12.0</td>\n",
       "    </tr>\n",
       "    <tr>\n",
       "      <th>4</th>\n",
       "      <td>2016-10-30 10:07:57</td>\n",
       "      <td>2016-10-30</td>\n",
       "      <td>Jam</td>\n",
       "      <td>Sunday</td>\n",
       "      <td>12.0</td>\n",
       "    </tr>\n",
       "    <tr>\n",
       "      <th>5</th>\n",
       "      <td>2016-10-30 10:07:57</td>\n",
       "      <td>2016-10-30</td>\n",
       "      <td>Cookies</td>\n",
       "      <td>Sunday</td>\n",
       "      <td>12.0</td>\n",
       "    </tr>\n",
       "    <tr>\n",
       "      <th>6</th>\n",
       "      <td>2016-10-30 10:08:41</td>\n",
       "      <td>2016-10-30</td>\n",
       "      <td>Muffin</td>\n",
       "      <td>Sunday</td>\n",
       "      <td>12.0</td>\n",
       "    </tr>\n",
       "    <tr>\n",
       "      <th>7</th>\n",
       "      <td>2016-10-30 10:13:03</td>\n",
       "      <td>2016-10-30</td>\n",
       "      <td>Coffee</td>\n",
       "      <td>Sunday</td>\n",
       "      <td>12.0</td>\n",
       "    </tr>\n",
       "    <tr>\n",
       "      <th>8</th>\n",
       "      <td>2016-10-30 10:13:03</td>\n",
       "      <td>2016-10-30</td>\n",
       "      <td>Pastry</td>\n",
       "      <td>Sunday</td>\n",
       "      <td>12.0</td>\n",
       "    </tr>\n",
       "    <tr>\n",
       "      <th>9</th>\n",
       "      <td>2016-10-30 10:13:03</td>\n",
       "      <td>2016-10-30</td>\n",
       "      <td>Bread</td>\n",
       "      <td>Sunday</td>\n",
       "      <td>12.0</td>\n",
       "    </tr>\n",
       "  </tbody>\n",
       "</table>\n",
       "</div>"
      ],
      "text/plain": [
       "            Date_Time        Date           Item Day_of_Week  temperature\n",
       "0 2016-10-30 09:58:11  2016-10-30          Bread      Sunday         10.0\n",
       "1 2016-10-30 10:05:34  2016-10-30   Scandinavian      Sunday         12.0\n",
       "2 2016-10-30 10:05:34  2016-10-30   Scandinavian      Sunday         12.0\n",
       "3 2016-10-30 10:07:57  2016-10-30  Hot chocolate      Sunday         12.0\n",
       "4 2016-10-30 10:07:57  2016-10-30            Jam      Sunday         12.0\n",
       "5 2016-10-30 10:07:57  2016-10-30        Cookies      Sunday         12.0\n",
       "6 2016-10-30 10:08:41  2016-10-30         Muffin      Sunday         12.0\n",
       "7 2016-10-30 10:13:03  2016-10-30         Coffee      Sunday         12.0\n",
       "8 2016-10-30 10:13:03  2016-10-30         Pastry      Sunday         12.0\n",
       "9 2016-10-30 10:13:03  2016-10-30          Bread      Sunday         12.0"
      ]
     },
     "execution_count": 103,
     "metadata": {},
     "output_type": "execute_result"
    }
   ],
   "source": [
    "bakery_temp_sum.head(10)"
   ]
  },
  {
   "cell_type": "code",
   "execution_count": 104,
   "metadata": {},
   "outputs": [],
   "source": [
    "bakery_temp_sum.to_pickle('Data/bakery_temp_sum_dataframe.pkl')"
   ]
  },
  {
   "cell_type": "markdown",
   "metadata": {},
   "source": [
    "### Some of the added features such as season, session, month, etc where not really used as this dataset has only data for four full months. "
   ]
  },
  {
   "cell_type": "markdown",
   "metadata": {},
   "source": [
    "### Below are the most important business facts discovered\n",
    "- Data only from the 30th October 2016 to the 9th of March 2017\n",
    "- The bakery sales 96 different items in total, 85 are foods and 6 drinks as well as others for cancellations and adjustment\n",
    "- The bakery opens 7 days a week\n",
    "- It was closed only 4 days during the 6 month period. Those days were the 25th and 26th of December 2016 and the 1st and 2nd of January 2017\n",
    "- Coffee is the most sold item followed by bread\n",
    "- There are a few item that have been sold once or twice only, maybe there are worth stop selling those, or at least item that have a short life date\n",
    "- There is not enough data to make compare between seasons or months\n",
    "- Saturday is the busiest day of the week. Where there are more volume of sales around lunch and tea time. It could be that people prefer to eat lunch out with family or friends while doing shopping or other outdoor activities.\n",
    "- The busiest hours are from 10:00 to  14:00 all days. \n",
    "- On average customers buy 2 to 2.5 items between 10:00 to 17:00, Early morning and late evening they only bought on average 1.5 items. Maybe early morning people only buy coffee and in the evening they buy just bread."
   ]
  },
  {
   "cell_type": "code",
   "execution_count": null,
   "metadata": {},
   "outputs": [],
   "source": []
  }
 ],
 "metadata": {
  "kernelspec": {
   "display_name": "Python 3",
   "language": "python",
   "name": "python3"
  },
  "language_info": {
   "codemirror_mode": {
    "name": "ipython",
    "version": 3
   },
   "file_extension": ".py",
   "mimetype": "text/x-python",
   "name": "python",
   "nbconvert_exporter": "python",
   "pygments_lexer": "ipython3",
   "version": "3.7.0"
  }
 },
 "nbformat": 4,
 "nbformat_minor": 2
}

{
 "cells": [
  {
   "cell_type": "code",
   "execution_count": 1,
   "metadata": {},
   "outputs": [],
   "source": [
    "import pandas as pd\n",
    "from pandas import Series\n",
    "import numpy as np\n",
    "import matplotlib.pyplot as plt\n",
    "import matplotlib.dates as mdates\n",
    "import seaborn as sns\n",
    "import statsmodels.api as sm\n",
    "%matplotlib inline\n",
    "from scipy.interpolate import interp1d\n",
    "\n",
    "from sklearn import metrics\n",
    "from sklearn.metrics import mean_squared_error, confusion_matrix\n",
    "from sklearn.linear_model import LinearRegression, Ridge, Lasso\n",
    "from sklearn.model_selection import train_test_split, cross_val_score, GridSearchCV\n",
    "\n",
    "import warnings\n",
    "warnings.filterwarnings(\"ignore\")"
   ]
  },
  {
   "cell_type": "markdown",
   "metadata": {},
   "source": [
    "### The main finding from EDA and after work on different models\n",
    "\n",
    "- The main feature will be a dummy variables extracted from Day_of_Week,as well as:\n",
    "- is_local_event, this will help predicting sales when local events are happening and\n",
    "- is_bank_holiday, this will capture bank holidays\n",
    "- After running model with Temperature it is concluded that temperature is not a good feature and therefore not going to be included\n",
    "\n",
    "Local events data was taken from http://www.edinburghguide.com/events/"
   ]
  },
  {
   "cell_type": "markdown",
   "metadata": {},
   "source": [
    "### Loading bakery dataframe from file"
   ]
  },
  {
   "cell_type": "code",
   "execution_count": 2,
   "metadata": {},
   "outputs": [],
   "source": [
    "bakery_temp = pd.read_pickle('Data/bakery_temp_sum_dataframe.pkl')"
   ]
  },
  {
   "cell_type": "code",
   "execution_count": 3,
   "metadata": {},
   "outputs": [
    {
     "name": "stdout",
     "output_type": "stream",
     "text": [
      "<class 'pandas.core.frame.DataFrame'>\n",
      "Int64Index: 20506 entries, 0 to 20505\n",
      "Data columns (total 5 columns):\n",
      "Date_Time      20506 non-null datetime64[ns]\n",
      "Date           20506 non-null object\n",
      "Item           20506 non-null object\n",
      "Day_of_Week    20506 non-null object\n",
      "temperature    20506 non-null float64\n",
      "dtypes: datetime64[ns](1), float64(1), object(3)\n",
      "memory usage: 961.2+ KB\n"
     ]
    }
   ],
   "source": [
    "bakery_temp.info()"
   ]
  },
  {
   "cell_type": "code",
   "execution_count": 4,
   "metadata": {},
   "outputs": [
    {
     "data": {
      "text/html": [
       "<div>\n",
       "<style scoped>\n",
       "    .dataframe tbody tr th:only-of-type {\n",
       "        vertical-align: middle;\n",
       "    }\n",
       "\n",
       "    .dataframe tbody tr th {\n",
       "        vertical-align: top;\n",
       "    }\n",
       "\n",
       "    .dataframe thead th {\n",
       "        text-align: right;\n",
       "    }\n",
       "</style>\n",
       "<table border=\"1\" class=\"dataframe\">\n",
       "  <thead>\n",
       "    <tr style=\"text-align: right;\">\n",
       "      <th></th>\n",
       "      <th>Date_Time</th>\n",
       "      <th>Date</th>\n",
       "      <th>Item</th>\n",
       "      <th>Day_of_Week</th>\n",
       "      <th>temperature</th>\n",
       "    </tr>\n",
       "  </thead>\n",
       "  <tbody>\n",
       "    <tr>\n",
       "      <th>0</th>\n",
       "      <td>2016-10-30 09:58:11</td>\n",
       "      <td>2016-10-30</td>\n",
       "      <td>Bread</td>\n",
       "      <td>Sunday</td>\n",
       "      <td>10.0</td>\n",
       "    </tr>\n",
       "    <tr>\n",
       "      <th>1</th>\n",
       "      <td>2016-10-30 10:05:34</td>\n",
       "      <td>2016-10-30</td>\n",
       "      <td>Scandinavian</td>\n",
       "      <td>Sunday</td>\n",
       "      <td>12.0</td>\n",
       "    </tr>\n",
       "  </tbody>\n",
       "</table>\n",
       "</div>"
      ],
      "text/plain": [
       "            Date_Time        Date          Item Day_of_Week  temperature\n",
       "0 2016-10-30 09:58:11  2016-10-30         Bread      Sunday         10.0\n",
       "1 2016-10-30 10:05:34  2016-10-30  Scandinavian      Sunday         12.0"
      ]
     },
     "execution_count": 4,
     "metadata": {},
     "output_type": "execute_result"
    }
   ],
   "source": [
    "bakery_temp.head(2)"
   ]
  },
  {
   "cell_type": "markdown",
   "metadata": {},
   "source": [
    "### List containing dates for local events and bank holidays"
   ]
  },
  {
   "cell_type": "code",
   "execution_count": 5,
   "metadata": {},
   "outputs": [],
   "source": [
    "list_of_event = ['2016-11-05','2016-11-12','2017-01-28','2017-02-04','2017-02-18','2017-03-04']\n",
    "\n",
    "is_bank_holiday = ['2016-12-25','2016-12-26','2017-01-01','2017-01-02']"
   ]
  },
  {
   "cell_type": "markdown",
   "metadata": {},
   "source": [
    "### Extract dates as we want then to be the index"
   ]
  },
  {
   "cell_type": "code",
   "execution_count": 6,
   "metadata": {},
   "outputs": [],
   "source": [
    "dates = pd.DatetimeIndex(bakery_temp['Date_Time'])"
   ]
  },
  {
   "cell_type": "code",
   "execution_count": 7,
   "metadata": {},
   "outputs": [],
   "source": [
    "#Create new dataset with only item and date \n",
    "bakery = pd.DataFrame(bakery_temp.Item.values, columns=['Item'], index=dates)"
   ]
  },
  {
   "cell_type": "code",
   "execution_count": 8,
   "metadata": {},
   "outputs": [
    {
     "data": {
      "text/html": [
       "<div>\n",
       "<style scoped>\n",
       "    .dataframe tbody tr th:only-of-type {\n",
       "        vertical-align: middle;\n",
       "    }\n",
       "\n",
       "    .dataframe tbody tr th {\n",
       "        vertical-align: top;\n",
       "    }\n",
       "\n",
       "    .dataframe thead th {\n",
       "        text-align: right;\n",
       "    }\n",
       "</style>\n",
       "<table border=\"1\" class=\"dataframe\">\n",
       "  <thead>\n",
       "    <tr style=\"text-align: right;\">\n",
       "      <th></th>\n",
       "      <th>Item</th>\n",
       "    </tr>\n",
       "    <tr>\n",
       "      <th>Date_Time</th>\n",
       "      <th></th>\n",
       "    </tr>\n",
       "  </thead>\n",
       "  <tbody>\n",
       "    <tr>\n",
       "      <th>2016-10-30 09:58:11</th>\n",
       "      <td>Bread</td>\n",
       "    </tr>\n",
       "    <tr>\n",
       "      <th>2016-10-30 10:05:34</th>\n",
       "      <td>Scandinavian</td>\n",
       "    </tr>\n",
       "    <tr>\n",
       "      <th>2016-10-30 10:05:34</th>\n",
       "      <td>Scandinavian</td>\n",
       "    </tr>\n",
       "    <tr>\n",
       "      <th>2016-10-30 10:07:57</th>\n",
       "      <td>Hot chocolate</td>\n",
       "    </tr>\n",
       "    <tr>\n",
       "      <th>2016-10-30 10:07:57</th>\n",
       "      <td>Jam</td>\n",
       "    </tr>\n",
       "  </tbody>\n",
       "</table>\n",
       "</div>"
      ],
      "text/plain": [
       "                              Item\n",
       "Date_Time                         \n",
       "2016-10-30 09:58:11          Bread\n",
       "2016-10-30 10:05:34   Scandinavian\n",
       "2016-10-30 10:05:34   Scandinavian\n",
       "2016-10-30 10:07:57  Hot chocolate\n",
       "2016-10-30 10:07:57            Jam"
      ]
     },
     "execution_count": 8,
     "metadata": {},
     "output_type": "execute_result"
    }
   ],
   "source": [
    "bakery.head(5)"
   ]
  },
  {
   "cell_type": "markdown",
   "metadata": {},
   "source": [
    "### Resample dataframe in days"
   ]
  },
  {
   "cell_type": "code",
   "execution_count": 9,
   "metadata": {},
   "outputs": [],
   "source": [
    "bakery_daily = bakery.resample('D').count()"
   ]
  },
  {
   "cell_type": "code",
   "execution_count": 10,
   "metadata": {},
   "outputs": [
    {
     "data": {
      "text/html": [
       "<div>\n",
       "<style scoped>\n",
       "    .dataframe tbody tr th:only-of-type {\n",
       "        vertical-align: middle;\n",
       "    }\n",
       "\n",
       "    .dataframe tbody tr th {\n",
       "        vertical-align: top;\n",
       "    }\n",
       "\n",
       "    .dataframe thead th {\n",
       "        text-align: right;\n",
       "    }\n",
       "</style>\n",
       "<table border=\"1\" class=\"dataframe\">\n",
       "  <thead>\n",
       "    <tr style=\"text-align: right;\">\n",
       "      <th></th>\n",
       "      <th>Item</th>\n",
       "    </tr>\n",
       "    <tr>\n",
       "      <th>Date_Time</th>\n",
       "      <th></th>\n",
       "    </tr>\n",
       "  </thead>\n",
       "  <tbody>\n",
       "    <tr>\n",
       "      <th>2016-10-30</th>\n",
       "      <td>170</td>\n",
       "    </tr>\n",
       "    <tr>\n",
       "      <th>2016-10-31</th>\n",
       "      <td>199</td>\n",
       "    </tr>\n",
       "    <tr>\n",
       "      <th>2016-11-01</th>\n",
       "      <td>150</td>\n",
       "    </tr>\n",
       "    <tr>\n",
       "      <th>2016-11-02</th>\n",
       "      <td>164</td>\n",
       "    </tr>\n",
       "    <tr>\n",
       "      <th>2016-11-03</th>\n",
       "      <td>189</td>\n",
       "    </tr>\n",
       "  </tbody>\n",
       "</table>\n",
       "</div>"
      ],
      "text/plain": [
       "            Item\n",
       "Date_Time       \n",
       "2016-10-30   170\n",
       "2016-10-31   199\n",
       "2016-11-01   150\n",
       "2016-11-02   164\n",
       "2016-11-03   189"
      ]
     },
     "execution_count": 10,
     "metadata": {},
     "output_type": "execute_result"
    }
   ],
   "source": [
    "bakery_daily.head(5)"
   ]
  },
  {
   "cell_type": "markdown",
   "metadata": {},
   "source": [
    "### This will create the binary features is_local_event and is_bank_holiday in our dataframe"
   ]
  },
  {
   "cell_type": "code",
   "execution_count": 11,
   "metadata": {},
   "outputs": [],
   "source": [
    "bakery_daily['is_local_event'] = np.where(bakery_daily.index.isin(list_of_event),1,0)\n",
    "bakery_daily['is_bank_holiday'] = np.where(bakery_daily.index.isin(is_bank_holiday),1,0)"
   ]
  },
  {
   "cell_type": "code",
   "execution_count": 12,
   "metadata": {},
   "outputs": [
    {
     "data": {
      "text/plain": [
       "6"
      ]
     },
     "execution_count": 12,
     "metadata": {},
     "output_type": "execute_result"
    }
   ],
   "source": [
    "bakery_daily['is_local_event'].sum()"
   ]
  },
  {
   "cell_type": "code",
   "execution_count": 13,
   "metadata": {},
   "outputs": [
    {
     "data": {
      "text/plain": [
       "4"
      ]
     },
     "execution_count": 13,
     "metadata": {},
     "output_type": "execute_result"
    }
   ],
   "source": [
    "bakery_daily['is_bank_holiday'].sum()"
   ]
  },
  {
   "cell_type": "code",
   "execution_count": 14,
   "metadata": {},
   "outputs": [
    {
     "data": {
      "text/plain": [
       "<matplotlib.axes._subplots.AxesSubplot at 0x1d667a6ae80>"
      ]
     },
     "execution_count": 14,
     "metadata": {},
     "output_type": "execute_result"
    },
    {
     "data": {
      "image/png": "[encoded data removed]",
      "text/plain": [
       "<Figure size 432x288 with 1 Axes>"
      ]
     },
     "metadata": {
      "needs_background": "light"
     },
     "output_type": "display_data"
    }
   ],
   "source": [
    "bakery_daily.Item.plot()"
   ]
  },
  {
   "cell_type": "code",
   "execution_count": 15,
   "metadata": {},
   "outputs": [
    {
     "data": {
      "text/plain": [
       "<matplotlib.axes._subplots.AxesSubplot at 0x1d667b8de80>"
      ]
     },
     "execution_count": 15,
     "metadata": {},
     "output_type": "execute_result"
    },
    {
     "data": {
      "image/png": "[encoded data removed]",
      "text/plain": [
       "<Figure size 432x288 with 1 Axes>"
      ]
     },
     "metadata": {
      "needs_background": "light"
     },
     "output_type": "display_data"
    }
   ],
   "source": [
    "bakery_daily.boxplot()"
   ]
  },
  {
   "cell_type": "code",
   "execution_count": 16,
   "metadata": {},
   "outputs": [
    {
     "data": {
      "text/html": [
       "<div>\n",
       "<style scoped>\n",
       "    .dataframe tbody tr th:only-of-type {\n",
       "        vertical-align: middle;\n",
       "    }\n",
       "\n",
       "    .dataframe tbody tr th {\n",
       "        vertical-align: top;\n",
       "    }\n",
       "\n",
       "    .dataframe thead th {\n",
       "        text-align: right;\n",
       "    }\n",
       "</style>\n",
       "<table border=\"1\" class=\"dataframe\">\n",
       "  <thead>\n",
       "    <tr style=\"text-align: right;\">\n",
       "      <th></th>\n",
       "      <th>Item</th>\n",
       "      <th>is_local_event</th>\n",
       "      <th>is_bank_holiday</th>\n",
       "    </tr>\n",
       "  </thead>\n",
       "  <tbody>\n",
       "    <tr>\n",
       "      <th>count</th>\n",
       "      <td>162.000000</td>\n",
       "      <td>162.000000</td>\n",
       "      <td>162.000000</td>\n",
       "    </tr>\n",
       "    <tr>\n",
       "      <th>mean</th>\n",
       "      <td>126.580247</td>\n",
       "      <td>0.037037</td>\n",
       "      <td>0.024691</td>\n",
       "    </tr>\n",
       "    <tr>\n",
       "      <th>std</th>\n",
       "      <td>47.906188</td>\n",
       "      <td>0.189438</td>\n",
       "      <td>0.155664</td>\n",
       "    </tr>\n",
       "    <tr>\n",
       "      <th>min</th>\n",
       "      <td>0.000000</td>\n",
       "      <td>0.000000</td>\n",
       "      <td>0.000000</td>\n",
       "    </tr>\n",
       "    <tr>\n",
       "      <th>25%</th>\n",
       "      <td>95.750000</td>\n",
       "      <td>0.000000</td>\n",
       "      <td>0.000000</td>\n",
       "    </tr>\n",
       "    <tr>\n",
       "      <th>50%</th>\n",
       "      <td>118.000000</td>\n",
       "      <td>0.000000</td>\n",
       "      <td>0.000000</td>\n",
       "    </tr>\n",
       "    <tr>\n",
       "      <th>75%</th>\n",
       "      <td>150.750000</td>\n",
       "      <td>0.000000</td>\n",
       "      <td>0.000000</td>\n",
       "    </tr>\n",
       "    <tr>\n",
       "      <th>max</th>\n",
       "      <td>292.000000</td>\n",
       "      <td>1.000000</td>\n",
       "      <td>1.000000</td>\n",
       "    </tr>\n",
       "  </tbody>\n",
       "</table>\n",
       "</div>"
      ],
      "text/plain": [
       "             Item  is_local_event  is_bank_holiday\n",
       "count  162.000000      162.000000       162.000000\n",
       "mean   126.580247        0.037037         0.024691\n",
       "std     47.906188        0.189438         0.155664\n",
       "min      0.000000        0.000000         0.000000\n",
       "25%     95.750000        0.000000         0.000000\n",
       "50%    118.000000        0.000000         0.000000\n",
       "75%    150.750000        0.000000         0.000000\n",
       "max    292.000000        1.000000         1.000000"
      ]
     },
     "execution_count": 16,
     "metadata": {},
     "output_type": "execute_result"
    }
   ],
   "source": [
    "bakery_daily.describe()"
   ]
  },
  {
   "cell_type": "markdown",
   "metadata": {},
   "source": [
    "### I have decided to remove the 1 sale of bread on the bank holiday as it was an exception"
   ]
  },
  {
   "cell_type": "code",
   "execution_count": 17,
   "metadata": {},
   "outputs": [
    {
     "data": {
      "text/html": [
       "<div>\n",
       "<style scoped>\n",
       "    .dataframe tbody tr th:only-of-type {\n",
       "        vertical-align: middle;\n",
       "    }\n",
       "\n",
       "    .dataframe tbody tr th {\n",
       "        vertical-align: top;\n",
       "    }\n",
       "\n",
       "    .dataframe thead th {\n",
       "        text-align: right;\n",
       "    }\n",
       "</style>\n",
       "<table border=\"1\" class=\"dataframe\">\n",
       "  <thead>\n",
       "    <tr style=\"text-align: right;\">\n",
       "      <th></th>\n",
       "      <th>Item</th>\n",
       "      <th>is_local_event</th>\n",
       "      <th>is_bank_holiday</th>\n",
       "    </tr>\n",
       "    <tr>\n",
       "      <th>Date_Time</th>\n",
       "      <th></th>\n",
       "      <th></th>\n",
       "      <th></th>\n",
       "    </tr>\n",
       "  </thead>\n",
       "  <tbody>\n",
       "    <tr>\n",
       "      <th>2017-01-01</th>\n",
       "      <td>1</td>\n",
       "      <td>0</td>\n",
       "      <td>1</td>\n",
       "    </tr>\n",
       "  </tbody>\n",
       "</table>\n",
       "</div>"
      ],
      "text/plain": [
       "            Item  is_local_event  is_bank_holiday\n",
       "Date_Time                                        \n",
       "2017-01-01     1               0                1"
      ]
     },
     "execution_count": 17,
     "metadata": {},
     "output_type": "execute_result"
    }
   ],
   "source": [
    "bakery_daily[bakery_daily['Item'] == 1]"
   ]
  },
  {
   "cell_type": "code",
   "execution_count": 18,
   "metadata": {},
   "outputs": [],
   "source": [
    "bakery_daily.loc[bakery_daily['Item'] == 1, 'Item'] = 0"
   ]
  },
  {
   "cell_type": "code",
   "execution_count": 19,
   "metadata": {},
   "outputs": [
    {
     "data": {
      "text/html": [
       "<div>\n",
       "<style scoped>\n",
       "    .dataframe tbody tr th:only-of-type {\n",
       "        vertical-align: middle;\n",
       "    }\n",
       "\n",
       "    .dataframe tbody tr th {\n",
       "        vertical-align: top;\n",
       "    }\n",
       "\n",
       "    .dataframe thead th {\n",
       "        text-align: right;\n",
       "    }\n",
       "</style>\n",
       "<table border=\"1\" class=\"dataframe\">\n",
       "  <thead>\n",
       "    <tr style=\"text-align: right;\">\n",
       "      <th></th>\n",
       "      <th>Item</th>\n",
       "      <th>is_local_event</th>\n",
       "      <th>is_bank_holiday</th>\n",
       "    </tr>\n",
       "    <tr>\n",
       "      <th>Date_Time</th>\n",
       "      <th></th>\n",
       "      <th></th>\n",
       "      <th></th>\n",
       "    </tr>\n",
       "  </thead>\n",
       "  <tbody>\n",
       "  </tbody>\n",
       "</table>\n",
       "</div>"
      ],
      "text/plain": [
       "Empty DataFrame\n",
       "Columns: [Item, is_local_event, is_bank_holiday]\n",
       "Index: []"
      ]
     },
     "execution_count": 19,
     "metadata": {},
     "output_type": "execute_result"
    }
   ],
   "source": [
    "bakery_daily[bakery_daily['Item'] == 1]"
   ]
  },
  {
   "cell_type": "code",
   "execution_count": 20,
   "metadata": {},
   "outputs": [
    {
     "data": {
      "text/plain": [
       "<matplotlib.axes._subplots.AxesSubplot at 0x1d667c4ae80>"
      ]
     },
     "execution_count": 20,
     "metadata": {},
     "output_type": "execute_result"
    },
    {
     "data": {
      "image/png": "[encoded data removed]",
      "text/plain": [
       "<Figure size 432x288 with 1 Axes>"
      ]
     },
     "metadata": {
      "needs_background": "light"
     },
     "output_type": "display_data"
    }
   ],
   "source": [
    "bakery_daily['Item'].hist()"
   ]
  },
  {
   "cell_type": "markdown",
   "metadata": {},
   "source": [
    "### Daily sales plus trend"
   ]
  },
  {
   "cell_type": "code",
   "execution_count": 21,
   "metadata": {},
   "outputs": [
    {
     "data": {
      "text/plain": [
       "[<matplotlib.lines.Line2D at 0x1d667cd2518>,\n",
       " <matplotlib.lines.Line2D at 0x1d667cf2fd0>,\n",
       " <matplotlib.lines.Line2D at 0x1d667d06160>]"
      ]
     },
     "execution_count": 21,
     "metadata": {},
     "output_type": "execute_result"
    },
    {
     "data": {
      "image/png": "[encoded data removed]",
      "text/plain": [
       "<Figure size 432x288 with 1 Axes>"
      ]
     },
     "metadata": {
      "needs_background": "light"
     },
     "output_type": "display_data"
    }
   ],
   "source": [
    "decomposition = sm.tsa.seasonal_decompose(bakery_daily,model=\"additive\")\n",
    "\n",
    "fig, ax = plt.subplots()\n",
    "ax.grid(True)\n",
    "\n",
    "year = mdates.YearLocator(month=1)\n",
    "month = mdates.MonthLocator(interval=1)\n",
    "\n",
    "year_format = mdates.DateFormatter('%Y')\n",
    "month_format = mdates.DateFormatter('%Y-%m')\n",
    "\n",
    "ax.xaxis.set_minor_locator(month)\n",
    "ax.xaxis.grid(True, which = 'minor')\n",
    "ax.xaxis.set_major_locator(month)\n",
    "ax.xaxis.set_major_formatter(month_format)\n",
    "\n",
    "plt.plot(bakery_daily.index, bakery_daily['Item'], c='blue')\n",
    "plt.plot(decomposition.trend.index, decomposition.trend, c='red')"
   ]
  },
  {
   "cell_type": "code",
   "execution_count": 22,
   "metadata": {},
   "outputs": [],
   "source": [
    "bakery_daily['Date'] = bakery_daily.index"
   ]
  },
  {
   "cell_type": "code",
   "execution_count": 23,
   "metadata": {},
   "outputs": [],
   "source": [
    "bakery_daily['Week_Day'] = bakery_daily.Date.dt.day_name()"
   ]
  },
  {
   "cell_type": "code",
   "execution_count": 24,
   "metadata": {},
   "outputs": [
    {
     "data": {
      "text/html": [
       "<div>\n",
       "<style scoped>\n",
       "    .dataframe tbody tr th:only-of-type {\n",
       "        vertical-align: middle;\n",
       "    }\n",
       "\n",
       "    .dataframe tbody tr th {\n",
       "        vertical-align: top;\n",
       "    }\n",
       "\n",
       "    .dataframe thead th {\n",
       "        text-align: right;\n",
       "    }\n",
       "</style>\n",
       "<table border=\"1\" class=\"dataframe\">\n",
       "  <thead>\n",
       "    <tr style=\"text-align: right;\">\n",
       "      <th></th>\n",
       "      <th>Item</th>\n",
       "      <th>is_local_event</th>\n",
       "      <th>is_bank_holiday</th>\n",
       "      <th>Date</th>\n",
       "      <th>Week_Day</th>\n",
       "    </tr>\n",
       "    <tr>\n",
       "      <th>Date_Time</th>\n",
       "      <th></th>\n",
       "      <th></th>\n",
       "      <th></th>\n",
       "      <th></th>\n",
       "      <th></th>\n",
       "    </tr>\n",
       "  </thead>\n",
       "  <tbody>\n",
       "    <tr>\n",
       "      <th>2016-10-30</th>\n",
       "      <td>170</td>\n",
       "      <td>0</td>\n",
       "      <td>0</td>\n",
       "      <td>2016-10-30</td>\n",
       "      <td>Sunday</td>\n",
       "    </tr>\n",
       "    <tr>\n",
       "      <th>2016-10-31</th>\n",
       "      <td>199</td>\n",
       "      <td>0</td>\n",
       "      <td>0</td>\n",
       "      <td>2016-10-31</td>\n",
       "      <td>Monday</td>\n",
       "    </tr>\n",
       "  </tbody>\n",
       "</table>\n",
       "</div>"
      ],
      "text/plain": [
       "            Item  is_local_event  is_bank_holiday       Date Week_Day\n",
       "Date_Time                                                            \n",
       "2016-10-30   170               0                0 2016-10-30   Sunday\n",
       "2016-10-31   199               0                0 2016-10-31   Monday"
      ]
     },
     "execution_count": 24,
     "metadata": {},
     "output_type": "execute_result"
    }
   ],
   "source": [
    "bakery_daily.head(2)"
   ]
  },
  {
   "cell_type": "markdown",
   "metadata": {},
   "source": [
    "### Creating a loop dropping different day at a time to see if I get differnt results "
   ]
  },
  {
   "cell_type": "code",
   "execution_count": 25,
   "metadata": {},
   "outputs": [],
   "source": [
    "#train-test-split, fitting-model, testing definition\n",
    "def fit_linear_model(X, y, day, model_inst):\n",
    "    X_train, X_test, y_train, y_test = train_test_split(X, y, test_size=0.2, random_state=42,shuffle=True)\n",
    "    result_list = []\n",
    "\n",
    "    model_inst.fit(X_train, y_train)\n",
    "    \n",
    "    y_pred = model_inst.predict(X_train)\n",
    "    \n",
    "    MAE = metrics.mean_absolute_error(y_train, y_pred)\n",
    "    RMSE =np.sqrt(metrics.mean_squared_error(y_train, y_pred))\n",
    "\n",
    "    result_list= [day, MAE, RMSE, model_inst.intercept_, model_inst, model_inst.coef_]\n",
    "    return result_list\n"
   ]
  },
  {
   "cell_type": "code",
   "execution_count": 26,
   "metadata": {},
   "outputs": [],
   "source": [
    "# list containing the days of the week\n",
    "days_of_the_week = ['Week_Day_Monday','Week_Day_Tuesday','Week_Day_Wednesday','Week_Day_Thursday','Week_Day_Friday', 'Week_Day_Saturday','Week_Day_Sunday']"
   ]
  },
  {
   "cell_type": "code",
   "execution_count": 27,
   "metadata": {},
   "outputs": [],
   "source": [
    "#Creating dataframe to save resuls\n",
    "columns = ['Day','MAE','RMSE','Intercept','Model', 'Coef']\n",
    "\n",
    "results_dropping_day = pd.DataFrame(index=range(21), columns=columns)\n",
    "model_list =[LinearRegression(), Ridge(), Lasso()]\n",
    "\n",
    "for i, model_item in enumerate(model_list):\n",
    "    if i == 0:\n",
    "        n = 0\n",
    "    elif i == 1:\n",
    "        n = 7\n",
    "    else:\n",
    "        n = 14\n",
    "            \n",
    "            \n",
    "    for i, day in enumerate(days_of_the_week):\n",
    "        bakery_data_for_model_drop = pd.get_dummies(bakery_daily)\n",
    "        # set y\n",
    "        y = bakery_data_for_model_drop['Item']\n",
    "        del bakery_data_for_model_drop[day]\n",
    "        del bakery_data_for_model_drop['Item']\n",
    "        del bakery_data_for_model_drop['Date']\n",
    "\n",
    "        X = bakery_data_for_model_drop\n",
    "\n",
    "        results_dropping_day.loc[i + n] = fit_linear_model(X, y, day, model_item)\n"
   ]
  },
  {
   "cell_type": "markdown",
   "metadata": {},
   "source": [
    "### For Linear regression there is no difference in terms of RMSE to drop any day, it is the interpretacion that will change only"
   ]
  },
  {
   "cell_type": "code",
   "execution_count": 28,
   "metadata": {},
   "outputs": [
    {
     "data": {
      "text/html": [
       "<div>\n",
       "<style scoped>\n",
       "    .dataframe tbody tr th:only-of-type {\n",
       "        vertical-align: middle;\n",
       "    }\n",
       "\n",
       "    .dataframe tbody tr th {\n",
       "        vertical-align: top;\n",
       "    }\n",
       "\n",
       "    .dataframe thead th {\n",
       "        text-align: right;\n",
       "    }\n",
       "</style>\n",
       "<table border=\"1\" class=\"dataframe\">\n",
       "  <thead>\n",
       "    <tr style=\"text-align: right;\">\n",
       "      <th></th>\n",
       "      <th>Day</th>\n",
       "      <th>MAE</th>\n",
       "      <th>RMSE</th>\n",
       "      <th>Intercept</th>\n",
       "      <th>Model</th>\n",
       "      <th>Coef</th>\n",
       "    </tr>\n",
       "  </thead>\n",
       "  <tbody>\n",
       "    <tr>\n",
       "      <th>0</th>\n",
       "      <td>Week_Day_Monday</td>\n",
       "      <td>21.536</td>\n",
       "      <td>27.9446</td>\n",
       "      <td>113.408</td>\n",
       "      <td>LinearRegression(copy_X=True, fit_intercept=Tr...</td>\n",
       "      <td>[60.114285714285835, -121.58045977011483, 21.4...</td>\n",
       "    </tr>\n",
       "    <tr>\n",
       "      <th>1</th>\n",
       "      <td>Week_Day_Tuesday</td>\n",
       "      <td>21.536</td>\n",
       "      <td>27.9446</td>\n",
       "      <td>101.444</td>\n",
       "      <td>LinearRegression(copy_X=True, fit_intercept=Tr...</td>\n",
       "      <td>[60.114285714285785, -121.58045977011497, 33.3...</td>\n",
       "    </tr>\n",
       "    <tr>\n",
       "      <th>2</th>\n",
       "      <td>Week_Day_Wednesday</td>\n",
       "      <td>21.536</td>\n",
       "      <td>27.9446</td>\n",
       "      <td>101.824</td>\n",
       "      <td>LinearRegression(copy_X=True, fit_intercept=Tr...</td>\n",
       "      <td>[60.114285714285664, -121.58045977011459, 33.0...</td>\n",
       "    </tr>\n",
       "    <tr>\n",
       "      <th>3</th>\n",
       "      <td>Week_Day_Thursday</td>\n",
       "      <td>21.536</td>\n",
       "      <td>27.9446</td>\n",
       "      <td>111.778</td>\n",
       "      <td>LinearRegression(copy_X=True, fit_intercept=Tr...</td>\n",
       "      <td>[60.11428571428574, -121.58045977011496, 23.05...</td>\n",
       "    </tr>\n",
       "    <tr>\n",
       "      <th>4</th>\n",
       "      <td>Week_Day_Friday</td>\n",
       "      <td>21.536</td>\n",
       "      <td>27.9446</td>\n",
       "      <td>134.833</td>\n",
       "      <td>LinearRegression(copy_X=True, fit_intercept=Tr...</td>\n",
       "      <td>[60.114285714285856, -121.58045977011496, -21....</td>\n",
       "    </tr>\n",
       "    <tr>\n",
       "      <th>5</th>\n",
       "      <td>Week_Day_Saturday</td>\n",
       "      <td>21.536</td>\n",
       "      <td>27.9446</td>\n",
       "      <td>183.286</td>\n",
       "      <td>LinearRegression(copy_X=True, fit_intercept=Tr...</td>\n",
       "      <td>[60.11428571428573, -121.58045977011489, -48.4...</td>\n",
       "    </tr>\n",
       "    <tr>\n",
       "      <th>6</th>\n",
       "      <td>Week_Day_Sunday</td>\n",
       "      <td>21.536</td>\n",
       "      <td>27.9446</td>\n",
       "      <td>137.925</td>\n",
       "      <td>LinearRegression(copy_X=True, fit_intercept=Tr...</td>\n",
       "      <td>[60.11428571428545, -121.58045977011479, -3.09...</td>\n",
       "    </tr>\n",
       "    <tr>\n",
       "      <th>7</th>\n",
       "      <td>Week_Day_Monday</td>\n",
       "      <td>22.0447</td>\n",
       "      <td>28.4258</td>\n",
       "      <td>114.41</td>\n",
       "      <td>Ridge(alpha=1.0, copy_X=True, fit_intercept=Tr...</td>\n",
       "      <td>[51.08367254479815, -91.01036819749653, 19.348...</td>\n",
       "    </tr>\n",
       "    <tr>\n",
       "      <th>8</th>\n",
       "      <td>Week_Day_Tuesday</td>\n",
       "      <td>21.9474</td>\n",
       "      <td>28.556</td>\n",
       "      <td>108.324</td>\n",
       "      <td>Ridge(alpha=1.0, copy_X=True, fit_intercept=Tr...</td>\n",
       "      <td>[51.40400809668016, -88.71865396830117, 25.114...</td>\n",
       "    </tr>\n",
       "    <tr>\n",
       "      <th>9</th>\n",
       "      <td>Week_Day_Wednesday</td>\n",
       "      <td>22.3026</td>\n",
       "      <td>28.5546</td>\n",
       "      <td>108.895</td>\n",
       "      <td>Ridge(alpha=1.0, copy_X=True, fit_intercept=Tr...</td>\n",
       "      <td>[51.37396040527296, -88.74070924020806, 24.573...</td>\n",
       "    </tr>\n",
       "    <tr>\n",
       "      <th>10</th>\n",
       "      <td>Week_Day_Thursday</td>\n",
       "      <td>22.0436</td>\n",
       "      <td>28.4666</td>\n",
       "      <td>115.767</td>\n",
       "      <td>Ridge(alpha=1.0, copy_X=True, fit_intercept=Tr...</td>\n",
       "      <td>[51.01224029676453, -89.00621500699796, 18.062...</td>\n",
       "    </tr>\n",
       "    <tr>\n",
       "      <th>11</th>\n",
       "      <td>Week_Day_Friday</td>\n",
       "      <td>22.0267</td>\n",
       "      <td>28.4332</td>\n",
       "      <td>132.375</td>\n",
       "      <td>Ridge(alpha=1.0, copy_X=True, fit_intercept=Tr...</td>\n",
       "      <td>[50.13813472168391, -89.64781624925156, -21.10...</td>\n",
       "    </tr>\n",
       "    <tr>\n",
       "      <th>12</th>\n",
       "      <td>Week_Day_Saturday</td>\n",
       "      <td>22.7713</td>\n",
       "      <td>29.017</td>\n",
       "      <td>167.103</td>\n",
       "      <td>Ridge(alpha=1.0, copy_X=True, fit_intercept=Tr...</td>\n",
       "      <td>[63.580887660017346, -90.98941040106816, -30.5...</td>\n",
       "    </tr>\n",
       "    <tr>\n",
       "      <th>13</th>\n",
       "      <td>Week_Day_Sunday</td>\n",
       "      <td>21.9488</td>\n",
       "      <td>28.4547</td>\n",
       "      <td>133.478</td>\n",
       "      <td>Ridge(alpha=1.0, copy_X=True, fit_intercept=Tr...</td>\n",
       "      <td>[50.080085655404524, -89.00003210735255, 1.283...</td>\n",
       "    </tr>\n",
       "    <tr>\n",
       "      <th>14</th>\n",
       "      <td>Week_Day_Monday</td>\n",
       "      <td>23.217</td>\n",
       "      <td>29.7385</td>\n",
       "      <td>113.615</td>\n",
       "      <td>Lasso(alpha=1.0, copy_X=True, fit_intercept=Tr...</td>\n",
       "      <td>[34.31852969561499, -75.6504763524924, 14.0502...</td>\n",
       "    </tr>\n",
       "    <tr>\n",
       "      <th>15</th>\n",
       "      <td>Week_Day_Tuesday</td>\n",
       "      <td>23.2339</td>\n",
       "      <td>29.8746</td>\n",
       "      <td>111.966</td>\n",
       "      <td>Lasso(alpha=1.0, copy_X=True, fit_intercept=Tr...</td>\n",
       "      <td>[34.31607692399094, -74.53061755867148, 15.700...</td>\n",
       "    </tr>\n",
       "    <tr>\n",
       "      <th>16</th>\n",
       "      <td>Week_Day_Wednesday</td>\n",
       "      <td>23.333</td>\n",
       "      <td>29.8488</td>\n",
       "      <td>112.282</td>\n",
       "      <td>Lasso(alpha=1.0, copy_X=True, fit_intercept=Tr...</td>\n",
       "      <td>[34.31629591181981, -74.74530501691663, 15.384...</td>\n",
       "    </tr>\n",
       "    <tr>\n",
       "      <th>17</th>\n",
       "      <td>Week_Day_Thursday</td>\n",
       "      <td>23.2171</td>\n",
       "      <td>29.7385</td>\n",
       "      <td>113.616</td>\n",
       "      <td>Lasso(alpha=1.0, copy_X=True, fit_intercept=Tr...</td>\n",
       "      <td>[34.320287140479294, -75.65144112379268, 14.04...</td>\n",
       "    </tr>\n",
       "    <tr>\n",
       "      <th>18</th>\n",
       "      <td>Week_Day_Friday</td>\n",
       "      <td>23.8033</td>\n",
       "      <td>30.2189</td>\n",
       "      <td>120.489</td>\n",
       "      <td>Lasso(alpha=1.0, copy_X=True, fit_intercept=Tr...</td>\n",
       "      <td>[34.30826394669396, -76.85543276927305, -5.099...</td>\n",
       "    </tr>\n",
       "    <tr>\n",
       "      <th>19</th>\n",
       "      <td>Week_Day_Saturday</td>\n",
       "      <td>25.9362</td>\n",
       "      <td>32.768</td>\n",
       "      <td>140.905</td>\n",
       "      <td>Lasso(alpha=1.0, copy_X=True, fit_intercept=Tr...</td>\n",
       "      <td>[76.69673906423067, -81.18223827824892, -0.0, ...</td>\n",
       "    </tr>\n",
       "    <tr>\n",
       "      <th>20</th>\n",
       "      <td>Week_Day_Sunday</td>\n",
       "      <td>23.5817</td>\n",
       "      <td>30.2786</td>\n",
       "      <td>121.873</td>\n",
       "      <td>Lasso(alpha=1.0, copy_X=True, fit_intercept=Tr...</td>\n",
       "      <td>[34.318932702426004, -74.38197506635106, 5.789...</td>\n",
       "    </tr>\n",
       "  </tbody>\n",
       "</table>\n",
       "</div>"
      ],
      "text/plain": [
       "                   Day      MAE     RMSE Intercept  \\\n",
       "0      Week_Day_Monday   21.536  27.9446   113.408   \n",
       "1     Week_Day_Tuesday   21.536  27.9446   101.444   \n",
       "2   Week_Day_Wednesday   21.536  27.9446   101.824   \n",
       "3    Week_Day_Thursday   21.536  27.9446   111.778   \n",
       "4      Week_Day_Friday   21.536  27.9446   134.833   \n",
       "5    Week_Day_Saturday   21.536  27.9446   183.286   \n",
       "6      Week_Day_Sunday   21.536  27.9446   137.925   \n",
       "7      Week_Day_Monday  22.0447  28.4258    114.41   \n",
       "8     Week_Day_Tuesday  21.9474   28.556   108.324   \n",
       "9   Week_Day_Wednesday  22.3026  28.5546   108.895   \n",
       "10   Week_Day_Thursday  22.0436  28.4666   115.767   \n",
       "11     Week_Day_Friday  22.0267  28.4332   132.375   \n",
       "12   Week_Day_Saturday  22.7713   29.017   167.103   \n",
       "13     Week_Day_Sunday  21.9488  28.4547   133.478   \n",
       "14     Week_Day_Monday   23.217  29.7385   113.615   \n",
       "15    Week_Day_Tuesday  23.2339  29.8746   111.966   \n",
       "16  Week_Day_Wednesday   23.333  29.8488   112.282   \n",
       "17   Week_Day_Thursday  23.2171  29.7385   113.616   \n",
       "18     Week_Day_Friday  23.8033  30.2189   120.489   \n",
       "19   Week_Day_Saturday  25.9362   32.768   140.905   \n",
       "20     Week_Day_Sunday  23.5817  30.2786   121.873   \n",
       "\n",
       "                                                Model  \\\n",
       "0   LinearRegression(copy_X=True, fit_intercept=Tr...   \n",
       "1   LinearRegression(copy_X=True, fit_intercept=Tr...   \n",
       "2   LinearRegression(copy_X=True, fit_intercept=Tr...   \n",
       "3   LinearRegression(copy_X=True, fit_intercept=Tr...   \n",
       "4   LinearRegression(copy_X=True, fit_intercept=Tr...   \n",
       "5   LinearRegression(copy_X=True, fit_intercept=Tr...   \n",
       "6   LinearRegression(copy_X=True, fit_intercept=Tr...   \n",
       "7   Ridge(alpha=1.0, copy_X=True, fit_intercept=Tr...   \n",
       "8   Ridge(alpha=1.0, copy_X=True, fit_intercept=Tr...   \n",
       "9   Ridge(alpha=1.0, copy_X=True, fit_intercept=Tr...   \n",
       "10  Ridge(alpha=1.0, copy_X=True, fit_intercept=Tr...   \n",
       "11  Ridge(alpha=1.0, copy_X=True, fit_intercept=Tr...   \n",
       "12  Ridge(alpha=1.0, copy_X=True, fit_intercept=Tr...   \n",
       "13  Ridge(alpha=1.0, copy_X=True, fit_intercept=Tr...   \n",
       "14  Lasso(alpha=1.0, copy_X=True, fit_intercept=Tr...   \n",
       "15  Lasso(alpha=1.0, copy_X=True, fit_intercept=Tr...   \n",
       "16  Lasso(alpha=1.0, copy_X=True, fit_intercept=Tr...   \n",
       "17  Lasso(alpha=1.0, copy_X=True, fit_intercept=Tr...   \n",
       "18  Lasso(alpha=1.0, copy_X=True, fit_intercept=Tr...   \n",
       "19  Lasso(alpha=1.0, copy_X=True, fit_intercept=Tr...   \n",
       "20  Lasso(alpha=1.0, copy_X=True, fit_intercept=Tr...   \n",
       "\n",
       "                                                 Coef  \n",
       "0   [60.114285714285835, -121.58045977011483, 21.4...  \n",
       "1   [60.114285714285785, -121.58045977011497, 33.3...  \n",
       "2   [60.114285714285664, -121.58045977011459, 33.0...  \n",
       "3   [60.11428571428574, -121.58045977011496, 23.05...  \n",
       "4   [60.114285714285856, -121.58045977011496, -21....  \n",
       "5   [60.11428571428573, -121.58045977011489, -48.4...  \n",
       "6   [60.11428571428545, -121.58045977011479, -3.09...  \n",
       "7   [51.08367254479815, -91.01036819749653, 19.348...  \n",
       "8   [51.40400809668016, -88.71865396830117, 25.114...  \n",
       "9   [51.37396040527296, -88.74070924020806, 24.573...  \n",
       "10  [51.01224029676453, -89.00621500699796, 18.062...  \n",
       "11  [50.13813472168391, -89.64781624925156, -21.10...  \n",
       "12  [63.580887660017346, -90.98941040106816, -30.5...  \n",
       "13  [50.080085655404524, -89.00003210735255, 1.283...  \n",
       "14  [34.31852969561499, -75.6504763524924, 14.0502...  \n",
       "15  [34.31607692399094, -74.53061755867148, 15.700...  \n",
       "16  [34.31629591181981, -74.74530501691663, 15.384...  \n",
       "17  [34.320287140479294, -75.65144112379268, 14.04...  \n",
       "18  [34.30826394669396, -76.85543276927305, -5.099...  \n",
       "19  [76.69673906423067, -81.18223827824892, -0.0, ...  \n",
       "20  [34.318932702426004, -74.38197506635106, 5.789...  "
      ]
     },
     "execution_count": 28,
     "metadata": {},
     "output_type": "execute_result"
    }
   ],
   "source": [
    "#Linear regression results\n",
    "results_dropping_day"
   ]
  },
  {
   "cell_type": "markdown",
   "metadata": {},
   "source": [
    "### Adding day of the week as dummies"
   ]
  },
  {
   "cell_type": "code",
   "execution_count": 29,
   "metadata": {},
   "outputs": [],
   "source": [
    "bakery_data_for_model = pd.get_dummies(bakery_daily)"
   ]
  },
  {
   "cell_type": "code",
   "execution_count": 30,
   "metadata": {},
   "outputs": [
    {
     "data": {
      "text/html": [
       "<div>\n",
       "<style scoped>\n",
       "    .dataframe tbody tr th:only-of-type {\n",
       "        vertical-align: middle;\n",
       "    }\n",
       "\n",
       "    .dataframe tbody tr th {\n",
       "        vertical-align: top;\n",
       "    }\n",
       "\n",
       "    .dataframe thead th {\n",
       "        text-align: right;\n",
       "    }\n",
       "</style>\n",
       "<table border=\"1\" class=\"dataframe\">\n",
       "  <thead>\n",
       "    <tr style=\"text-align: right;\">\n",
       "      <th></th>\n",
       "      <th>Item</th>\n",
       "      <th>is_local_event</th>\n",
       "      <th>is_bank_holiday</th>\n",
       "      <th>Date</th>\n",
       "      <th>Week_Day_Friday</th>\n",
       "      <th>Week_Day_Monday</th>\n",
       "      <th>Week_Day_Saturday</th>\n",
       "      <th>Week_Day_Sunday</th>\n",
       "      <th>Week_Day_Thursday</th>\n",
       "      <th>Week_Day_Tuesday</th>\n",
       "      <th>Week_Day_Wednesday</th>\n",
       "    </tr>\n",
       "    <tr>\n",
       "      <th>Date_Time</th>\n",
       "      <th></th>\n",
       "      <th></th>\n",
       "      <th></th>\n",
       "      <th></th>\n",
       "      <th></th>\n",
       "      <th></th>\n",
       "      <th></th>\n",
       "      <th></th>\n",
       "      <th></th>\n",
       "      <th></th>\n",
       "      <th></th>\n",
       "    </tr>\n",
       "  </thead>\n",
       "  <tbody>\n",
       "    <tr>\n",
       "      <th>2016-10-30</th>\n",
       "      <td>170</td>\n",
       "      <td>0</td>\n",
       "      <td>0</td>\n",
       "      <td>2016-10-30</td>\n",
       "      <td>0</td>\n",
       "      <td>0</td>\n",
       "      <td>0</td>\n",
       "      <td>1</td>\n",
       "      <td>0</td>\n",
       "      <td>0</td>\n",
       "      <td>0</td>\n",
       "    </tr>\n",
       "    <tr>\n",
       "      <th>2016-10-31</th>\n",
       "      <td>199</td>\n",
       "      <td>0</td>\n",
       "      <td>0</td>\n",
       "      <td>2016-10-31</td>\n",
       "      <td>0</td>\n",
       "      <td>1</td>\n",
       "      <td>0</td>\n",
       "      <td>0</td>\n",
       "      <td>0</td>\n",
       "      <td>0</td>\n",
       "      <td>0</td>\n",
       "    </tr>\n",
       "  </tbody>\n",
       "</table>\n",
       "</div>"
      ],
      "text/plain": [
       "            Item  is_local_event  is_bank_holiday       Date  Week_Day_Friday  \\\n",
       "Date_Time                                                                       \n",
       "2016-10-30   170               0                0 2016-10-30                0   \n",
       "2016-10-31   199               0                0 2016-10-31                0   \n",
       "\n",
       "            Week_Day_Monday  Week_Day_Saturday  Week_Day_Sunday  \\\n",
       "Date_Time                                                         \n",
       "2016-10-30                0                  0                1   \n",
       "2016-10-31                1                  0                0   \n",
       "\n",
       "            Week_Day_Thursday  Week_Day_Tuesday  Week_Day_Wednesday  \n",
       "Date_Time                                                            \n",
       "2016-10-30                  0                 0                   0  \n",
       "2016-10-31                  0                 0                   0  "
      ]
     },
     "execution_count": 30,
     "metadata": {},
     "output_type": "execute_result"
    }
   ],
   "source": [
    "bakery_data_for_model.head(2)"
   ]
  },
  {
   "cell_type": "markdown",
   "metadata": {},
   "source": [
    "### Dropping a day, in this case Wednesday"
   ]
  },
  {
   "cell_type": "code",
   "execution_count": 31,
   "metadata": {},
   "outputs": [],
   "source": [
    "del bakery_data_for_model['Week_Day_Wednesday']"
   ]
  },
  {
   "cell_type": "code",
   "execution_count": 32,
   "metadata": {},
   "outputs": [
    {
     "data": {
      "text/html": [
       "<div>\n",
       "<style scoped>\n",
       "    .dataframe tbody tr th:only-of-type {\n",
       "        vertical-align: middle;\n",
       "    }\n",
       "\n",
       "    .dataframe tbody tr th {\n",
       "        vertical-align: top;\n",
       "    }\n",
       "\n",
       "    .dataframe thead th {\n",
       "        text-align: right;\n",
       "    }\n",
       "</style>\n",
       "<table border=\"1\" class=\"dataframe\">\n",
       "  <thead>\n",
       "    <tr style=\"text-align: right;\">\n",
       "      <th></th>\n",
       "      <th>Item</th>\n",
       "      <th>is_local_event</th>\n",
       "      <th>is_bank_holiday</th>\n",
       "      <th>Date</th>\n",
       "      <th>Week_Day_Friday</th>\n",
       "      <th>Week_Day_Monday</th>\n",
       "      <th>Week_Day_Saturday</th>\n",
       "      <th>Week_Day_Sunday</th>\n",
       "      <th>Week_Day_Thursday</th>\n",
       "      <th>Week_Day_Tuesday</th>\n",
       "    </tr>\n",
       "    <tr>\n",
       "      <th>Date_Time</th>\n",
       "      <th></th>\n",
       "      <th></th>\n",
       "      <th></th>\n",
       "      <th></th>\n",
       "      <th></th>\n",
       "      <th></th>\n",
       "      <th></th>\n",
       "      <th></th>\n",
       "      <th></th>\n",
       "      <th></th>\n",
       "    </tr>\n",
       "  </thead>\n",
       "  <tbody>\n",
       "    <tr>\n",
       "      <th>2016-10-30</th>\n",
       "      <td>170</td>\n",
       "      <td>0</td>\n",
       "      <td>0</td>\n",
       "      <td>2016-10-30</td>\n",
       "      <td>0</td>\n",
       "      <td>0</td>\n",
       "      <td>0</td>\n",
       "      <td>1</td>\n",
       "      <td>0</td>\n",
       "      <td>0</td>\n",
       "    </tr>\n",
       "    <tr>\n",
       "      <th>2016-10-31</th>\n",
       "      <td>199</td>\n",
       "      <td>0</td>\n",
       "      <td>0</td>\n",
       "      <td>2016-10-31</td>\n",
       "      <td>0</td>\n",
       "      <td>1</td>\n",
       "      <td>0</td>\n",
       "      <td>0</td>\n",
       "      <td>0</td>\n",
       "      <td>0</td>\n",
       "    </tr>\n",
       "  </tbody>\n",
       "</table>\n",
       "</div>"
      ],
      "text/plain": [
       "            Item  is_local_event  is_bank_holiday       Date  Week_Day_Friday  \\\n",
       "Date_Time                                                                       \n",
       "2016-10-30   170               0                0 2016-10-30                0   \n",
       "2016-10-31   199               0                0 2016-10-31                0   \n",
       "\n",
       "            Week_Day_Monday  Week_Day_Saturday  Week_Day_Sunday  \\\n",
       "Date_Time                                                         \n",
       "2016-10-30                0                  0                1   \n",
       "2016-10-31                1                  0                0   \n",
       "\n",
       "            Week_Day_Thursday  Week_Day_Tuesday  \n",
       "Date_Time                                        \n",
       "2016-10-30                  0                 0  \n",
       "2016-10-31                  0                 0  "
      ]
     },
     "execution_count": 32,
     "metadata": {},
     "output_type": "execute_result"
    }
   ],
   "source": [
    "bakery_data_for_model.head(2)"
   ]
  },
  {
   "cell_type": "code",
   "execution_count": 33,
   "metadata": {},
   "outputs": [],
   "source": [
    "bakery_data_for_model.to_pickle('Data/bakery_data_for_model.pkl')"
   ]
  },
  {
   "cell_type": "code",
   "execution_count": 34,
   "metadata": {},
   "outputs": [
    {
     "data": {
      "text/plain": [
       "Index(['Item', 'is_local_event', 'is_bank_holiday', 'Date', 'Week_Day_Friday',\n",
       "       'Week_Day_Monday', 'Week_Day_Saturday', 'Week_Day_Sunday',\n",
       "       'Week_Day_Thursday', 'Week_Day_Tuesday'],\n",
       "      dtype='object')"
      ]
     },
     "execution_count": 34,
     "metadata": {},
     "output_type": "execute_result"
    }
   ],
   "source": [
    "bakery_data_for_model.columns"
   ]
  },
  {
   "cell_type": "code",
   "execution_count": 35,
   "metadata": {},
   "outputs": [
    {
     "data": {
      "text/plain": [
       "Date_Time\n",
       "2016-12-25     0\n",
       "2017-01-02     0\n",
       "2017-01-01     0\n",
       "2016-12-26     0\n",
       "2016-12-27    47\n",
       "Name: Item, dtype: int64"
      ]
     },
     "execution_count": 35,
     "metadata": {},
     "output_type": "execute_result"
    }
   ],
   "source": [
    "bakery_data_for_model['Item'].sort_values(ascending=True).head(5)"
   ]
  },
  {
   "cell_type": "markdown",
   "metadata": {},
   "source": [
    "### Train and Test split"
   ]
  },
  {
   "cell_type": "code",
   "execution_count": 36,
   "metadata": {},
   "outputs": [
    {
     "name": "stdout",
     "output_type": "stream",
     "text": [
      "129 33\n",
      "129 33\n"
     ]
    }
   ],
   "source": [
    "X = bakery_data_for_model[['is_local_event','is_bank_holiday','Week_Day_Friday', 'Week_Day_Monday',\n",
    "       'Week_Day_Saturday', 'Week_Day_Sunday', 'Week_Day_Thursday',\n",
    "       'Week_Day_Tuesday']]\n",
    "y = bakery_data_for_model['Item']\n",
    "\n",
    "\n",
    "X_train, X_test, y_train, y_test = train_test_split(X, y, test_size=0.2, random_state=42,shuffle=True)\n",
    "\n",
    "#transform the targe to get a simplier relation, in this case is log(x + 1) becuase there are zeros in data\n",
    "y_train_log = np.log(y_train + 1)\n",
    "y_test_log =  np.log(y_test + 1)\n",
    "\n",
    "print(len(X_train), len(X_test))\n",
    "print(len(y_train), len(y_test))\n"
   ]
  },
  {
   "cell_type": "markdown",
   "metadata": {},
   "source": [
    "### Tuning the linear regression"
   ]
  },
  {
   "cell_type": "code",
   "execution_count": 37,
   "metadata": {},
   "outputs": [
    {
     "name": "stdout",
     "output_type": "stream",
     "text": [
      "LinearRegression(copy_X=True, fit_intercept=True, n_jobs=1, normalize=False)\n"
     ]
    }
   ],
   "source": [
    "# Setup our GridSearch Parmaters\n",
    "search_parameters = {\n",
    "    'fit_intercept':  [True, False], \n",
    "    'normalize':      [False, True]\n",
    "}\n",
    "\n",
    "# Intialize a blank model object\n",
    "lm = LinearRegression()\n",
    "\n",
    "# Initialize gridsearch\n",
    "estimator = GridSearchCV(\n",
    "    lm, # estimator\n",
    "    search_parameters, # hyper-parameter space to search \n",
    "    cv=5, # number of folds\n",
    "    scoring=\"neg_mean_squared_error\", # scoring metric to optimise for\n",
    "    return_train_score=True,\n",
    "    iid=True\n",
    ")\n",
    "\n",
    "# Fit some data\n",
    "results = estimator.fit(X_train,y_train)\n",
    "print (results.best_estimator_)"
   ]
  },
  {
   "cell_type": "code",
   "execution_count": 38,
   "metadata": {},
   "outputs": [],
   "source": [
    "testing = pd.DataFrame(results.cv_results_)"
   ]
  },
  {
   "cell_type": "code",
   "execution_count": 39,
   "metadata": {},
   "outputs": [
    {
     "data": {
      "text/html": [
       "<div>\n",
       "<style scoped>\n",
       "    .dataframe tbody tr th:only-of-type {\n",
       "        vertical-align: middle;\n",
       "    }\n",
       "\n",
       "    .dataframe tbody tr th {\n",
       "        vertical-align: top;\n",
       "    }\n",
       "\n",
       "    .dataframe thead th {\n",
       "        text-align: right;\n",
       "    }\n",
       "</style>\n",
       "<table border=\"1\" class=\"dataframe\">\n",
       "  <thead>\n",
       "    <tr style=\"text-align: right;\">\n",
       "      <th></th>\n",
       "      <th>mean_fit_time</th>\n",
       "      <th>std_fit_time</th>\n",
       "      <th>mean_score_time</th>\n",
       "      <th>std_score_time</th>\n",
       "      <th>param_fit_intercept</th>\n",
       "      <th>param_normalize</th>\n",
       "      <th>params</th>\n",
       "      <th>split0_test_score</th>\n",
       "      <th>split1_test_score</th>\n",
       "      <th>split2_test_score</th>\n",
       "      <th>...</th>\n",
       "      <th>mean_test_score</th>\n",
       "      <th>std_test_score</th>\n",
       "      <th>rank_test_score</th>\n",
       "      <th>split0_train_score</th>\n",
       "      <th>split1_train_score</th>\n",
       "      <th>split2_train_score</th>\n",
       "      <th>split3_train_score</th>\n",
       "      <th>split4_train_score</th>\n",
       "      <th>mean_train_score</th>\n",
       "      <th>std_train_score</th>\n",
       "    </tr>\n",
       "  </thead>\n",
       "  <tbody>\n",
       "    <tr>\n",
       "      <th>0</th>\n",
       "      <td>0.003125</td>\n",
       "      <td>0.006251</td>\n",
       "      <td>0.000000</td>\n",
       "      <td>0.000000</td>\n",
       "      <td>True</td>\n",
       "      <td>False</td>\n",
       "      <td>{'fit_intercept': True, 'normalize': False}</td>\n",
       "      <td>-491.150572</td>\n",
       "      <td>-811.155286</td>\n",
       "      <td>-893.255890</td>\n",
       "      <td>...</td>\n",
       "      <td>-857.804033</td>\n",
       "      <td>224.594045</td>\n",
       "      <td>1</td>\n",
       "      <td>-867.221877</td>\n",
       "      <td>-782.675031</td>\n",
       "      <td>-756.331906</td>\n",
       "      <td>-766.158375</td>\n",
       "      <td>-691.631013</td>\n",
       "      <td>-772.803640</td>\n",
       "      <td>56.421132</td>\n",
       "    </tr>\n",
       "    <tr>\n",
       "      <th>1</th>\n",
       "      <td>0.006250</td>\n",
       "      <td>0.007655</td>\n",
       "      <td>0.000000</td>\n",
       "      <td>0.000000</td>\n",
       "      <td>True</td>\n",
       "      <td>True</td>\n",
       "      <td>{'fit_intercept': True, 'normalize': True}</td>\n",
       "      <td>-491.150572</td>\n",
       "      <td>-811.155286</td>\n",
       "      <td>-893.255890</td>\n",
       "      <td>...</td>\n",
       "      <td>-857.804033</td>\n",
       "      <td>224.594045</td>\n",
       "      <td>2</td>\n",
       "      <td>-867.221877</td>\n",
       "      <td>-782.675031</td>\n",
       "      <td>-756.331906</td>\n",
       "      <td>-766.158375</td>\n",
       "      <td>-691.631013</td>\n",
       "      <td>-772.803640</td>\n",
       "      <td>56.421132</td>\n",
       "    </tr>\n",
       "    <tr>\n",
       "      <th>2</th>\n",
       "      <td>0.003125</td>\n",
       "      <td>0.006250</td>\n",
       "      <td>0.003125</td>\n",
       "      <td>0.006251</td>\n",
       "      <td>False</td>\n",
       "      <td>False</td>\n",
       "      <td>{'fit_intercept': False, 'normalize': False}</td>\n",
       "      <td>-1345.988179</td>\n",
       "      <td>-1428.505714</td>\n",
       "      <td>-3174.953284</td>\n",
       "      <td>...</td>\n",
       "      <td>-2214.465597</td>\n",
       "      <td>771.665870</td>\n",
       "      <td>3</td>\n",
       "      <td>-2362.626407</td>\n",
       "      <td>-2337.691213</td>\n",
       "      <td>-1891.332789</td>\n",
       "      <td>-1940.554193</td>\n",
       "      <td>-2167.699694</td>\n",
       "      <td>-2139.980859</td>\n",
       "      <td>195.461309</td>\n",
       "    </tr>\n",
       "    <tr>\n",
       "      <th>3</th>\n",
       "      <td>0.003125</td>\n",
       "      <td>0.006251</td>\n",
       "      <td>0.000000</td>\n",
       "      <td>0.000000</td>\n",
       "      <td>False</td>\n",
       "      <td>True</td>\n",
       "      <td>{'fit_intercept': False, 'normalize': True}</td>\n",
       "      <td>-1345.988179</td>\n",
       "      <td>-1428.505714</td>\n",
       "      <td>-3174.953284</td>\n",
       "      <td>...</td>\n",
       "      <td>-2214.465597</td>\n",
       "      <td>771.665870</td>\n",
       "      <td>3</td>\n",
       "      <td>-2362.626407</td>\n",
       "      <td>-2337.691213</td>\n",
       "      <td>-1891.332789</td>\n",
       "      <td>-1940.554193</td>\n",
       "      <td>-2167.699694</td>\n",
       "      <td>-2139.980859</td>\n",
       "      <td>195.461309</td>\n",
       "    </tr>\n",
       "  </tbody>\n",
       "</table>\n",
       "<p>4 rows × 22 columns</p>\n",
       "</div>"
      ],
      "text/plain": [
       "   mean_fit_time  std_fit_time  mean_score_time  std_score_time  \\\n",
       "0       0.003125      0.006251         0.000000        0.000000   \n",
       "1       0.006250      0.007655         0.000000        0.000000   \n",
       "2       0.003125      0.006250         0.003125        0.006251   \n",
       "3       0.003125      0.006251         0.000000        0.000000   \n",
       "\n",
       "  param_fit_intercept param_normalize  \\\n",
       "0                True           False   \n",
       "1                True            True   \n",
       "2               False           False   \n",
       "3               False            True   \n",
       "\n",
       "                                         params  split0_test_score  \\\n",
       "0   {'fit_intercept': True, 'normalize': False}        -491.150572   \n",
       "1    {'fit_intercept': True, 'normalize': True}        -491.150572   \n",
       "2  {'fit_intercept': False, 'normalize': False}       -1345.988179   \n",
       "3   {'fit_intercept': False, 'normalize': True}       -1345.988179   \n",
       "\n",
       "   split1_test_score  split2_test_score       ...         mean_test_score  \\\n",
       "0        -811.155286        -893.255890       ...             -857.804033   \n",
       "1        -811.155286        -893.255890       ...             -857.804033   \n",
       "2       -1428.505714       -3174.953284       ...            -2214.465597   \n",
       "3       -1428.505714       -3174.953284       ...            -2214.465597   \n",
       "\n",
       "   std_test_score  rank_test_score  split0_train_score  split1_train_score  \\\n",
       "0      224.594045                1         -867.221877         -782.675031   \n",
       "1      224.594045                2         -867.221877         -782.675031   \n",
       "2      771.665870                3        -2362.626407        -2337.691213   \n",
       "3      771.665870                3        -2362.626407        -2337.691213   \n",
       "\n",
       "   split2_train_score  split3_train_score  split4_train_score  \\\n",
       "0         -756.331906         -766.158375         -691.631013   \n",
       "1         -756.331906         -766.158375         -691.631013   \n",
       "2        -1891.332789        -1940.554193        -2167.699694   \n",
       "3        -1891.332789        -1940.554193        -2167.699694   \n",
       "\n",
       "   mean_train_score  std_train_score  \n",
       "0       -772.803640        56.421132  \n",
       "1       -772.803640        56.421132  \n",
       "2      -2139.980859       195.461309  \n",
       "3      -2139.980859       195.461309  \n",
       "\n",
       "[4 rows x 22 columns]"
      ]
     },
     "execution_count": 39,
     "metadata": {},
     "output_type": "execute_result"
    }
   ],
   "source": [
    "testing"
   ]
  },
  {
   "cell_type": "markdown",
   "metadata": {},
   "source": [
    "### Fit the model"
   ]
  },
  {
   "cell_type": "code",
   "execution_count": 40,
   "metadata": {},
   "outputs": [
    {
     "data": {
      "text/plain": [
       "LinearRegression(copy_X=True, fit_intercept=True, n_jobs=1, normalize=False)"
      ]
     },
     "execution_count": 40,
     "metadata": {},
     "output_type": "execute_result"
    }
   ],
   "source": [
    "lr = LinearRegression(fit_intercept=True, normalize = False)\n",
    "lr_log = LinearRegression()\n",
    "\n",
    "#estimation the line\n",
    "lr.fit(X_train, y_train)\n",
    "lr_log.fit(X_train, y_train_log)"
   ]
  },
  {
   "cell_type": "code",
   "execution_count": 41,
   "metadata": {},
   "outputs": [
    {
     "name": "stdout",
     "output_type": "stream",
     "text": [
      "101.82352941176472 [('is_local_event', 60.114285714285664), ('is_bank_holiday', -121.58045977011459), ('Week_Day_Friday', 33.00980392156864), ('Week_Day_Monday', 11.584516565246737), ('Week_Day_Saturday', 81.46218487394964), ('Week_Day_Sunday', 36.10175794455708), ('Week_Day_Thursday', 9.954248366013022), ('Week_Day_Tuesday', -0.37908496732032404)]\n"
     ]
    }
   ],
   "source": [
    "print(lr.intercept_, [z for z in zip(X.columns, lr.coef_)])"
   ]
  },
  {
   "cell_type": "code",
   "execution_count": 42,
   "metadata": {},
   "outputs": [],
   "source": [
    "y_pred = lr.predict(X_train)\n",
    "y_pred_log = lr_log.predict(X_train)"
   ]
  },
  {
   "cell_type": "markdown",
   "metadata": {},
   "source": [
    "### Getting the best alpha to use in Ridge"
   ]
  },
  {
   "cell_type": "code",
   "execution_count": 43,
   "metadata": {},
   "outputs": [
    {
     "data": {
      "text/plain": [
       "GridSearchCV(cv=5, error_score='raise',\n",
       "       estimator=Ridge(alpha=1.0, copy_X=True, fit_intercept=True, max_iter=None,\n",
       "   normalize=False, random_state=None, solver='auto', tol=0.001),\n",
       "       fit_params=None, iid=True, n_jobs=1,\n",
       "       param_grid={'alpha': array([1.00000e-10, 1.12884e-09, 1.27427e-08, 1.43845e-07, 1.62378e-06,\n",
       "       1.83298e-05, 2.06914e-04, 2.33572e-03, 2.63665e-02, 2.97635e-01,\n",
       "       3.35982e+00, 3.79269e+01, 4.28133e+02, 4.83293e+03, 5.45559e+04,\n",
       "       6.15848e+05, 6.95193e+06, 7.84760e+07, 8.85867e+08, 1.00000e+10])},\n",
       "       pre_dispatch='2*n_jobs', refit=True, return_train_score=True,\n",
       "       scoring='neg_mean_squared_error', verbose=0)"
      ]
     },
     "execution_count": 43,
     "metadata": {},
     "output_type": "execute_result"
    }
   ],
   "source": [
    "grid = GridSearchCV(estimator=Ridge(),\n",
    "                    param_grid={'alpha': np.logspace(-10,10, 20)},\n",
    "                    scoring='neg_mean_squared_error',\n",
    "                    return_train_score=True,\n",
    "                    cv=5, \n",
    "                   iid=True)\n",
    "\n",
    "grid.fit(X_train,y_train)"
   ]
  },
  {
   "cell_type": "code",
   "execution_count": 44,
   "metadata": {},
   "outputs": [
    {
     "name": "stdout",
     "output_type": "stream",
     "text": [
      "29.288291747196283 {'alpha': 1e-10}\n"
     ]
    },
    {
     "data": {
      "text/plain": [
       "24.043677987737325"
      ]
     },
     "execution_count": 44,
     "metadata": {},
     "output_type": "execute_result"
    }
   ],
   "source": [
    "print(np.sqrt(-grid.best_score_), grid.best_params_)\n",
    "\n",
    "best_model = grid.best_estimator_\n",
    "np.sqrt(mean_squared_error(y_test, best_model.predict(X_test)))"
   ]
  },
  {
   "cell_type": "code",
   "execution_count": 45,
   "metadata": {},
   "outputs": [
    {
     "data": {
      "text/plain": [
       "{'alpha': 1e-10}"
      ]
     },
     "execution_count": 45,
     "metadata": {},
     "output_type": "execute_result"
    }
   ],
   "source": [
    "#really small alpha\n",
    "grid.best_params_"
   ]
  },
  {
   "cell_type": "code",
   "execution_count": 46,
   "metadata": {},
   "outputs": [
    {
     "name": "stdout",
     "output_type": "stream",
     "text": [
      "[  60.11428571 -121.58045977   33.00980392   11.58451657   81.46218487\n",
      "   36.10175794    9.95424837   -0.37908497] 27.944573751779 \n",
      "\n",
      "[  60.11428571 -121.58045977   33.00980392   11.58451656   81.46218487\n",
      "   36.10175794    9.95424836   -0.37908497] 27.944573751779\n"
     ]
    }
   ],
   "source": [
    "ridge = Ridge(alpha=1e-10, normalize=False)\n",
    "ridge.fit(X_train, y_train)\n",
    "\n",
    "print(lr.coef_, np.sqrt(mean_squared_error(y_train, lr.predict(X_train))), \"\\n\")\n",
    "print(ridge.coef_, np.sqrt(mean_squared_error(y_train, ridge.predict(X_train))))"
   ]
  },
  {
   "cell_type": "code",
   "execution_count": 47,
   "metadata": {},
   "outputs": [
    {
     "data": {
      "text/plain": [
       "<matplotlib.axes._subplots.AxesSubplot at 0x1d66805f5f8>"
      ]
     },
     "execution_count": 47,
     "metadata": {},
     "output_type": "execute_result"
    },
    {
     "data": {
      "image/png": "[encoded data removed]",
      "text/plain": [
       "<Figure size 432x288 with 1 Axes>"
      ]
     },
     "metadata": {
      "needs_background": "light"
     },
     "output_type": "display_data"
    }
   ],
   "source": [
    "predictors = X_train.columns\n",
    "\n",
    "coefRidge = Series(ridge.coef_,predictors).sort_values()\n",
    "\n",
    "coefRidge.plot(kind='bar', title='Coeficient with Ridge', grid=True)"
   ]
  },
  {
   "cell_type": "markdown",
   "metadata": {},
   "source": [
    "### fiting a lasso"
   ]
  },
  {
   "cell_type": "code",
   "execution_count": 48,
   "metadata": {},
   "outputs": [
    {
     "data": {
      "text/plain": [
       "Lasso(alpha=1.0, copy_X=True, fit_intercept=True, max_iter=1000,\n",
       "   normalize=False, positive=False, precompute=False, random_state=None,\n",
       "   selection='cyclic', tol=0.0001, warm_start=False)"
      ]
     },
     "execution_count": 48,
     "metadata": {},
     "output_type": "execute_result"
    }
   ],
   "source": [
    "lasso = Lasso(normalize=False)\n",
    "\n",
    "lasso.fit(X_train, y_train)"
   ]
  },
  {
   "cell_type": "code",
   "execution_count": 49,
   "metadata": {},
   "outputs": [
    {
     "data": {
      "text/plain": [
       "<matplotlib.axes._subplots.AxesSubplot at 0x1d6680c97f0>"
      ]
     },
     "execution_count": 49,
     "metadata": {},
     "output_type": "execute_result"
    },
    {
     "data": {
      "image/png": "[encoded data removed]",
      "text/plain": [
       "<Figure size 432x288 with 1 Axes>"
      ]
     },
     "metadata": {
      "needs_background": "light"
     },
     "output_type": "display_data"
    }
   ],
   "source": [
    "predictors = X_train.columns\n",
    "\n",
    "coefLasso = Series(lasso.coef_,predictors).sort_values()\n",
    "\n",
    "coefLasso.plot(kind='bar', title='Coeficient with Lasso', grid=True)"
   ]
  },
  {
   "cell_type": "markdown",
   "metadata": {},
   "source": [
    "### Get the RMSE and scores for all models"
   ]
  },
  {
   "cell_type": "code",
   "execution_count": 50,
   "metadata": {},
   "outputs": [],
   "source": [
    "#Get the RMSE and score of all models in a dataframe\n",
    "RMSE_SCORES_results = pd.DataFrame(columns=['Model', 'Train_RMSE', 'Test_RMSE', 'Train_Score','Test_Score'], index=range(3))\n",
    "model_list = [lr,ridge,lasso]\n",
    "y_pred_mean_train = [y_train.mean()] * len(y_train)\n",
    "y_pred_mean_test = [y_test.mean()] * len(y_test)\n",
    "\n",
    "for i, item in enumerate(model_list):\n",
    "    rmse_train = np.sqrt(mean_squared_error(y_train, item.predict(X_train)))\n",
    "    rmse_test = np.sqrt(mean_squared_error(y_test, item.predict(X_test)))\n",
    "    score_train = item.score(X_train, y_train)\n",
    "    score_test = item.score(X_test, y_test)\n",
    "    item_str = str(item)\n",
    "    RMSE_SCORES_results.loc[i] = [item_str[:6], rmse_train, rmse_test, score_train,score_test]\n",
    "\n",
    "RMSE_SCORES_results.loc[3] = ['Baseline',  np.sqrt(metrics.mean_squared_error(y_train, y_pred_mean_train)), np.sqrt(metrics.mean_squared_error(y_test, y_pred_mean_test)),0.0, 0.0]\n",
    "\n",
    "RMSE_SCORES_results.index = RMSE_SCORES_results.Model"
   ]
  },
  {
   "cell_type": "code",
   "execution_count": 51,
   "metadata": {},
   "outputs": [
    {
     "data": {
      "text/html": [
       "<div>\n",
       "<style scoped>\n",
       "    .dataframe tbody tr th:only-of-type {\n",
       "        vertical-align: middle;\n",
       "    }\n",
       "\n",
       "    .dataframe tbody tr th {\n",
       "        vertical-align: top;\n",
       "    }\n",
       "\n",
       "    .dataframe thead th {\n",
       "        text-align: right;\n",
       "    }\n",
       "</style>\n",
       "<table border=\"1\" class=\"dataframe\">\n",
       "  <thead>\n",
       "    <tr style=\"text-align: right;\">\n",
       "      <th></th>\n",
       "      <th>Model</th>\n",
       "      <th>Train_RMSE</th>\n",
       "      <th>Test_RMSE</th>\n",
       "      <th>Train_Score</th>\n",
       "      <th>Test_Score</th>\n",
       "    </tr>\n",
       "    <tr>\n",
       "      <th>Model</th>\n",
       "      <th></th>\n",
       "      <th></th>\n",
       "      <th></th>\n",
       "      <th></th>\n",
       "      <th></th>\n",
       "    </tr>\n",
       "  </thead>\n",
       "  <tbody>\n",
       "    <tr>\n",
       "      <th>Linear</th>\n",
       "      <td>Linear</td>\n",
       "      <td>27.9446</td>\n",
       "      <td>24.0437</td>\n",
       "      <td>0.658351</td>\n",
       "      <td>0.7452</td>\n",
       "    </tr>\n",
       "    <tr>\n",
       "      <th>Ridge(</th>\n",
       "      <td>Ridge(</td>\n",
       "      <td>27.9446</td>\n",
       "      <td>24.0437</td>\n",
       "      <td>0.658351</td>\n",
       "      <td>0.7452</td>\n",
       "    </tr>\n",
       "    <tr>\n",
       "      <th>Lasso(</th>\n",
       "      <td>Lasso(</td>\n",
       "      <td>29.8488</td>\n",
       "      <td>28.5961</td>\n",
       "      <td>0.610204</td>\n",
       "      <td>0.639576</td>\n",
       "    </tr>\n",
       "    <tr>\n",
       "      <th>Baseline</th>\n",
       "      <td>Baseline</td>\n",
       "      <td>47.8088</td>\n",
       "      <td>47.6322</td>\n",
       "      <td>0</td>\n",
       "      <td>0</td>\n",
       "    </tr>\n",
       "  </tbody>\n",
       "</table>\n",
       "</div>"
      ],
      "text/plain": [
       "             Model Train_RMSE Test_RMSE Train_Score Test_Score\n",
       "Model                                                         \n",
       "Linear      Linear    27.9446   24.0437    0.658351     0.7452\n",
       "Ridge(      Ridge(    27.9446   24.0437    0.658351     0.7452\n",
       "Lasso(      Lasso(    29.8488   28.5961    0.610204   0.639576\n",
       "Baseline  Baseline    47.8088   47.6322           0          0"
      ]
     },
     "execution_count": 51,
     "metadata": {},
     "output_type": "execute_result"
    }
   ],
   "source": [
    "RMSE_SCORES_results"
   ]
  },
  {
   "cell_type": "code",
   "execution_count": 52,
   "metadata": {
    "scrolled": true
   },
   "outputs": [
    {
     "data": {
      "text/plain": [
       "<matplotlib.axes._subplots.AxesSubplot at 0x1d6681bb0b8>"
      ]
     },
     "execution_count": 52,
     "metadata": {},
     "output_type": "execute_result"
    },
    {
     "data": {
      "image/png": "[encoded data removed]",
      "text/plain": [
       "<Figure size 1080x576 with 4 Axes>"
      ]
     },
     "metadata": {
      "needs_background": "light"
     },
     "output_type": "display_data"
    }
   ],
   "source": [
    "fig, axes = plt.subplots(2, 2, figsize=(15,8), sharex=False, sharey=True, squeeze=False)\n",
    "\n",
    "fig.suptitle('RMSE and Score', fontsize=12)\n",
    "fig.text(0.06, 0.5, 'Total Item Sold', ha='center', va='center', rotation='vertical')\n",
    "#fig.text(0.5, 0.04, 'Hours', ha='center', va='center')\n",
    "RMSE_train_graph = RMSE_SCORES_results['Train_RMSE']\n",
    "RMSE_train_graph.plot(ax=axes[0][0], grid=True, kind='barh', title='RMSE for train')\n",
    "\n",
    "RMSE_test_graph = RMSE_SCORES_results['Test_RMSE']\n",
    "RMSE_test_graph.plot(ax=axes[0][1], grid=True, kind='barh', title='RMSE for test')\n",
    "\n",
    "score_train_graph = RMSE_SCORES_results['Train_Score']\n",
    "score_train_graph.plot(ax=axes[1][0], grid=True, kind='barh', title='Score for train')\n",
    "\n",
    "score_test_graph = RMSE_SCORES_results['Test_Score']\n",
    "score_test_graph.plot(ax=axes[1][1], grid=True, kind='barh', title='Score for test')\n",
    "\n",
    "#plt.xticks(rotation=45)\n",
    "#RMSE_SCORES_results['Train_RMSE'].plot(kind='bar')"
   ]
  },
  {
   "cell_type": "markdown",
   "metadata": {},
   "source": [
    "### Let's run cross validation on all models"
   ]
  },
  {
   "cell_type": "markdown",
   "metadata": {},
   "source": [
    "- All models have a little of a variance problem"
   ]
  },
  {
   "cell_type": "code",
   "execution_count": 53,
   "metadata": {},
   "outputs": [],
   "source": [
    "def cross_validation_test(model_name, x_data, y_data, scoring_name, n):\n",
    "    cv_scores = cross_val_score(model_name, x_data, y_data, scoring=scoring_name, cv=n)\n",
    "    return np.sqrt(-cv_scores), np.sqrt(-cv_scores.mean())"
   ]
  },
  {
   "cell_type": "code",
   "execution_count": 68,
   "metadata": {},
   "outputs": [
    {
     "name": "stdout",
     "output_type": "stream",
     "text": [
      "Training set\n",
      "Results for LinearRegr\n",
      "(array([39.59427891, 54.50391573, 26.81688843, 22.51864725, 25.02456108]), 35.75149616136107)\n",
      "Results for Ridge(alph\n",
      "(array([39.59427891, 54.50391573, 26.81688843, 22.51864725, 25.02456108]), 35.75149616133811)\n",
      "Results for Lasso(alph\n",
      "(array([41.63633919, 53.85217082, 30.42497134, 25.91261097, 23.34773934]), 36.8127702416697)\n"
     ]
    }
   ],
   "source": [
    "RMSE_SCORES_results = pd.DataFrame(columns=['Model', 'RMSE', 'Average RMSE'], index=range(2))\n",
    "model_list = [lr,ridge,lasso]\n",
    "print('Training set')            \n",
    "for item in model_list:\n",
    "    model_string = str(item)\n",
    "    print('Results for ' + model_string[:10])\n",
    "    print(cross_validation_test(item,  X, y, 'neg_mean_squared_error', 5))\n",
    "                                            "
   ]
  },
  {
   "cell_type": "code",
   "execution_count": 56,
   "metadata": {},
   "outputs": [],
   "source": [
    "results_pred_train = pd.DataFrame({'Actual': y_train, 'LR_Pred': lr.predict(X_train), 'LR_log_Pred': np.exp(lr_log.predict(X_train))-1, 'Lasso_Pred': lasso.predict(X_train), 'Ridge_Pred': ridge.predict(X_train)}) "
   ]
  },
  {
   "cell_type": "code",
   "execution_count": 57,
   "metadata": {},
   "outputs": [
    {
     "data": {
      "text/html": [
       "<div>\n",
       "<style scoped>\n",
       "    .dataframe tbody tr th:only-of-type {\n",
       "        vertical-align: middle;\n",
       "    }\n",
       "\n",
       "    .dataframe tbody tr th {\n",
       "        vertical-align: top;\n",
       "    }\n",
       "\n",
       "    .dataframe thead th {\n",
       "        text-align: right;\n",
       "    }\n",
       "</style>\n",
       "<table border=\"1\" class=\"dataframe\">\n",
       "  <thead>\n",
       "    <tr style=\"text-align: right;\">\n",
       "      <th></th>\n",
       "      <th>Actual</th>\n",
       "      <th>LR_Pred</th>\n",
       "      <th>LR_log_Pred</th>\n",
       "      <th>Lasso_Pred</th>\n",
       "      <th>Ridge_Pred</th>\n",
       "    </tr>\n",
       "  </thead>\n",
       "  <tbody>\n",
       "    <tr>\n",
       "      <th>count</th>\n",
       "      <td>129.000000</td>\n",
       "      <td>129.000000</td>\n",
       "      <td>129.000000</td>\n",
       "      <td>129.000000</td>\n",
       "      <td>129.000000</td>\n",
       "    </tr>\n",
       "    <tr>\n",
       "      <th>mean</th>\n",
       "      <td>126.379845</td>\n",
       "      <td>126.379845</td>\n",
       "      <td>123.265221</td>\n",
       "      <td>126.379845</td>\n",
       "      <td>126.379845</td>\n",
       "    </tr>\n",
       "    <tr>\n",
       "      <th>std</th>\n",
       "      <td>47.995148</td>\n",
       "      <td>38.942705</td>\n",
       "      <td>38.874134</td>\n",
       "      <td>31.164718</td>\n",
       "      <td>38.942705</td>\n",
       "    </tr>\n",
       "    <tr>\n",
       "      <th>min</th>\n",
       "      <td>0.000000</td>\n",
       "      <td>-8.172414</td>\n",
       "      <td>-0.062910</td>\n",
       "      <td>37.536583</td>\n",
       "      <td>-8.172414</td>\n",
       "    </tr>\n",
       "    <tr>\n",
       "      <th>25%</th>\n",
       "      <td>95.000000</td>\n",
       "      <td>101.823529</td>\n",
       "      <td>99.215595</td>\n",
       "      <td>112.281888</td>\n",
       "      <td>101.823529</td>\n",
       "    </tr>\n",
       "    <tr>\n",
       "      <th>50%</th>\n",
       "      <td>117.000000</td>\n",
       "      <td>113.408046</td>\n",
       "      <td>109.334294</td>\n",
       "      <td>112.281888</td>\n",
       "      <td>113.408046</td>\n",
       "    </tr>\n",
       "    <tr>\n",
       "      <th>75%</th>\n",
       "      <td>151.000000</td>\n",
       "      <td>137.925287</td>\n",
       "      <td>133.080854</td>\n",
       "      <td>128.670728</td>\n",
       "      <td>137.925287</td>\n",
       "    </tr>\n",
       "    <tr>\n",
       "      <th>max</th>\n",
       "      <td>275.000000</td>\n",
       "      <td>243.400000</td>\n",
       "      <td>242.600802</td>\n",
       "      <td>217.601309</td>\n",
       "      <td>243.400000</td>\n",
       "    </tr>\n",
       "  </tbody>\n",
       "</table>\n",
       "</div>"
      ],
      "text/plain": [
       "           Actual     LR_Pred  LR_log_Pred  Lasso_Pred  Ridge_Pred\n",
       "count  129.000000  129.000000   129.000000  129.000000  129.000000\n",
       "mean   126.379845  126.379845   123.265221  126.379845  126.379845\n",
       "std     47.995148   38.942705    38.874134   31.164718   38.942705\n",
       "min      0.000000   -8.172414    -0.062910   37.536583   -8.172414\n",
       "25%     95.000000  101.823529    99.215595  112.281888  101.823529\n",
       "50%    117.000000  113.408046   109.334294  112.281888  113.408046\n",
       "75%    151.000000  137.925287   133.080854  128.670728  137.925287\n",
       "max    275.000000  243.400000   242.600802  217.601309  243.400000"
      ]
     },
     "execution_count": 57,
     "metadata": {},
     "output_type": "execute_result"
    }
   ],
   "source": [
    "results_pred_train.describe()"
   ]
  },
  {
   "cell_type": "markdown",
   "metadata": {},
   "source": [
    "### Comparing results"
   ]
  },
  {
   "cell_type": "markdown",
   "metadata": {},
   "source": [
    "We are getting negative sales for the bank holiday, not perfect models but in here it does not matter as we  know that that is not possible and at the same time is doing a good job predicting the rest. "
   ]
  },
  {
   "cell_type": "code",
   "execution_count": 58,
   "metadata": {},
   "outputs": [
    {
     "data": {
      "text/plain": [
       "<matplotlib.axes._subplots.AxesSubplot at 0x1d66859b588>"
      ]
     },
     "execution_count": 58,
     "metadata": {},
     "output_type": "execute_result"
    },
    {
     "data": {
      "image/png": "[encoded data removed]",
      "text/plain": [
       "<Figure size 432x288 with 1 Axes>"
      ]
     },
     "metadata": {
      "needs_background": "light"
     },
     "output_type": "display_data"
    }
   ],
   "source": [
    "results_pred_train.boxplot()"
   ]
  },
  {
   "cell_type": "code",
   "execution_count": 59,
   "metadata": {},
   "outputs": [
    {
     "data": {
      "text/plain": [
       "<matplotlib.axes._subplots.AxesSubplot at 0x1d668385d68>"
      ]
     },
     "execution_count": 59,
     "metadata": {},
     "output_type": "execute_result"
    },
    {
     "data": {
      "image/png": "[encoded data removed]",
      "text/plain": [
       "<Figure size 1080x504 with 1 Axes>"
      ]
     },
     "metadata": {
      "needs_background": "light"
     },
     "output_type": "display_data"
    }
   ],
   "source": [
    "results_pred_train[['Actual', 'LR_Pred', 'Lasso_Pred', 'Ridge_Pred']].plot(figsize=(15,7), style={'Actual': '-or', 'LR_Pred': '-ob', 'Lasso_Pred': '-oy', 'Ridge_Pred': '-og'}, grid=True)"
   ]
  },
  {
   "cell_type": "code",
   "execution_count": 60,
   "metadata": {},
   "outputs": [],
   "source": [
    "results_pred_test = pd.DataFrame({'Actual': y_test, 'LR_Pred': lr.predict(X_test),'LR_log_Pred': np.exp(lr_log.predict(X_test))-1,'Lasso_Pred': lasso.predict(X_test), 'Ridge_Pred': ridge.predict(X_test)})  "
   ]
  },
  {
   "cell_type": "code",
   "execution_count": 61,
   "metadata": {},
   "outputs": [
    {
     "data": {
      "text/plain": [
       "<matplotlib.axes._subplots.AxesSubplot at 0x1d66840a2b0>"
      ]
     },
     "execution_count": 61,
     "metadata": {},
     "output_type": "execute_result"
    },
    {
     "data": {
      "image/png": "[encoded data removed]",
      "text/plain": [
       "<Figure size 432x288 with 1 Axes>"
      ]
     },
     "metadata": {
      "needs_background": "light"
     },
     "output_type": "display_data"
    }
   ],
   "source": [
    "results_pred_test.boxplot()"
   ]
  },
  {
   "cell_type": "code",
   "execution_count": 62,
   "metadata": {},
   "outputs": [
    {
     "data": {
      "text/plain": [
       "<matplotlib.axes._subplots.AxesSubplot at 0x1d6684c3da0>"
      ]
     },
     "execution_count": 62,
     "metadata": {},
     "output_type": "execute_result"
    },
    {
     "data": {
      "image/png": "[encoded data removed]",
      "text/plain": [
       "<Figure size 1080x504 with 1 Axes>"
      ]
     },
     "metadata": {
      "needs_background": "light"
     },
     "output_type": "display_data"
    }
   ],
   "source": [
    "results_pred_test[['Actual', 'LR_Pred', 'Lasso_Pred', 'Ridge_Pred']].plot(figsize=(15,7), style={'Actual': '-or', 'LR_Pred': '-ob', 'Lasso_Pred': '-oy', 'Ridge_Pred': '-og'}, grid=True)"
   ]
  },
  {
   "cell_type": "code",
   "execution_count": 63,
   "metadata": {},
   "outputs": [
    {
     "data": {
      "text/html": [
       "<div>\n",
       "<style scoped>\n",
       "    .dataframe tbody tr th:only-of-type {\n",
       "        vertical-align: middle;\n",
       "    }\n",
       "\n",
       "    .dataframe tbody tr th {\n",
       "        vertical-align: top;\n",
       "    }\n",
       "\n",
       "    .dataframe thead th {\n",
       "        text-align: right;\n",
       "    }\n",
       "</style>\n",
       "<table border=\"1\" class=\"dataframe\">\n",
       "  <thead>\n",
       "    <tr style=\"text-align: right;\">\n",
       "      <th></th>\n",
       "      <th>Actual</th>\n",
       "      <th>LR_Pred</th>\n",
       "      <th>LR_log_Pred</th>\n",
       "      <th>Lasso_Pred</th>\n",
       "      <th>Ridge_Pred</th>\n",
       "    </tr>\n",
       "    <tr>\n",
       "      <th>Date_Time</th>\n",
       "      <th></th>\n",
       "      <th></th>\n",
       "      <th></th>\n",
       "      <th></th>\n",
       "      <th></th>\n",
       "    </tr>\n",
       "  </thead>\n",
       "  <tbody>\n",
       "    <tr>\n",
       "      <th>2016-11-08</th>\n",
       "      <td>146</td>\n",
       "      <td>101.444444</td>\n",
       "      <td>98.776649</td>\n",
       "      <td>108.611111</td>\n",
       "      <td>101.444444</td>\n",
       "    </tr>\n",
       "    <tr>\n",
       "      <th>2016-11-11</th>\n",
       "      <td>173</td>\n",
       "      <td>134.833333</td>\n",
       "      <td>132.253018</td>\n",
       "      <td>127.666196</td>\n",
       "      <td>134.833333</td>\n",
       "    </tr>\n",
       "    <tr>\n",
       "      <th>2016-11-14</th>\n",
       "      <td>148</td>\n",
       "      <td>113.408046</td>\n",
       "      <td>109.334294</td>\n",
       "      <td>112.281888</td>\n",
       "      <td>113.408046</td>\n",
       "    </tr>\n",
       "    <tr>\n",
       "      <th>2016-11-15</th>\n",
       "      <td>125</td>\n",
       "      <td>101.444444</td>\n",
       "      <td>98.776649</td>\n",
       "      <td>108.611111</td>\n",
       "      <td>101.444444</td>\n",
       "    </tr>\n",
       "    <tr>\n",
       "      <th>2016-11-17</th>\n",
       "      <td>135</td>\n",
       "      <td>111.777778</td>\n",
       "      <td>108.651329</td>\n",
       "      <td>112.281888</td>\n",
       "      <td>111.777778</td>\n",
       "    </tr>\n",
       "    <tr>\n",
       "      <th>2016-11-18</th>\n",
       "      <td>158</td>\n",
       "      <td>134.833333</td>\n",
       "      <td>132.253018</td>\n",
       "      <td>127.666196</td>\n",
       "      <td>134.833333</td>\n",
       "    </tr>\n",
       "    <tr>\n",
       "      <th>2016-11-23</th>\n",
       "      <td>79</td>\n",
       "      <td>101.823529</td>\n",
       "      <td>99.215595</td>\n",
       "      <td>112.281888</td>\n",
       "      <td>101.823529</td>\n",
       "    </tr>\n",
       "    <tr>\n",
       "      <th>2016-11-28</th>\n",
       "      <td>85</td>\n",
       "      <td>113.408046</td>\n",
       "      <td>109.334294</td>\n",
       "      <td>112.281888</td>\n",
       "      <td>113.408046</td>\n",
       "    </tr>\n",
       "    <tr>\n",
       "      <th>2016-11-29</th>\n",
       "      <td>93</td>\n",
       "      <td>101.444444</td>\n",
       "      <td>98.776649</td>\n",
       "      <td>108.611111</td>\n",
       "      <td>101.444444</td>\n",
       "    </tr>\n",
       "    <tr>\n",
       "      <th>2016-11-30</th>\n",
       "      <td>102</td>\n",
       "      <td>101.823529</td>\n",
       "      <td>99.215595</td>\n",
       "      <td>112.281888</td>\n",
       "      <td>101.823529</td>\n",
       "    </tr>\n",
       "    <tr>\n",
       "      <th>2016-12-20</th>\n",
       "      <td>95</td>\n",
       "      <td>101.444444</td>\n",
       "      <td>98.776649</td>\n",
       "      <td>108.611111</td>\n",
       "      <td>101.444444</td>\n",
       "    </tr>\n",
       "    <tr>\n",
       "      <th>2016-12-24</th>\n",
       "      <td>169</td>\n",
       "      <td>183.285714</td>\n",
       "      <td>180.271483</td>\n",
       "      <td>183.285013</td>\n",
       "      <td>183.285714</td>\n",
       "    </tr>\n",
       "    <tr>\n",
       "      <th>2016-12-25</th>\n",
       "      <td>0</td>\n",
       "      <td>16.344828</td>\n",
       "      <td>0.138774</td>\n",
       "      <td>53.925423</td>\n",
       "      <td>16.344828</td>\n",
       "    </tr>\n",
       "    <tr>\n",
       "      <th>2016-12-29</th>\n",
       "      <td>149</td>\n",
       "      <td>111.777778</td>\n",
       "      <td>108.651329</td>\n",
       "      <td>112.281888</td>\n",
       "      <td>111.777778</td>\n",
       "    </tr>\n",
       "    <tr>\n",
       "      <th>2017-01-04</th>\n",
       "      <td>76</td>\n",
       "      <td>101.823529</td>\n",
       "      <td>99.215595</td>\n",
       "      <td>112.281888</td>\n",
       "      <td>101.823529</td>\n",
       "    </tr>\n",
       "    <tr>\n",
       "      <th>2017-01-13</th>\n",
       "      <td>109</td>\n",
       "      <td>134.833333</td>\n",
       "      <td>132.253018</td>\n",
       "      <td>127.666196</td>\n",
       "      <td>134.833333</td>\n",
       "    </tr>\n",
       "    <tr>\n",
       "      <th>2017-01-16</th>\n",
       "      <td>66</td>\n",
       "      <td>113.408046</td>\n",
       "      <td>109.334294</td>\n",
       "      <td>112.281888</td>\n",
       "      <td>113.408046</td>\n",
       "    </tr>\n",
       "    <tr>\n",
       "      <th>2017-01-22</th>\n",
       "      <td>166</td>\n",
       "      <td>137.925287</td>\n",
       "      <td>133.080854</td>\n",
       "      <td>128.670728</td>\n",
       "      <td>137.925287</td>\n",
       "    </tr>\n",
       "    <tr>\n",
       "      <th>2017-02-01</th>\n",
       "      <td>124</td>\n",
       "      <td>101.823529</td>\n",
       "      <td>99.215595</td>\n",
       "      <td>112.281888</td>\n",
       "      <td>101.823529</td>\n",
       "    </tr>\n",
       "    <tr>\n",
       "      <th>2017-02-04</th>\n",
       "      <td>292</td>\n",
       "      <td>243.400000</td>\n",
       "      <td>242.600802</td>\n",
       "      <td>217.601309</td>\n",
       "      <td>243.400000</td>\n",
       "    </tr>\n",
       "    <tr>\n",
       "      <th>2017-02-05</th>\n",
       "      <td>170</td>\n",
       "      <td>137.925287</td>\n",
       "      <td>133.080854</td>\n",
       "      <td>128.670728</td>\n",
       "      <td>137.925287</td>\n",
       "    </tr>\n",
       "    <tr>\n",
       "      <th>2017-02-07</th>\n",
       "      <td>107</td>\n",
       "      <td>101.444444</td>\n",
       "      <td>98.776649</td>\n",
       "      <td>108.611111</td>\n",
       "      <td>101.444444</td>\n",
       "    </tr>\n",
       "    <tr>\n",
       "      <th>2017-02-08</th>\n",
       "      <td>103</td>\n",
       "      <td>101.823529</td>\n",
       "      <td>99.215595</td>\n",
       "      <td>112.281888</td>\n",
       "      <td>101.823529</td>\n",
       "    </tr>\n",
       "    <tr>\n",
       "      <th>2017-02-11</th>\n",
       "      <td>185</td>\n",
       "      <td>183.285714</td>\n",
       "      <td>180.271483</td>\n",
       "      <td>183.285013</td>\n",
       "      <td>183.285714</td>\n",
       "    </tr>\n",
       "    <tr>\n",
       "      <th>2017-02-12</th>\n",
       "      <td>113</td>\n",
       "      <td>137.925287</td>\n",
       "      <td>133.080854</td>\n",
       "      <td>128.670728</td>\n",
       "      <td>137.925287</td>\n",
       "    </tr>\n",
       "    <tr>\n",
       "      <th>2017-02-16</th>\n",
       "      <td>109</td>\n",
       "      <td>111.777778</td>\n",
       "      <td>108.651329</td>\n",
       "      <td>112.281888</td>\n",
       "      <td>111.777778</td>\n",
       "    </tr>\n",
       "    <tr>\n",
       "      <th>2017-03-10</th>\n",
       "      <td>139</td>\n",
       "      <td>134.833333</td>\n",
       "      <td>132.253018</td>\n",
       "      <td>127.666196</td>\n",
       "      <td>134.833333</td>\n",
       "    </tr>\n",
       "    <tr>\n",
       "      <th>2017-03-12</th>\n",
       "      <td>146</td>\n",
       "      <td>137.925287</td>\n",
       "      <td>133.080854</td>\n",
       "      <td>128.670728</td>\n",
       "      <td>137.925287</td>\n",
       "    </tr>\n",
       "    <tr>\n",
       "      <th>2017-03-17</th>\n",
       "      <td>118</td>\n",
       "      <td>134.833333</td>\n",
       "      <td>132.253018</td>\n",
       "      <td>127.666196</td>\n",
       "      <td>134.833333</td>\n",
       "    </tr>\n",
       "    <tr>\n",
       "      <th>2017-03-22</th>\n",
       "      <td>105</td>\n",
       "      <td>101.823529</td>\n",
       "      <td>99.215595</td>\n",
       "      <td>112.281888</td>\n",
       "      <td>101.823529</td>\n",
       "    </tr>\n",
       "    <tr>\n",
       "      <th>2017-03-23</th>\n",
       "      <td>123</td>\n",
       "      <td>111.777778</td>\n",
       "      <td>108.651329</td>\n",
       "      <td>112.281888</td>\n",
       "      <td>111.777778</td>\n",
       "    </tr>\n",
       "    <tr>\n",
       "      <th>2017-04-01</th>\n",
       "      <td>176</td>\n",
       "      <td>183.285714</td>\n",
       "      <td>180.271483</td>\n",
       "      <td>183.285013</td>\n",
       "      <td>183.285714</td>\n",
       "    </tr>\n",
       "    <tr>\n",
       "      <th>2017-04-06</th>\n",
       "      <td>118</td>\n",
       "      <td>111.777778</td>\n",
       "      <td>108.651329</td>\n",
       "      <td>112.281888</td>\n",
       "      <td>111.777778</td>\n",
       "    </tr>\n",
       "  </tbody>\n",
       "</table>\n",
       "</div>"
      ],
      "text/plain": [
       "            Actual     LR_Pred  LR_log_Pred  Lasso_Pred  Ridge_Pred\n",
       "Date_Time                                                          \n",
       "2016-11-08     146  101.444444    98.776649  108.611111  101.444444\n",
       "2016-11-11     173  134.833333   132.253018  127.666196  134.833333\n",
       "2016-11-14     148  113.408046   109.334294  112.281888  113.408046\n",
       "2016-11-15     125  101.444444    98.776649  108.611111  101.444444\n",
       "2016-11-17     135  111.777778   108.651329  112.281888  111.777778\n",
       "2016-11-18     158  134.833333   132.253018  127.666196  134.833333\n",
       "2016-11-23      79  101.823529    99.215595  112.281888  101.823529\n",
       "2016-11-28      85  113.408046   109.334294  112.281888  113.408046\n",
       "2016-11-29      93  101.444444    98.776649  108.611111  101.444444\n",
       "2016-11-30     102  101.823529    99.215595  112.281888  101.823529\n",
       "2016-12-20      95  101.444444    98.776649  108.611111  101.444444\n",
       "2016-12-24     169  183.285714   180.271483  183.285013  183.285714\n",
       "2016-12-25       0   16.344828     0.138774   53.925423   16.344828\n",
       "2016-12-29     149  111.777778   108.651329  112.281888  111.777778\n",
       "2017-01-04      76  101.823529    99.215595  112.281888  101.823529\n",
       "2017-01-13     109  134.833333   132.253018  127.666196  134.833333\n",
       "2017-01-16      66  113.408046   109.334294  112.281888  113.408046\n",
       "2017-01-22     166  137.925287   133.080854  128.670728  137.925287\n",
       "2017-02-01     124  101.823529    99.215595  112.281888  101.823529\n",
       "2017-02-04     292  243.400000   242.600802  217.601309  243.400000\n",
       "2017-02-05     170  137.925287   133.080854  128.670728  137.925287\n",
       "2017-02-07     107  101.444444    98.776649  108.611111  101.444444\n",
       "2017-02-08     103  101.823529    99.215595  112.281888  101.823529\n",
       "2017-02-11     185  183.285714   180.271483  183.285013  183.285714\n",
       "2017-02-12     113  137.925287   133.080854  128.670728  137.925287\n",
       "2017-02-16     109  111.777778   108.651329  112.281888  111.777778\n",
       "2017-03-10     139  134.833333   132.253018  127.666196  134.833333\n",
       "2017-03-12     146  137.925287   133.080854  128.670728  137.925287\n",
       "2017-03-17     118  134.833333   132.253018  127.666196  134.833333\n",
       "2017-03-22     105  101.823529    99.215595  112.281888  101.823529\n",
       "2017-03-23     123  111.777778   108.651329  112.281888  111.777778\n",
       "2017-04-01     176  183.285714   180.271483  183.285013  183.285714\n",
       "2017-04-06     118  111.777778   108.651329  112.281888  111.777778"
      ]
     },
     "execution_count": 63,
     "metadata": {},
     "output_type": "execute_result"
    }
   ],
   "source": [
    "results_pred_test.sort_index()"
   ]
  },
  {
   "cell_type": "code",
   "execution_count": 64,
   "metadata": {},
   "outputs": [
    {
     "data": {
      "text/html": [
       "<div>\n",
       "<style scoped>\n",
       "    .dataframe tbody tr th:only-of-type {\n",
       "        vertical-align: middle;\n",
       "    }\n",
       "\n",
       "    .dataframe tbody tr th {\n",
       "        vertical-align: top;\n",
       "    }\n",
       "\n",
       "    .dataframe thead th {\n",
       "        text-align: right;\n",
       "    }\n",
       "</style>\n",
       "<table border=\"1\" class=\"dataframe\">\n",
       "  <thead>\n",
       "    <tr style=\"text-align: right;\">\n",
       "      <th></th>\n",
       "      <th>Actual</th>\n",
       "      <th>LR_Pred</th>\n",
       "      <th>LR_log_Pred</th>\n",
       "      <th>Lasso_Pred</th>\n",
       "      <th>Ridge_Pred</th>\n",
       "    </tr>\n",
       "  </thead>\n",
       "  <tbody>\n",
       "    <tr>\n",
       "      <th>count</th>\n",
       "      <td>33.000000</td>\n",
       "      <td>33.000000</td>\n",
       "      <td>33.000000</td>\n",
       "      <td>33.000000</td>\n",
       "      <td>33.000000</td>\n",
       "    </tr>\n",
       "    <tr>\n",
       "      <th>mean</th>\n",
       "      <td>127.333333</td>\n",
       "      <td>122.810491</td>\n",
       "      <td>119.320572</td>\n",
       "      <td>123.921141</td>\n",
       "      <td>122.810491</td>\n",
       "    </tr>\n",
       "    <tr>\n",
       "      <th>std</th>\n",
       "      <td>48.370747</td>\n",
       "      <td>37.200543</td>\n",
       "      <td>38.545770</td>\n",
       "      <td>29.302592</td>\n",
       "      <td>37.200543</td>\n",
       "    </tr>\n",
       "    <tr>\n",
       "      <th>min</th>\n",
       "      <td>0.000000</td>\n",
       "      <td>16.344828</td>\n",
       "      <td>0.138774</td>\n",
       "      <td>53.925423</td>\n",
       "      <td>16.344828</td>\n",
       "    </tr>\n",
       "    <tr>\n",
       "      <th>25%</th>\n",
       "      <td>103.000000</td>\n",
       "      <td>101.823529</td>\n",
       "      <td>99.215595</td>\n",
       "      <td>112.281888</td>\n",
       "      <td>101.823529</td>\n",
       "    </tr>\n",
       "    <tr>\n",
       "      <th>50%</th>\n",
       "      <td>123.000000</td>\n",
       "      <td>111.777778</td>\n",
       "      <td>108.651329</td>\n",
       "      <td>112.281888</td>\n",
       "      <td>111.777778</td>\n",
       "    </tr>\n",
       "    <tr>\n",
       "      <th>75%</th>\n",
       "      <td>149.000000</td>\n",
       "      <td>134.833333</td>\n",
       "      <td>132.253018</td>\n",
       "      <td>127.666196</td>\n",
       "      <td>134.833333</td>\n",
       "    </tr>\n",
       "    <tr>\n",
       "      <th>max</th>\n",
       "      <td>292.000000</td>\n",
       "      <td>243.400000</td>\n",
       "      <td>242.600802</td>\n",
       "      <td>217.601309</td>\n",
       "      <td>243.400000</td>\n",
       "    </tr>\n",
       "  </tbody>\n",
       "</table>\n",
       "</div>"
      ],
      "text/plain": [
       "           Actual     LR_Pred  LR_log_Pred  Lasso_Pred  Ridge_Pred\n",
       "count   33.000000   33.000000    33.000000   33.000000   33.000000\n",
       "mean   127.333333  122.810491   119.320572  123.921141  122.810491\n",
       "std     48.370747   37.200543    38.545770   29.302592   37.200543\n",
       "min      0.000000   16.344828     0.138774   53.925423   16.344828\n",
       "25%    103.000000  101.823529    99.215595  112.281888  101.823529\n",
       "50%    123.000000  111.777778   108.651329  112.281888  111.777778\n",
       "75%    149.000000  134.833333   132.253018  127.666196  134.833333\n",
       "max    292.000000  243.400000   242.600802  217.601309  243.400000"
      ]
     },
     "execution_count": 64,
     "metadata": {},
     "output_type": "execute_result"
    }
   ],
   "source": [
    "results_pred_test.describe()"
   ]
  },
  {
   "cell_type": "code",
   "execution_count": 65,
   "metadata": {},
   "outputs": [
    {
     "data": {
      "text/html": [
       "<div>\n",
       "<style scoped>\n",
       "    .dataframe tbody tr th:only-of-type {\n",
       "        vertical-align: middle;\n",
       "    }\n",
       "\n",
       "    .dataframe tbody tr th {\n",
       "        vertical-align: top;\n",
       "    }\n",
       "\n",
       "    .dataframe thead th {\n",
       "        text-align: right;\n",
       "    }\n",
       "</style>\n",
       "<table border=\"1\" class=\"dataframe\">\n",
       "  <thead>\n",
       "    <tr style=\"text-align: right;\">\n",
       "      <th></th>\n",
       "      <th>Actual</th>\n",
       "      <th>LR_Pred</th>\n",
       "      <th>LR_log_Pred</th>\n",
       "      <th>Lasso_Pred</th>\n",
       "      <th>Ridge_Pred</th>\n",
       "    </tr>\n",
       "    <tr>\n",
       "      <th>Date_Time</th>\n",
       "      <th></th>\n",
       "      <th></th>\n",
       "      <th></th>\n",
       "      <th></th>\n",
       "      <th></th>\n",
       "    </tr>\n",
       "  </thead>\n",
       "  <tbody>\n",
       "    <tr>\n",
       "      <th>2016-11-08</th>\n",
       "      <td>146</td>\n",
       "      <td>101.444444</td>\n",
       "      <td>98.776649</td>\n",
       "      <td>108.611111</td>\n",
       "      <td>101.444444</td>\n",
       "    </tr>\n",
       "    <tr>\n",
       "      <th>2016-11-11</th>\n",
       "      <td>173</td>\n",
       "      <td>134.833333</td>\n",
       "      <td>132.253018</td>\n",
       "      <td>127.666196</td>\n",
       "      <td>134.833333</td>\n",
       "    </tr>\n",
       "  </tbody>\n",
       "</table>\n",
       "</div>"
      ],
      "text/plain": [
       "            Actual     LR_Pred  LR_log_Pred  Lasso_Pred  Ridge_Pred\n",
       "Date_Time                                                          \n",
       "2016-11-08     146  101.444444    98.776649  108.611111  101.444444\n",
       "2016-11-11     173  134.833333   132.253018  127.666196  134.833333"
      ]
     },
     "execution_count": 65,
     "metadata": {},
     "output_type": "execute_result"
    }
   ],
   "source": [
    "results_pred_test.sort_index().head(2)"
   ]
  },
  {
   "cell_type": "code",
   "execution_count": 66,
   "metadata": {},
   "outputs": [],
   "source": [
    "results_pred_test.to_pickle('Data/results_pred_test.pkl')"
   ]
  },
  {
   "cell_type": "code",
   "execution_count": 67,
   "metadata": {},
   "outputs": [],
   "source": [
    "results_pred_train.to_pickle('Data/results_pred_train.pkl')"
   ]
  },
  {
   "cell_type": "markdown",
   "metadata": {},
   "source": [
    "### Conclusion\n",
    "For the purpose of predicting daily sales from a bakery the best model to use and the simplest is Linear Regression, it is not perfect specially when the sales are really high, but because we know that we could make adjustments. \n",
    "- Bank holiday sales are not negative there are zero\n",
    "- The model underestimates sales for local events\n",
    "- For the rest the models makes good predictions"
   ]
  },
  {
   "cell_type": "code",
   "execution_count": null,
   "metadata": {},
   "outputs": [],
   "source": []
  }
 ],
 "metadata": {
  "kernelspec": {
   "display_name": "Python 3",
   "language": "python",
   "name": "python3"
  },
  "language_info": {
   "codemirror_mode": {
    "name": "ipython",
    "version": 3
   },
   "file_extension": ".py",
   "mimetype": "text/x-python",
   "name": "python",
   "nbconvert_exporter": "python",
   "pygments_lexer": "ipython3",
   "version": "3.7.0"
  }
 },
 "nbformat": 4,
 "nbformat_minor": 2
}
